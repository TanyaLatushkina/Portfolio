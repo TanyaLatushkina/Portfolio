{
 "cells": [
  {
   "cell_type": "markdown",
   "metadata": {
    "toc": true
   },
   "source": [
    "<h1>Table of Contents<span class=\"tocSkip\"></span></h1>\n",
    "<div class=\"toc\"><ul class=\"toc-item\"><li><span><a href=\"#Загрузка-и-анализ-данных\" data-toc-modified-id=\"Загрузка-и-анализ-данных-1\"><span class=\"toc-item-num\">1&nbsp;&nbsp;</span>Загрузка и анализ данных</a></span></li><li><span><a href=\"#Модели-трекинга\" data-toc-modified-id=\"Модели-трекинга-2\"><span class=\"toc-item-num\">2&nbsp;&nbsp;</span>Модели трекинга</a></span><ul class=\"toc-item\"><li><span><a href=\"#Базовая-модель-BoT-SORT\" data-toc-modified-id=\"Базовая-модель-BoT-SORT-2.1\"><span class=\"toc-item-num\">2.1&nbsp;&nbsp;</span>Базовая модель BoT-SORT</a></span><ul class=\"toc-item\"><li><span><a href=\"#Расчёт-треков\" data-toc-modified-id=\"Расчёт-треков-2.1.1\"><span class=\"toc-item-num\">2.1.1&nbsp;&nbsp;</span>Расчёт треков</a></span></li><li><span><a href=\"#Метрика\" data-toc-modified-id=\"Метрика-2.1.2\"><span class=\"toc-item-num\">2.1.2&nbsp;&nbsp;</span>Метрика</a></span></li></ul></li><li><span><a href=\"#Модель-ByteTrack\" data-toc-modified-id=\"Модель-ByteTrack-2.2\"><span class=\"toc-item-num\">2.2&nbsp;&nbsp;</span>Модель ByteTrack</a></span><ul class=\"toc-item\"><li><span><a href=\"#Метрика\" data-toc-modified-id=\"Метрика-2.2.1\"><span class=\"toc-item-num\">2.2.1&nbsp;&nbsp;</span>Метрика</a></span></li></ul></li></ul></li><li><span><a href=\"#Анализ-результатов\" data-toc-modified-id=\"Анализ-результатов-3\"><span class=\"toc-item-num\">3&nbsp;&nbsp;</span>Анализ результатов</a></span><ul class=\"toc-item\"><li><span><a href=\"#Сводная-таблица-по-результатам\" data-toc-modified-id=\"Сводная-таблица-по-результатам-3.1\"><span class=\"toc-item-num\">3.1&nbsp;&nbsp;</span>Сводная таблица по результатам</a></span></li><li><span><a href=\"#Базовая-модель\" data-toc-modified-id=\"Базовая-модель-3.2\"><span class=\"toc-item-num\">3.2&nbsp;&nbsp;</span>Базовая модель</a></span></li><li><span><a href=\"#Модель-bytetrack\" data-toc-modified-id=\"Модель-bytetrack-3.3\"><span class=\"toc-item-num\">3.3&nbsp;&nbsp;</span>Модель bytetrack</a></span></li></ul></li><li><span><a href=\"#Визуальный-анализ-треков-обектов\" data-toc-modified-id=\"Визуальный-анализ-треков-обектов-4\"><span class=\"toc-item-num\">4&nbsp;&nbsp;</span>Визуальный анализ треков обектов</a></span></li><li><span><a href=\"#Подбор-границ-трекинга-объектов\" data-toc-modified-id=\"Подбор-границ-трекинга-объектов-5\"><span class=\"toc-item-num\">5&nbsp;&nbsp;</span>Подбор границ трекинга объектов</a></span></li><li><span><a href=\"#Приложение-1-(Дополнительная-демонстрация-работы-модели)\" data-toc-modified-id=\"Приложение-1-(Дополнительная-демонстрация-работы-модели)-6\"><span class=\"toc-item-num\">6&nbsp;&nbsp;</span>Приложение 1 (Дополнительная демонстрация работы модели)</a></span><ul class=\"toc-item\"><li><span><a href=\"#Создание-функций\" data-toc-modified-id=\"Создание-функций-6.1\"><span class=\"toc-item-num\">6.1&nbsp;&nbsp;</span>Создание функций</a></span></li><li><span><a href=\"#Код-для-демонстрации-работы-функции.\" data-toc-modified-id=\"Код-для-демонстрации-работы-функции.-6.2\"><span class=\"toc-item-num\">6.2&nbsp;&nbsp;</span>Код для демонстрации работы функции.</a></span></li></ul></li><li><span><a href=\"#Общий-вывод\" data-toc-modified-id=\"Общий-вывод-7\"><span class=\"toc-item-num\">7&nbsp;&nbsp;</span>Общий вывод</a></span></li></ul></div>"
   ]
  },
  {
   "cell_type": "markdown",
   "metadata": {},
   "source": [
    "# Трекинг объектов для компании Ренью"
   ]
  },
  {
   "cell_type": "markdown",
   "metadata": {},
   "source": [
    "__Задача:__\n",
    "\n",
    "Необходимо разработать решение для отслеживания и сортировки мусора на конвейере – выделять пластиковые бутылки в общем потоке предметов.\n",
    "\n",
    "__Метрика:__\n",
    "\n",
    "Необходимо максимизировать метрику MOTA (Multiple Object Tracking Accuracy), которая вычисляется по формуле:\n",
    "\n",
    "$$ MOTA = 1 - \\frac{\\sum_tFN_t+FP_t+IDS_t}{\\sum_tGT_t},   $$ \n",
    " где \\\\( FN_t , \\\\) - количество пропусков на кадре 𝑡, \n",
    "\n",
    "   \\\\( FP_t , \\\\) - количество ложных срабатываний на кадре 𝑡,\n",
    " \n",
    "   \\\\( IDS_t , \\\\) - количество несоответствий на кадре 𝑡,\n",
    " \n",
    "   \\\\( IGT_t , \\\\) - количество размеченных объектов на кадре 𝑡.\n",
    "\n",
    "__Данные:__\n",
    "\n",
    "yolov10x_v2_4_best.pt - модель детектора\n",
    "\n",
    "gt.txt - истинный файл с данными о треке объекта.\n",
    "\n",
    "labels.txt - файл с наименованием классов для сортировки.\n",
    "\n",
    "images - папка с фреймами обектов.\n",
    "\n",
    "test.mp4 - тестовое видео передвижения обьектов на конвейере.\n",
    "\n",
    "__План работы:__\n",
    "\n",
    "* Загрузка библиотек.\n",
    "* Установка параметров проекта.\n",
    "* Ознакомление с данными.\n",
    "* Построение baseline решения.\n",
    "* Обучить трекер с использованием алгоритма трекинга ByteTrack.\n",
    "* Проанализировать результат, в том числе визуально.\n",
    "* Подобрать границы трекинга объектов.\n",
    "* Рассчитать время на обработку одного кадра.\n"
   ]
  },
  {
   "cell_type": "code",
   "execution_count": null,
   "metadata": {},
   "outputs": [],
   "source": [
    "!pip install git+https://github.com/ultralytics/ultralytics.git@main -q\n",
    "!pip install motmetrics -q"
   ]
  },
  {
   "cell_type": "code",
   "execution_count": null,
   "metadata": {},
   "outputs": [],
   "source": [
    "# подгружаем библиотеки\n",
    "\n",
    "import os\n",
    "\n",
    "import pandas as pd\n",
    "import cv2\n",
    "import motmetrics as mm\n",
    "import numpy as np\n",
    "import matplotlib.pyplot as plt\n",
    "\n",
    "from ultralytics import YOLO\n",
    "from tqdm.notebook import tqdm_notebook\n",
    "from collections import defaultdict\n",
    "from time import time\n",
    "import pandas as pd\n",
    "import numpy as np\n",
    "\n",
    "from tqdm import tqdm\n",
    "from tqdm.notebook import tqdm_notebook\n",
    "\n",
    "\n",
    "from PIL import Image\n",
    "from scipy.optimize import curve_fit\n",
    "from sklearn.linear_model import LinearRegression\n",
    "\n",
    "import warnings\n",
    "warnings.simplefilter('ignore')"
   ]
  },
  {
   "cell_type": "code",
   "execution_count": null,
   "metadata": {},
   "outputs": [],
   "source": [
    "# константы\n",
    "dir_name_gt = '/kaggle/input/renue-o/gt.txt'\n",
    "dir_name_labels = '/kaggle/input/renue-o/labels.txt'\n",
    "model = '/kaggle/input/renue-o/yolov10x_v2_4_best.pt'\n",
    "path_images = '/kaggle/input/renue-o/images/images'\n",
    "df_predict = '/kaggle/input/renue-o/df_predict.csv'\n",
    "df_predict_bytetrack = '/kaggle/input/renue-o/df_predict_bytetrack.csv'\n",
    "path_video = '/kaggle/input/renue-o/test.mp4'\n",
    "MAX_IOU = 0.5"
   ]
  },
  {
   "cell_type": "markdown",
   "metadata": {},
   "source": [
    "## Загрузка и анализ данных"
   ]
  },
  {
   "cell_type": "code",
   "execution_count": null,
   "metadata": {},
   "outputs": [],
   "source": [
    "# истинные данные о треке объектов\n",
    "try:\n",
    "    df_gt = pd.read_csv(dir_name_gt, names=['frame', 'id', 'x1', 'y1', 'w', 'h', 'conf', 'class', 'visibility'])\n",
    "except Exception as ex: \n",
    "    print(ex)   "
   ]
  },
  {
   "cell_type": "code",
   "execution_count": null,
   "metadata": {},
   "outputs": [],
   "source": [
    "# классы для сортировки\n",
    "try:\n",
    "    df_labels = pd.read_csv(dir_name_labels, names=['label'])\n",
    "except Exception as ex: \n",
    "    print(ex) "
   ]
  },
  {
   "cell_type": "code",
   "execution_count": null,
   "metadata": {},
   "outputs": [],
   "source": [
    "# добавляем колонки с дефолтными значениями для 2D изображений \n",
    "df_gt['x'] = -1\n",
    "df_gt['y'] = -1\n",
    "df_gt['z'] = -1"
   ]
  },
  {
   "cell_type": "code",
   "execution_count": null,
   "metadata": {},
   "outputs": [],
   "source": [
    "# функция для изучения данных\n",
    "def info(data):\n",
    "    display(data.info())\n",
    "    print('-' * 60)\n",
    "    display(data.sample(10))\n",
    "    print('-' * 60)\n",
    "    display(data.query('frame==40'))\n",
    "    print('-' * 60)\n",
    "    display(data.describe().T)\n",
    "    print('-' * 60)\n",
    "    print(data.isna().sum())\n",
    "    print('-' * 60)\n",
    "    print('Количество дубликатов: ', data.duplicated().sum())\n",
    "    print('-' * 60)\n",
    "    print('Количество признаков: ', data.shape[1], 'Количество значений: ', data.shape[0])"
   ]
  },
  {
   "cell_type": "code",
   "execution_count": null,
   "metadata": {},
   "outputs": [],
   "source": [
    "# посмотрим на данные трека обектов\n",
    "info(df_gt)"
   ]
  },
  {
   "cell_type": "code",
   "execution_count": null,
   "metadata": {},
   "outputs": [],
   "source": [
    "# изучим уникальные значения для 'conf', 'class', 'visibility'\n",
    "for col in ['conf', 'class', 'visibility']:\n",
    "    print('-' * 20)\n",
    "    print(f'Колонка {col}:')\n",
    "    print(df_gt[col].value_counts()) "
   ]
  },
  {
   "cell_type": "code",
   "execution_count": null,
   "metadata": {},
   "outputs": [],
   "source": [
    "# классы сортировки\n",
    "display(df_labels)"
   ]
  },
  {
   "cell_type": "markdown",
   "metadata": {},
   "source": [
    "__Вывод:__\n",
    "* Данные о треке объектов состоят из 46531 значений и 12 признаков. Пропуски и дубликаты отсутствуют. В одном фрейме может быть несколько обьектов. \n",
    "* Всего 4 класса для сортировки: НП, ПЭТ, ПНД, ДП."
   ]
  },
  {
   "cell_type": "markdown",
   "metadata": {},
   "source": [
    "## Модели трекинга"
   ]
  },
  {
   "cell_type": "code",
   "execution_count": null,
   "metadata": {},
   "outputs": [],
   "source": [
    "def motMetricsEnhancedCalculator(df_target, df_predict):\n",
    "    \n",
    "    '''\n",
    "    Функция вычисляет метрики MOTA и MOTP для задачи отслеживания объектов. \n",
    "    Она принимает два аргумента:\n",
    "\n",
    "    df_target — фрейм данных с истинными положениями объектов;\n",
    "    df_predict — фрейм данных с предсказанными положениями объектов.\n",
    "    \n",
    "    Функция использует библиотеку motmetrics для вычисления метрик. \n",
    "    \n",
    "    В ней происходит следующее:\n",
    "\n",
    "    1) Создаётся экземпляр класса MOTAccumulator, который будет накапливать \n",
    "    информацию о совпадениях между истинными и предсказанными объектами.\n",
    "    \n",
    "    2) Для каждого кадра в диапазоне от 1 до максимального номера кадра во \n",
    "    входном наборе данных выполняется следующая последовательность действий:\n",
    "     - Извлекаются истинные и предсказанные положения объектов для текущего \n",
    "     кадра.\n",
    "     - Вычисляется матрица пересечений над объединением (IOU) между истинными \n",
    "     и предсказанными прямоугольниками.\n",
    "     - Информация о совпадениях добавляется в экземпляр MOTAccumulator.\n",
    "     \n",
    "    3) После обработки всех кадров создаются экземпляры классов mota и motp, \n",
    "    которые используются для вычисления итоговых значений метрик MOTA и MOTP.\n",
    "    \n",
    "    4) Возвращаются значения MOTA и MOTP в виде кортежа.\n",
    "    '''\n",
    "    \n",
    "    gt = df_target.values\n",
    "    t = df_predict.values\n",
    "\n",
    "    acc = mm.MOTAccumulator(auto_id=True)\n",
    "    \n",
    "    for frame in range(int(gt[:,0].max())):\n",
    "        frame += 1\n",
    "\n",
    "        gt_dets = gt[gt[:,0]==frame,1:6]\n",
    "        t_dets = t[t[:,0]==frame,1:6]\n",
    "\n",
    "        C = mm.distances.iou_matrix(gt_dets[:,1:], t_dets[:,1:], max_iou=0.5)\n",
    "\n",
    "        acc.update(gt_dets[:,0].astype('int').tolist(), t_dets[:,0].astype('int').tolist(), C)\n",
    "\n",
    "    mh = mm.metrics.create()\n",
    "    \n",
    "    summary = mh.compute(acc, \n",
    "                         metrics=['mota', 'motp'],\n",
    "                         name='acc'\n",
    "                        )\n",
    "\n",
    "    \n",
    "    return summary['mota'][0], summary['motp'][0]"
   ]
  },
  {
   "cell_type": "code",
   "execution_count": null,
   "metadata": {},
   "outputs": [],
   "source": [
    "# создадим сводную таблицу\n",
    "pivot_table = pd.DataFrame(columns=['model', 'mota', 'motp'])"
   ]
  },
  {
   "cell_type": "code",
   "execution_count": null,
   "metadata": {},
   "outputs": [],
   "source": [
    "# список имён файлов и каталогов \n",
    "frame_files = [os.path.join(path_images, f) for f in sorted(os.listdir(path_images)) if os.path.isfile(os.path.join(path_images, f))]"
   ]
  },
  {
   "cell_type": "markdown",
   "metadata": {},
   "source": [
    "### Базовая модель BoT-SORT"
   ]
  },
  {
   "cell_type": "markdown",
   "metadata": {},
   "source": [
    "#### Расчёт треков"
   ]
  },
  {
   "cell_type": "code",
   "execution_count": null,
   "metadata": {},
   "outputs": [],
   "source": [
    "model = YOLO(model) # выбираем предобученную модель детектора"
   ]
  },
  {
   "cell_type": "code",
   "execution_count": null,
   "metadata": {
    "scrolled": true
   },
   "outputs": [],
   "source": [
    "df_predict = pd.DataFrame() # датафрейм для сбора полученных данных\n",
    "\n",
    "time_1 = []\n",
    "line = 0\n",
    "fr = 1 \n",
    "\n",
    "for idx, frame_file in tqdm(enumerate(frame_files)): # перебираем фреймы\n",
    "    start_time = time()\n",
    "    frame = cv2.imread(frame_file)\n",
    "\n",
    "    if frame is not None:\n",
    "        results = model.track(frame, device=0.1, persist=True)                                     # результаты работы трекера\n",
    "        if results[0].boxes.id is not None:\n",
    "            for num_element in range(results[0].boxes.id.shape[0]):\n",
    "                df_predict.loc[line, 'frame'] = fr                                                 # номер фрейма\n",
    "                df_predict.loc[line, 'id'] = int(results[0].boxes.id[num_element].item())          # id обекта\n",
    "                df_predict.loc[line, 'xc'] = float(results[0].boxes.xywh[num_element][0].item())   # координаты центра\n",
    "                df_predict.loc[line, 'yc'] = float(results[0].boxes.xywh[num_element][1].item())   # координаты центра\n",
    "                df_predict.loc[line, 'w'] = float(results[0].boxes.xywh[num_element][2].item())    # ширина \n",
    "                df_predict.loc[line, 'h'] = float(results[0].boxes.xywh[num_element][3].item())    # высота\n",
    "                df_predict.loc[line, 'x1'] = float(results[0].boxes.xyxy[num_element][0].item())   # координаты углов\n",
    "                df_predict.loc[line, 'y1'] = float(results[0].boxes.xyxy[num_element][1].item())   # координаты углов\n",
    "                df_predict.loc[line, 'x2'] = float(results[0].boxes.xyxy[num_element][2].item())   # координаты углов\n",
    "                df_predict.loc[line, 'y2'] = float(results[0].boxes.xyxy[num_element][3].item())   # координаты углов\n",
    "                df_predict.loc[line, 'conf'] = float(results[0].boxes.conf[num_element].item())    # уверенности модели   \n",
    "                df_predict.loc[line, 'class'] = int(results[0].boxes.cls[num_element].item())      # класс объекта\n",
    "                df_predict.loc[line, 'x'] = -1                                                     # дефолтные значения для 2D\n",
    "                df_predict.loc[line, 'y'] = -1                                                     # дефолтные значения для 2D\n",
    "                df_predict.loc[line, 'z'] = -1                                                     # дефолтные значения для 2D \n",
    "                \n",
    "                stop_time = time()\n",
    "                t = stop_time - start_time\n",
    "                time_1.append(t)\n",
    "                \n",
    "                line += 1\n",
    "        fr += 1"
   ]
  },
  {
   "cell_type": "code",
   "execution_count": null,
   "metadata": {},
   "outputs": [],
   "source": [
    "# записываем результат работы трекера\n",
    "try:\n",
    "    df_predict.to_csv('df_predict.csv', header=True, index=False)\n",
    "except Exception as ex: \n",
    "    print(ex)"
   ]
  },
  {
   "cell_type": "code",
   "execution_count": null,
   "metadata": {},
   "outputs": [],
   "source": [
    "# открываем уже записаный файл\n",
    "df_predict = pd.read_csv('/kaggle/working/df_predict.csv')"
   ]
  },
  {
   "cell_type": "code",
   "execution_count": null,
   "metadata": {},
   "outputs": [],
   "source": [
    "# Для анализа переведем в Series\n",
    "time_1 = pd.Series(time_1) # подсчет времени"
   ]
  },
  {
   "cell_type": "code",
   "execution_count": null,
   "metadata": {},
   "outputs": [],
   "source": [
    "# время работы по кадрам\n",
    "display(time_1.mean())\n",
    "display(time_1.max())\n",
    "display(time_1.min())\n",
    "display(time_1.hist())"
   ]
  },
  {
   "cell_type": "markdown",
   "metadata": {},
   "source": [
    "#### Метрика"
   ]
  },
  {
   "cell_type": "code",
   "execution_count": null,
   "metadata": {},
   "outputs": [],
   "source": [
    "# фиксируем нужные колонки для расчета метрики\n",
    "cols = ['frame', 'id', 'x1', 'y1', 'w', 'h', 'conf', 'x', 'y','z'] "
   ]
  },
  {
   "cell_type": "code",
   "execution_count": null,
   "metadata": {},
   "outputs": [],
   "source": [
    "# расчитываем метрику для базовой модели\n",
    "mota, motp = motMetricsEnhancedCalculator(df_gt[cols], df_predict[cols])"
   ]
  },
  {
   "cell_type": "code",
   "execution_count": null,
   "metadata": {},
   "outputs": [],
   "source": [
    "# запишем результаты в сводную таблицу\n",
    "\n",
    "n = 0\n",
    "\n",
    "pivot_table.loc[n,'model'] = 'BoT-SORT'\n",
    "pivot_table.loc[n,'mota'] = mota\n",
    "pivot_table.loc[n,'motp'] = motp\n",
    "\n",
    "n += 1"
   ]
  },
  {
   "cell_type": "code",
   "execution_count": null,
   "metadata": {},
   "outputs": [],
   "source": [
    "display(pivot_table) # метрика базовой модели"
   ]
  },
  {
   "cell_type": "code",
   "execution_count": null,
   "metadata": {},
   "outputs": [],
   "source": [
    "ывпып"
   ]
  },
  {
   "cell_type": "markdown",
   "metadata": {},
   "source": [
    "### Модель ByteTrack"
   ]
  },
  {
   "cell_type": "code",
   "execution_count": null,
   "metadata": {
    "scrolled": true
   },
   "outputs": [],
   "source": [
    "df_predict_bytetrack = pd.DataFrame() # датафрейм для сбора полученных данных\n",
    "\n",
    "time_1 = []\n",
    "line = 0\n",
    "fr = 1\n",
    "\n",
    "for idx, frame_file in tqdm(enumerate(frame_files)): # перебираем фреймы\n",
    "    start_time = time()\n",
    "    frame = cv2.imread(frame_file)\n",
    "\n",
    "    if frame is not None:\n",
    "        results = model.track(frame, device=0.1, persist=True, tracker=\"bytetrack.yaml\")                    # результаты работы трекера\n",
    "\n",
    "        if results[0].boxes.id is not None:\n",
    "            for num_element in range(results[0].boxes.id.shape[0]):\n",
    "            \n",
    "                df_predict_bytetrack.loc[line, 'frame'] = fr                                                # номер фрейма\n",
    "                df_predict_bytetrack.loc[line, 'id'] = int(results[0].boxes.id[num_element].item())         # id обекта\n",
    "                df_predict_bytetrack.loc[line, 'xc'] = float(results[0].boxes.xywh[num_element][0].item())  # координаты центра\n",
    "                df_predict_bytetrack.loc[line, 'yc'] = float(results[0].boxes.xywh[num_element][1].item())  # координаты центра\n",
    "                df_predict_bytetrack.loc[line, 'w'] = float(results[0].boxes.xywh[num_element][2].item())   # ширина\n",
    "                df_predict_bytetrack.loc[line, 'h'] = float(results[0].boxes.xywh[num_element][3].item())   # высота\n",
    "                df_predict_bytetrack.loc[line, 'x1'] = float(results[0].boxes.xyxy[num_element][0].item())  # координаты углов\n",
    "                df_predict_bytetrack.loc[line, 'y1'] = float(results[0].boxes.xyxy[num_element][1].item())  # координаты углов\n",
    "                df_predict_bytetrack.loc[line, 'x2'] = float(results[0].boxes.xyxy[num_element][2].item())  # координаты углов\n",
    "                df_predict_bytetrack.loc[line, 'y2'] = float(results[0].boxes.xyxy[num_element][3].item())  # координаты углов\n",
    "                df_predict_bytetrack.loc[line, 'conf'] = float(results[0].boxes.conf[num_element].item())   # уверенности модели   \n",
    "                df_predict_bytetrack.loc[line, 'class'] = int(results[0].boxes.cls[num_element].item())     # класс объекта\n",
    "                df_predict_bytetrack.loc[line, 'x'] = -1                                                    # дефолтные значения для 2D\n",
    "                df_predict_bytetrack.loc[line, 'y'] = -1                                                    # дефолтные значения для 2D\n",
    "                df_predict_bytetrack.loc[line, 'z'] = -1                                                    # дефолтные значения для 2D\n",
    "                \n",
    "                stop_time = time()\n",
    "                t = stop_time - start_time\n",
    "                time_1.append(t)\n",
    "                \n",
    "                line += 1\n",
    "        \n",
    "        fr += 1"
   ]
  },
  {
   "cell_type": "code",
   "execution_count": null,
   "metadata": {},
   "outputs": [],
   "source": [
    "# записываем результат работы трекера\n",
    "try:\n",
    "    df_predict.to_csv('df_predict_bytetrack.csv', header=True, index=False)\n",
    "except Exception as ex: \n",
    "    print(ex)"
   ]
  },
  {
   "cell_type": "code",
   "execution_count": null,
   "metadata": {},
   "outputs": [],
   "source": [
    "# открываем уже записаный файл\n",
    "df_predict_bytetrack = pd.read_csv('/kaggle/working/df_predict_bytetrack.csv') "
   ]
  },
  {
   "cell_type": "code",
   "execution_count": null,
   "metadata": {},
   "outputs": [],
   "source": [
    "# Для анализа переведем в Series\n",
    "time_1 = pd.Series(time_1) # расчет времени"
   ]
  },
  {
   "cell_type": "code",
   "execution_count": null,
   "metadata": {},
   "outputs": [],
   "source": [
    "# время работы по кадрам\n",
    "display(time_1.mean())\n",
    "display(time_1.max())\n",
    "display(time_1.min())\n",
    "display(time_1.hist())"
   ]
  },
  {
   "cell_type": "markdown",
   "metadata": {},
   "source": [
    "#### Метрика"
   ]
  },
  {
   "cell_type": "code",
   "execution_count": null,
   "metadata": {},
   "outputs": [],
   "source": [
    "# расчитываем метрику для модели c алгоритмом bytetrack\n",
    "mota, motp = motMetricsEnhancedCalculator(df_gt[cols], df_predict_bytetrack[cols])"
   ]
  },
  {
   "cell_type": "code",
   "execution_count": null,
   "metadata": {},
   "outputs": [],
   "source": [
    "# запишем результаты в сводную таблицу\n",
    "\n",
    "pivot_table.loc[n,'model'] = 'bytetrack'\n",
    "pivot_table.loc[n,'mota'] = mota\n",
    "pivot_table.loc[n,'motp'] = motp\n",
    "\n",
    "n += 1"
   ]
  },
  {
   "cell_type": "markdown",
   "metadata": {},
   "source": [
    "## Анализ результатов"
   ]
  },
  {
   "cell_type": "markdown",
   "metadata": {},
   "source": [
    "### Сводная таблица по результатам"
   ]
  },
  {
   "cell_type": "code",
   "execution_count": null,
   "metadata": {},
   "outputs": [],
   "source": [
    "display(pivot_table) # метрики моделей"
   ]
  },
  {
   "cell_type": "markdown",
   "metadata": {},
   "source": [
    "### Базовая модель"
   ]
  },
  {
   "cell_type": "code",
   "execution_count": null,
   "metadata": {},
   "outputs": [],
   "source": [
    "df_predict['conf'].hist(bins=100)"
   ]
  },
  {
   "cell_type": "code",
   "execution_count": null,
   "metadata": {},
   "outputs": [],
   "source": [
    "df_predict['conf'].min()"
   ]
  },
  {
   "cell_type": "code",
   "execution_count": null,
   "metadata": {},
   "outputs": [],
   "source": [
    "pt_threshold = pd.DataFrame()\n",
    "\n",
    "i = 0\n",
    "\n",
    "for threshold in tqdm(np.arange(0.1, 0.99, 0.02).tolist()):\n",
    "    df_threshold = df_predict[df_predict['conf'] >= threshold]\n",
    "    \n",
    "    mota_threshold, motp_threshold = motMetricsEnhancedCalculator(df_gt[cols], df_threshold[cols])\n",
    "    \n",
    "    pt_threshold.loc[i, 'threshold'] = threshold\n",
    "    pt_threshold.loc[i, 'mota'] = mota_threshold\n",
    "    pt_threshold.loc[i, 'motp'] = motp_threshold\n",
    "    \n",
    "    i += 1"
   ]
  },
  {
   "cell_type": "code",
   "execution_count": null,
   "metadata": {},
   "outputs": [],
   "source": [
    "pt_threshold.plot(x='threshold', y='mota', grid=True)"
   ]
  },
  {
   "cell_type": "code",
   "execution_count": null,
   "metadata": {},
   "outputs": [],
   "source": [
    "pt_threshold.plot(x='threshold', y='motp', grid=True)"
   ]
  },
  {
   "cell_type": "code",
   "execution_count": null,
   "metadata": {},
   "outputs": [],
   "source": [
    "pt_threshold.plot(x='mota', y='motp', grid=True)"
   ]
  },
  {
   "cell_type": "markdown",
   "metadata": {},
   "source": [
    "### Модель bytetrack"
   ]
  },
  {
   "cell_type": "code",
   "execution_count": null,
   "metadata": {},
   "outputs": [],
   "source": [
    "df_predict_bytetrack['conf'].hist(bins=100)"
   ]
  },
  {
   "cell_type": "code",
   "execution_count": null,
   "metadata": {},
   "outputs": [],
   "source": [
    "df_predict_bytetrack['conf'].min()"
   ]
  },
  {
   "cell_type": "code",
   "execution_count": null,
   "metadata": {},
   "outputs": [],
   "source": [
    "pt_threshold_2 = pd.DataFrame()\n",
    "\n",
    "i = 0\n",
    "\n",
    "for threshold in tqdm(np.arange(0.1, 0.99, 0.02).tolist()):\n",
    "    df_threshold = df_predict_bytetrack[df_predict_bytetrack['conf'] >= threshold]\n",
    "    \n",
    "    mota_threshold, motp_threshold = motMetricsEnhancedCalculator(df_gt[cols], df_threshold[cols])\n",
    "    \n",
    "    pt_threshold_2.loc[i, 'threshold'] = threshold\n",
    "    pt_threshold_2.loc[i, 'mota'] = mota_threshold\n",
    "    pt_threshold_2.loc[i, 'motp'] = motp_threshold\n",
    "    \n",
    "    i += 1"
   ]
  },
  {
   "cell_type": "code",
   "execution_count": null,
   "metadata": {},
   "outputs": [],
   "source": [
    "pt_threshold_2.plot(x='threshold', y='mota', grid=True)"
   ]
  },
  {
   "cell_type": "code",
   "execution_count": null,
   "metadata": {},
   "outputs": [],
   "source": [
    "pt_threshold_2.plot(x='threshold', y='motp', grid=True)"
   ]
  },
  {
   "cell_type": "code",
   "execution_count": null,
   "metadata": {},
   "outputs": [],
   "source": [
    "pt_threshold_2.plot(x='mota', y='motp', grid=True)"
   ]
  },
  {
   "cell_type": "markdown",
   "metadata": {},
   "source": [
    "__Вывод:__\n",
    "\n",
    "Были исследованы две модели: базовая и модель c использованием алгоритма ByteTrack. Наилучших результатов удалось достичь с помощью модели c ByteTrack:\n",
    "* Метрика MOTA = 0.923\n",
    "* Метрика MOTP = 0.086"
   ]
  },
  {
   "cell_type": "markdown",
   "metadata": {},
   "source": [
    "## Визуальный анализ треков обектов"
   ]
  },
  {
   "cell_type": "markdown",
   "metadata": {},
   "source": [
    "Изобразим на кадрах предсказанные моделью треки и боксы из переменной results. Полученные изображения сохраним в отдельную папку."
   ]
  },
  {
   "cell_type": "code",
   "execution_count": null,
   "metadata": {},
   "outputs": [],
   "source": [
    "# первые 200 фреймов\n",
    "results_200 = results[:201]"
   ]
  },
  {
   "cell_type": "code",
   "execution_count": null,
   "metadata": {},
   "outputs": [],
   "source": [
    "# Store the track history\n",
    "track_history = defaultdict(lambda: [])\n",
    "\n",
    "# Get the boxes and track IDs\n",
    "for i, r in enumerate(results_200):\n",
    "    boxes = results_200[i].boxes.xywh.cpu()\n",
    "    track_ids = results_200[i].boxes.id.int().cpu().tolist()\n",
    "\n",
    "    # Visualize the results on the frame\n",
    "    annotated_frame = r.plot()\n",
    "\n",
    "    # Plot the tracks\n",
    "    for box, track_id in zip(boxes, track_ids):\n",
    "\n",
    "        x, y, w, h = box\n",
    "        track = track_history[track_id]\n",
    "        track.append((float(x), float(y)))  # x, y center point\n",
    "        if len(track) > 30:  # retain 90 tracks for 90 frames\n",
    "            track.pop(0)\n",
    "\n",
    "        # Draw the tracking lines\n",
    "        points = np.hstack(track).astype(np.int32).reshape((-1, 1, 2))\n",
    "        img = cv2.polylines(annotated_frame, [points], isClosed=False, color=(230, 230, 230), thickness=10)\n",
    "        cv2.imwrite(f'/kaggle/input/renue-o/results{i}.jpg', img)\n",
    "\n",
    "    # Break the loop if 'q' is pressed\n",
    "    if cv2.waitKey(1) & 0xFF == ord(\"q\"):\n",
    "        break\n",
    "\n",
    "\n",
    "cv2.destroyAllWindows()"
   ]
  },
  {
   "cell_type": "markdown",
   "metadata": {},
   "source": [
    "__Вывод:__ путь объекта отслеживается корректно."
   ]
  },
  {
   "cell_type": "markdown",
   "metadata": {},
   "source": [
    "## Подбор границ трекинга объектов"
   ]
  },
  {
   "cell_type": "code",
   "execution_count": null,
   "metadata": {},
   "outputs": [],
   "source": [
    "# пересчитываем координаты центра истинных значений трекера\n",
    "df_gt['x2'] = df_gt['w'] + df_gt['x1']\n",
    "df_gt['y2'] = df_gt['h'] + df_gt['y1']\n",
    "\n",
    "df_gt['xc'] = (df_gt['x1'] + df_gt['x2']) / 2\n",
    "df_gt['yc'] = (df_gt['y1'] + df_gt['y2']) / 2"
   ]
  },
  {
   "cell_type": "code",
   "execution_count": null,
   "metadata": {},
   "outputs": [],
   "source": [
    "# Определяем ординату нижней границы кадра\n",
    "y_max = df_gt[\"yc\"].max()\n",
    "print(y_max)"
   ]
  },
  {
   "cell_type": "code",
   "execution_count": null,
   "metadata": {},
   "outputs": [],
   "source": [
    "# Заданим массив порогов верхней границы центра объекта для расчета метрики МОТА\n",
    "min_thresholds = [0.05, 0.1, 0.15, 0.2, 0.3, 0.4, 0.5]"
   ]
  },
  {
   "cell_type": "code",
   "execution_count": null,
   "metadata": {},
   "outputs": [],
   "source": [
    "# колонки, которые мы будем использовать\n",
    "cols = ['frame', 'id', 'xc', 'yc', 'w', 'h', 'conf', 'class']"
   ]
  },
  {
   "cell_type": "code",
   "execution_count": null,
   "metadata": {},
   "outputs": [],
   "source": [
    "#  Рассчитаем МОТА относительно каждого порога и запишем в датафрейм\n",
    "min_res = pd.DataFrame(columns=['threshold', 'mota', 'motp'])\n",
    "\n",
    "for line, thresh in enumerate(min_thresholds):\n",
    "    y_thresh = y_max * thresh\n",
    "    min_res.loc[line, 'threshold'] = thresh\n",
    "    min_res.loc[line, 'mota'], min_res.loc[line, 'motp'] = motMetricsEnhancedCalculator(df_gt[(df_gt['yc'] > y_thresh)][cols], \n",
    "                                                                                        df_predict[(df_predict['yc'] > y_thresh)][cols])"
   ]
  },
  {
   "cell_type": "code",
   "execution_count": null,
   "metadata": {},
   "outputs": [],
   "source": [
    "# \n",
    "min_res"
   ]
  },
  {
   "cell_type": "code",
   "execution_count": null,
   "metadata": {},
   "outputs": [],
   "source": [
    "# \n",
    "min_res.plot(x='threshold', y='mota', grid=True)\n",
    "plt.title(\"Изменение МОТА относительно верхней границы трекинга\")\n",
    "plt.xlabel('Порог')\n",
    "plt.ylabel('МОТА');\n",
    "plt.show()"
   ]
  },
  {
   "cell_type": "markdown",
   "metadata": {},
   "source": [
    "__Вывод:__ самое высокое значение метрики МОТА получается при минимальном значении порога 0,15."
   ]
  },
  {
   "cell_type": "code",
   "execution_count": null,
   "metadata": {},
   "outputs": [],
   "source": [
    "# \n",
    "y_min_threshold = min_res[min_res['mota'] == min_res['mota'].max()]['threshold'].min()\n",
    "y_min_threshold * y_max"
   ]
  },
  {
   "cell_type": "code",
   "execution_count": null,
   "metadata": {},
   "outputs": [],
   "source": [
    "# \n",
    "max_thresholds = [1.0, 0.99, 0.98, 0.97, 0.96, 0.95, 0.9, 0.85]"
   ]
  },
  {
   "cell_type": "code",
   "execution_count": null,
   "metadata": {},
   "outputs": [],
   "source": [
    "# \n",
    "max_res = pd.DataFrame(columns=['threshold', 'mota', 'motp'])\n",
    "\n",
    "for line, thresh in enumerate(max_thresholds):\n",
    "    y_thresh = y_max * thresh\n",
    "    y_min_defined = y_max * y_min_threshold\n",
    "    max_res.loc[line, 'threshold'] = thresh\n",
    "    max_res.loc[line, 'mota'], max_res.loc[line, 'motp'] = motMetricsEnhancedCalculator(df_gt[(df_gt['yc'] < y_thresh) &\n",
    "                                                                                             (df_gt['yc'] > y_min_defined)][cols], \n",
    "                                                                                        predict_base[(predict_base['yc'] < y_thresh) &\n",
    "                                                                                                    (predict_base['yc'] > y_min_defined)][cols])\n",
    "max_res"
   ]
  },
  {
   "cell_type": "code",
   "execution_count": null,
   "metadata": {},
   "outputs": [],
   "source": [
    "# \n",
    "max_res.plot(x='threshold', y='mota', grid=True)\n",
    "plt.title(\"Изменение МОТА относительно верхней границы трекинга\")\n",
    "plt.xlabel('Порог')\n",
    "plt.ylabel('МОТА');\n",
    "plt.show()"
   ]
  },
  {
   "cell_type": "markdown",
   "metadata": {},
   "source": [
    "__Вывод:__ Самое высокое значение метрики МОТА получается при значении порога 0,97."
   ]
  },
  {
   "cell_type": "code",
   "execution_count": null,
   "metadata": {},
   "outputs": [],
   "source": [
    "# \n",
    "y_max_threshold = max_res[max_res['mota'] == max_res['mota'].max()]['threshold'].max()\n",
    "y_max_threshold * y_max"
   ]
  },
  {
   "cell_type": "markdown",
   "metadata": {},
   "source": [
    "__Вывод:__\n",
    "\n",
    "При трекинге объектов на границах кадра возникают сложности. Модели, используемые для детекции и трекинга объектов, склонны к ошибкам в случае, когда объект частично находится за границей изображения. Для увеличения точности трекинга можно использовать границы начала трекинга и передачи данных на манипулятор. В нашем случае оптимальным значением ординаты центра объекта для начала трекинга является у=223 (15% от максимального значения ординаты), а для прекращения трекинга и отправки координат на манипулятор - у=1440 (97% от максимального значения ординаты)."
   ]
  },
  {
   "cell_type": "markdown",
   "metadata": {},
   "source": [
    "## Приложение 1 (Дополнительная демонстрация работы модели)"
   ]
  },
  {
   "cell_type": "markdown",
   "metadata": {},
   "source": [
    "Дополнительно к работе была создана функция track_model, которая обеспечивает покадровую обработку данных и передачу информации об истории трекировки и выдачи координат расположения мусора для робата, который его сортирует. Функция позволяет также выполнять анализ треков элементов, которые двигаются не прямолинейно или со смещением вправо/влево."
   ]
  },
  {
   "cell_type": "markdown",
   "metadata": {},
   "source": [
    "### Создание функций"
   ]
  },
  {
   "cell_type": "markdown",
   "metadata": {},
   "source": [
    "Создание функции визуализации трека."
   ]
  },
  {
   "cell_type": "code",
   "execution_count": null,
   "metadata": {},
   "outputs": [],
   "source": [
    "def track_visualization(df, x_lim_max, y_lim_max, xc_pred, img):\n",
    "    '''\n",
    "    Функция визуализации траектории.\n",
    "    \n",
    "    На входе функция принимает:\n",
    "    1. df - Датафрейм с информацией о треке;\n",
    "    2. x_lim_max и y_lim_max - максимальные значения осей x и y (должны соответствовать размерам анализируемого изображения)\n",
    "    3. xc_pred - предсказанная координата х, которая передаётся робату для забора мусора\n",
    "    4. img - анализируемое изображение.\n",
    "\n",
    "    Функция обеспечивает вывод на экран анализируемого изображения с разметкой \n",
    "    осей координат, нанесением синих точек траектории и вертикальной линии на значении \n",
    "    предсказанной координаты х для робота.\n",
    "    '''\n",
    "\n",
    "    # Создаем график\n",
    "    plt.figure()\n",
    "    plt.plot(df['xc'], df['yc'], 'bo')  # График точек синими кружками\n",
    "    plt.axvline(x=xc_pred, color='y')  # Вертикальная жёлтая линия в x=3\n",
    "        \n",
    "    plt.xlim (0, x_lim_max)\n",
    "    plt.ylim (0, y_lim_max)\n",
    "    \n",
    "    plt.imshow(img)\n",
    "    \n",
    "    plt.gca().invert_yaxis()  # Инвертируем ось y\n",
    "\n",
    "    plt.show()"
   ]
  },
  {
   "cell_type": "markdown",
   "metadata": {},
   "source": [
    "Создание функции обработки изображения."
   ]
  },
  {
   "cell_type": "code",
   "execution_count": null,
   "metadata": {},
   "outputs": [],
   "source": [
    "def track_model(*, \n",
    "                model_detect, # Модель детекции\n",
    "                img_path, # Путь к изображению, которое анализаруем\n",
    "                show_analys: bool=False, # Если необходимо выводить визуализацию изображения и информацию о треке \n",
    "                                         # (в соответствии с кодом выводятся только изображения со сложной траекторией)\n",
    "                history: pd.DataFrame=None, # Таблица с историей трекинга\n",
    "                num_of_frame: int=26, # Количество кадров, которое хранится в истории и анализируется моделью (от 3 и более)\n",
    "                threshold: float=0.1, # Порог для отсесения верхней и нижней части кадра (от 0 до 0,5)\n",
    "                x_lim_max: int=2048, # ширина изображения\n",
    "                y_lim_max: int=1486, # Высота изображения\n",
    "                min_point_track: int=5 # Минимальное количество точек трека для выполнения моделью анализа трека\n",
    "               ):\n",
    "    \n",
    "    \n",
    "    '''\n",
    "    Модель обработки изображений и выдачи информации для робота.\n",
    "    \n",
    "    Функция принимает на входе:\n",
    "    1. model_detect - Модель детекции мусора;\n",
    "    2. img_path - Путь к изображению, которое анализаруем;\n",
    "    3. show_analys - параметр, определяющий необходи мо ли выводить на экран изображения треков для их анализа\n",
    "                     (в соответствии с кодом выводятся только изображения со сложной траекторией);\n",
    "    4. history - Таблица с историей трекинга (изначально подаётся пустой датафрейм)\n",
    "    5. num_of_frame - Количество кадров, которое хранится в истории и анализируется моделью (от 3 и более);\n",
    "    6. threshold - Порог для отсесения верхней и нижней части кадра (от 0 до 0,5);\n",
    "    7. x_lim_max - Ширина изображения;\n",
    "    8. y_lim_max - Высота изображения;\n",
    "    9. min_point_track: int=5, # Минимальное количество точек трека для выполнения моделью анализа формы трека\n",
    "    \n",
    "    На выходе функция выдаёт:\n",
    "    1. Датафрейм history с информацией об истории трекировки за последние num_of_frame кадров;\n",
    "    2. Датафрейм df_coordinate с информацией о координатах мусора для передачи в систему робота.\n",
    "    3. При значении show_analys = True функция выводит на экран обрабатываемое изображение с осями координат, точками \n",
    "    разметки движения элемента (мусора) и жёлтой вертикальной линией предсказанной координатой x для робота.\n",
    "    \n",
    "    '''\n",
    "    # Настройка констант под алгоритм, вычисление производных констант и инициализация переменных\n",
    "    num_of_frame += 1\n",
    "\n",
    "    y_min = y_lim_max * threshold\n",
    "    y_max = y_lim_max - y_min\n",
    "    \n",
    "    frame = cv2.imread(frame_file)\n",
    "    \n",
    "    frame_name = (img_path).split(\"\\\\\")[-1][:-4]\n",
    "    \n",
    "    df_coordinate = pd.DataFrame()\n",
    "    \n",
    "    # Проверка, что изображение на пустое\n",
    "    if frame is not None:\n",
    "        results = model.track(frame, persist=True, device='cpu')\n",
    "\n",
    "        # Проверка, что моель нашла на изображении какие-либо объекты\n",
    "        if results[0].boxes.id is not None:\n",
    "            \n",
    "            line = 0\n",
    "            \n",
    "            df_predict = pd.DataFrame()\n",
    "            \n",
    "            # Данные по каждому объекту вносятся в датафрейм df_predict\n",
    "            for num_element in range(results[0].boxes.id.shape[0]):\n",
    "            \n",
    "                df_predict.loc[line, 'frame'] = frame_name\n",
    "                df_predict.loc[line, 'id'] = int(results[0].boxes.id[num_element].item())\n",
    "                df_predict.loc[line, 'xc'] = float(results[0].boxes.xywh[num_element][0].item())\n",
    "                df_predict.loc[line, 'yc'] = float(results[0].boxes.xywh[num_element][1].item())\n",
    "                df_predict.loc[line, 'y1'] = float(results[0].boxes.xyxy[num_element][1].item())\n",
    "                df_predict.loc[line, 'y2'] = float(results[0].boxes.xyxy[num_element][3].item())\n",
    "                df_predict.loc[line, 'class'] = int(results[0].boxes.cls[num_element].item())\n",
    "            \n",
    "                line += 1\n",
    "            \n",
    "            # Полученная для изображения информация вносится в датафрейм history. При этом старые изображения удаляются \n",
    "            # ( хранится не более num_of_frame кадров)\n",
    "            if history.empty == True: \n",
    "                history = pd.concat([history, df_predict])\n",
    "            elif history['frame'].nunique() < num_of_frame:\n",
    "                history = pd.concat([history, df_predict]).reset_index(drop=True)\n",
    "            else:\n",
    "                old_frame = history.reset_index()['frame'][0]\n",
    "                history = pd.concat([history[history['frame'] != old_frame], df_predict]).reset_index(drop=True)\n",
    "            \n",
    "            df_coordinate = pd.DataFrame()\n",
    "            \n",
    "            line = 0\n",
    "            \n",
    "            # Для каждого объекта из истории создаётся датафрейм id для оценки трека \n",
    "            # и выдачи координат в датафрейм df_coordinate\n",
    "            for id in history['id'].unique():\n",
    "        \n",
    "                df = history[(history['id'] == id) & (history['y1'] > y_min) & (history['y2'] < y_max) ]\n",
    "                df_last_line = df.tail(1).reset_index()                \n",
    "                \n",
    "                if df['id'].count() >= min_point_track:\n",
    "                    if df['xc'].std() < 20:\n",
    "                        df_coordinate.loc[line, 'frame'] = df_last_line.loc[0, 'frame']\n",
    "                        df_coordinate.loc[line, 'id'] = id\n",
    "                        df_coordinate.loc[line, 'yc'] = df_last_line.loc[0, 'yc']\n",
    "                        df_coordinate.loc[line, 'class'] = df_last_line.loc[0, 'class']\n",
    "                        df_coordinate.loc[line, 'xc_pred'] = df['xc'].tail(3).mean()\n",
    "                        \n",
    "                        line +=1\n",
    "\n",
    "                    else:\n",
    "                        X = df[['xc']].values\n",
    "                        y = df['yc'].values\n",
    "                        X = np.concatenate((np.ones((X.shape[0], 1)), X), axis=1)\n",
    "                        w = np.linalg.inv(X.T @ X) @ X.T @ y\n",
    "                        k = w[1]\n",
    "                        if -40 < k < 40 and df.tail(5)['xc'].std() < 15:\n",
    "                            df_coordinate.loc[line, 'xc_pred'] = df['xc'].tail(4).mean()\n",
    "                            df_coordinate.loc[line, 'frame'] = df_last_line.loc[0, 'frame']\n",
    "                            df_coordinate.loc[line, 'id'] = id\n",
    "                            df_coordinate.loc[line, 'yc'] = df_last_line.loc[0, 'yc']\n",
    "                            df_coordinate.loc[line, 'class'] = df_last_line.loc[0, 'class']\n",
    "                            line +=1\n",
    "                        elif -40 < k < 40:\n",
    "                            df_coordinate.loc[line, 'xc_pred'] = df_last_line.loc[0, 'xc'] # (y_lim_max - w[0]) /  w[1] + delta_y \n",
    "                            df_coordinate.loc[line, 'frame'] = df_last_line.loc[0, 'frame']\n",
    "                            df_coordinate.loc[line, 'id'] = id\n",
    "                            df_coordinate.loc[line, 'yc'] = df_last_line.loc[0, 'yc']\n",
    "                            df_coordinate.loc[line, 'class'] = df_last_line.loc[0, 'class']\n",
    "                        else:\n",
    "                            df_coordinate.loc[line, 'xc_pred'] = df['xc'].mean()\n",
    "                            df_coordinate.loc[line, 'frame'] = df_last_line.loc[0, 'frame']\n",
    "                            df_coordinate.loc[line, 'id'] = id\n",
    "                            df_coordinate.loc[line, 'yc'] = df_last_line.loc[0, 'yc']\n",
    "                            df_coordinate.loc[line, 'class'] = df_last_line.loc[0, 'class']\n",
    "                                                        \n",
    "                            line +=1\n",
    "\n",
    "                    # Алгоритм для вывода изображений с непрямолинейными треками\n",
    "                    if show_analys == True:\n",
    "                        xc_std = df['xc'].std()\n",
    "                        if xc_std >= 20:\n",
    "                            print('-' * 40)\n",
    "                            print(f'Имя файла трека: {frame_name}')\n",
    "                            print(f'Id предмета: {id}')\n",
    "                            print(f'Стандартное отклонение трека: {xc_std}')\n",
    "                            print(f'Коэффициент наклона средней линии трека: {k}')\n",
    "                            track_visualization(df, x_lim_max, y_lim_max, df_coordinate.tail(1).reset_index().loc[0, 'xc_pred'], frame)\n",
    "            \n",
    "    return history, df_coordinate"
   ]
  },
  {
   "cell_type": "markdown",
   "metadata": {},
   "source": [
    "### Код для демонстрации работы функции."
   ]
  },
  {
   "cell_type": "code",
   "execution_count": null,
   "metadata": {},
   "outputs": [],
   "source": [
    "# Инициализация модели детекции\n",
    "model_detection = YOLO(model) # Load a custom trained model"
   ]
  },
  {
   "cell_type": "code",
   "execution_count": null,
   "metadata": {},
   "outputs": [],
   "source": [
    "# Создание списка со ссылками на изображения\n",
    "frame_files = [os.path.join(path_images, f) for f in sorted(os.listdir(path_images)) if os.path.isfile(os.path.join(path_images, f))]"
   ]
  },
  {
   "cell_type": "code",
   "execution_count": null,
   "metadata": {},
   "outputs": [],
   "source": [
    "# Запуск работы модели на тестовых изображениях\n",
    "history = pd.DataFrame()\n",
    "сoordinates = pd.DataFrame()\n",
    "\n",
    "for frame_file in tqdm(frame_files[:]):\n",
    "    \n",
    "    history, сoordinates = track_model(model_detect=model_detection,\n",
    "                                       img_path=frame_file,\n",
    "                                       num_of_frame=26,\n",
    "                                       history=history,\n",
    "                                       show_analys=True\n",
    "                                      )"
   ]
  },
  {
   "cell_type": "markdown",
   "metadata": {},
   "source": [
    "## Общий вывод"
   ]
  },
  {
   "cell_type": "markdown",
   "metadata": {},
   "source": [
    "В ходе работы были проанализированы предоставленные заказчиком данные, построены две модели трекинга (BoT-SORT и ByteTrack). Наилучших результатов удалось достичь с помощью модели c ByteTrack:\n",
    "* Метрика MOTA = 0.923\n",
    "* Метрика MOTP = 0.086\n",
    "Скорость обработки одного кадра - менее 100 мс.\n",
    "\n",
    "Были подобраны оптимальные границы для трекинга объектов: оптимальным значением ординаты центра объекта для начала трекинга является у=223 (15% от максимального значения ординаты), а для прекращения трекинга и отправки координат на манипулятор - у=1440 (97% от максимального значения ординаты).\n",
    "\n",
    "В проекте также предусмотрена возможность записи кадров с отрисовкой боксов и треков."
   ]
  },
  {
   "cell_type": "markdown",
   "metadata": {},
   "source": [
    "__Рекомендации бизнесу__\n",
    "\n",
    "На основании проведенного анализа для улучшения качества трекинга объектов можно рекомендовать следующее:\n",
    "* Предусмотреть прессование объектов для уменьшения вроятности катания их поперек ленты конвейера.\n",
    "* Распределять объекты по ленте более равномерно, чтобы они не располагались слишком близко друг к другу.\n",
    "* Стабилизировать ленту конвейера для более плавного перемещения объектов по ней.\n",
    "* Разместить камеру как можно ближе к манипулятору, чтобы исключить передачу неверных координат в случае, если объект выезжает за пределы кадра при продолжающемся движении поперек ленты.\n",
    "* Повысить яркость освещения в районе камеры (например, используя круговую лампу).\n",
    "Обеспечение данных рекомендаций повысит качество видео и работы детектора и трекера, соотвественно."
   ]
  },
  {
   "cell_type": "markdown",
   "metadata": {},
   "source": [
    "__Улучшение проекта и дальнейшее исследование__\n",
    "\n",
    "Возможны следующие пути усовершенствования проекта и модели трекинга:\n",
    "* Подбор гиперпараметров для трекера.\n",
    "* Использование других моделей детекции и трекинга (FairMOT, DEVA, CSRT).\n",
    "* Сегментация изображения объектов.\n",
    "* Написание скрипта."
   ]
  },
  {
   "cell_type": "code",
   "execution_count": null,
   "metadata": {},
   "outputs": [],
   "source": []
  }
 ],
 "metadata": {
  "kaggle": {
   "accelerator": "nvidiaTeslaT4",
   "dataSources": [
    {
     "datasetId": 5617509,
     "sourceId": 9296899,
     "sourceType": "datasetVersion"
    }
   ],
   "dockerImageVersionId": 30761,
   "isGpuEnabled": true,
   "isInternetEnabled": false,
   "language": "python",
   "sourceType": "notebook"
  },
  "kernelspec": {
   "display_name": "Python 3 (ipykernel)",
   "language": "python",
   "name": "python3"
  },
  "language_info": {
   "codemirror_mode": {
    "name": "ipython",
    "version": 3
   },
   "file_extension": ".py",
   "mimetype": "text/x-python",
   "name": "python",
   "nbconvert_exporter": "python",
   "pygments_lexer": "ipython3",
   "version": "3.9.16"
  },
  "toc": {
   "base_numbering": 1,
   "nav_menu": {},
   "number_sections": true,
   "sideBar": true,
   "skip_h1_title": true,
   "title_cell": "Table of Contents",
   "title_sidebar": "Contents",
   "toc_cell": true,
   "toc_position": {
    "height": "calc(100% - 180px)",
    "left": "10px",
    "top": "150px",
    "width": "179.305px"
   },
   "toc_section_display": true,
   "toc_window_display": true
  }
 },
 "nbformat": 4,
 "nbformat_minor": 4
}
