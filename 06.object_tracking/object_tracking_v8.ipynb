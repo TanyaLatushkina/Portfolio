{
 "cells": [
  {
   "cell_type": "markdown",
   "metadata": {
    "toc": true
   },
   "source": [
    "<h1>Table of Contents<span class=\"tocSkip\"></span></h1>\n",
    "<div class=\"toc\"><ul class=\"toc-item\"><li><span><a href=\"#Загрузка-и-анализ-данных\" data-toc-modified-id=\"Загрузка-и-анализ-данных-1\"><span class=\"toc-item-num\">1&nbsp;&nbsp;</span>Загрузка и анализ данных</a></span></li><li><span><a href=\"#Модели-трекинга\" data-toc-modified-id=\"Модели-трекинга-2\"><span class=\"toc-item-num\">2&nbsp;&nbsp;</span>Модели трекинга</a></span><ul class=\"toc-item\"><li><span><a href=\"#Базовая-модель-BoT-SORT\" data-toc-modified-id=\"Базовая-модель-BoT-SORT-2.1\"><span class=\"toc-item-num\">2.1&nbsp;&nbsp;</span>Базовая модель BoT-SORT</a></span><ul class=\"toc-item\"><li><span><a href=\"#Расчёт-треков\" data-toc-modified-id=\"Расчёт-треков-2.1.1\"><span class=\"toc-item-num\">2.1.1&nbsp;&nbsp;</span>Расчёт треков</a></span></li><li><span><a href=\"#Метрика\" data-toc-modified-id=\"Метрика-2.1.2\"><span class=\"toc-item-num\">2.1.2&nbsp;&nbsp;</span>Метрика</a></span></li></ul></li><li><span><a href=\"#Модель-ByteTrack\" data-toc-modified-id=\"Модель-ByteTrack-2.2\"><span class=\"toc-item-num\">2.2&nbsp;&nbsp;</span>Модель ByteTrack</a></span><ul class=\"toc-item\"><li><span><a href=\"#Метрика\" data-toc-modified-id=\"Метрика-2.2.1\"><span class=\"toc-item-num\">2.2.1&nbsp;&nbsp;</span>Метрика</a></span></li></ul></li></ul></li><li><span><a href=\"#Анализ-результатов\" data-toc-modified-id=\"Анализ-результатов-3\"><span class=\"toc-item-num\">3&nbsp;&nbsp;</span>Анализ результатов</a></span><ul class=\"toc-item\"><li><span><a href=\"#Сводная-таблица-по-результатам\" data-toc-modified-id=\"Сводная-таблица-по-результатам-3.1\"><span class=\"toc-item-num\">3.1&nbsp;&nbsp;</span>Сводная таблица по результатам</a></span></li><li><span><a href=\"#Базовая-модель\" data-toc-modified-id=\"Базовая-модель-3.2\"><span class=\"toc-item-num\">3.2&nbsp;&nbsp;</span>Базовая модель</a></span></li><li><span><a href=\"#Модель-bytetrack\" data-toc-modified-id=\"Модель-bytetrack-3.3\"><span class=\"toc-item-num\">3.3&nbsp;&nbsp;</span>Модель bytetrack</a></span></li></ul></li><li><span><a href=\"#Визуальный-анализ-треков-обектов\" data-toc-modified-id=\"Визуальный-анализ-треков-обектов-4\"><span class=\"toc-item-num\">4&nbsp;&nbsp;</span>Визуальный анализ треков обектов</a></span></li><li><span><a href=\"#Подбор-границ-трекинга-объектов\" data-toc-modified-id=\"Подбор-границ-трекинга-объектов-5\"><span class=\"toc-item-num\">5&nbsp;&nbsp;</span>Подбор границ трекинга объектов</a></span></li><li><span><a href=\"#Приложение-1-(Дополнительная-демонстрация-работы-модели)\" data-toc-modified-id=\"Приложение-1-(Дополнительная-демонстрация-работы-модели)-6\"><span class=\"toc-item-num\">6&nbsp;&nbsp;</span>Приложение 1 (Дополнительная демонстрация работы модели)</a></span><ul class=\"toc-item\"><li><span><a href=\"#Создание-функций\" data-toc-modified-id=\"Создание-функций-6.1\"><span class=\"toc-item-num\">6.1&nbsp;&nbsp;</span>Создание функций</a></span></li><li><span><a href=\"#Код-для-демонстрации-работы-функции.\" data-toc-modified-id=\"Код-для-демонстрации-работы-функции.-6.2\"><span class=\"toc-item-num\">6.2&nbsp;&nbsp;</span>Код для демонстрации работы функции.</a></span></li></ul></li><li><span><a href=\"#Общий-вывод\" data-toc-modified-id=\"Общий-вывод-7\"><span class=\"toc-item-num\">7&nbsp;&nbsp;</span>Общий вывод</a></span></li></ul></div>"
   ]
  },
  {
   "cell_type": "markdown",
   "metadata": {},
   "source": [
    "# Трекинг объектов для компании Ренью"
   ]
  },
  {
   "cell_type": "markdown",
   "metadata": {},
   "source": [
    "__Задача:__\n",
    "\n",
    "Необходимо разработать решение для отслеживания и сортировки мусора на конвейере – выделять пластиковые бутылки в общем потоке предметов.\n",
    "\n",
    "__Метрика:__\n",
    "\n",
    "Необходимо максимизировать метрику MOTA (Multiple Object Tracking Accuracy), которая вычисляется по формуле:\n",
    "\n",
    "$$ MOTA = 1 - \\frac{\\sum_tFN_t+FP_t+IDS_t}{\\sum_tGT_t},   $$ \n",
    " где \\\\( FN_t , \\\\) - количество пропусков на кадре 𝑡, \n",
    "\n",
    "   \\\\( FP_t , \\\\) - количество ложных срабатываний на кадре 𝑡,\n",
    " \n",
    "   \\\\( IDS_t , \\\\) - количество несоответствий на кадре 𝑡,\n",
    " \n",
    "   \\\\( IGT_t , \\\\) - количество размеченных объектов на кадре 𝑡.\n",
    "\n",
    "__Данные:__\n",
    "\n",
    "yolov10x_v2_4_best.pt - модель детектора\n",
    "\n",
    "gt.txt - истинный файл с данными о треке объекта.\n",
    "\n",
    "labels.txt - файл с наименованием классов для сортировки.\n",
    "\n",
    "images - папка с фреймами обектов.\n",
    "\n",
    "test.mp4 - тестовое видео передвижения обьектов на конвейере.\n",
    "\n",
    "__План работы:__\n",
    "\n",
    "* Загрузка библиотек.\n",
    "* Установка параметров проекта.\n",
    "* Ознакомление с данными.\n",
    "* Построение baseline решения.\n",
    "* Обучить трекер с использованием алгоритма трекинга ByteTrack.\n",
    "* Проанализировать результат, в том числе визуально.\n",
    "* Подобрать границы трекинга объектов.\n",
    "* Рассчитать время на обработку одного кадра.\n"
   ]
  },
  {
   "cell_type": "code",
   "execution_count": 2,
   "metadata": {
    "ExecuteTime": {
     "end_time": "2024-09-05T05:27:53.550435Z",
     "start_time": "2024-09-05T05:27:53.540401Z"
    }
   },
   "outputs": [],
   "source": [
    "# подгружаем библиотеки\n",
    "\n",
    "import os\n",
    "\n",
    "import pandas as pd\n",
    "import cv2\n",
    "import motmetrics as mm\n",
    "import numpy as np\n",
    "import matplotlib.pyplot as plt\n",
    "\n",
    "from ultralytics import YOLO\n",
    "from collections import defaultdict\n",
    "from time import time\n",
    "\n",
    "from tqdm import tqdm\n",
    "from tqdm.notebook import tqdm_notebook\n",
    "\n",
    "\n",
    "from PIL import Image\n",
    "from scipy.optimize import curve_fit\n",
    "from sklearn.linear_model import LinearRegression\n",
    "\n",
    "import warnings\n",
    "warnings.simplefilter('ignore')"
   ]
  },
  {
   "cell_type": "code",
   "execution_count": 3,
   "metadata": {
    "ExecuteTime": {
     "end_time": "2024-09-05T05:27:56.024338Z",
     "start_time": "2024-09-05T05:27:56.012370Z"
    }
   },
   "outputs": [],
   "source": [
    "os.environ['YOLO_VERBOSE'] = 'False'"
   ]
  },
  {
   "cell_type": "code",
   "execution_count": 4,
   "metadata": {
    "ExecuteTime": {
     "end_time": "2024-09-05T05:28:50.751035Z",
     "start_time": "2024-09-05T05:28:50.739056Z"
    }
   },
   "outputs": [],
   "source": [
    "# константы\n",
    "dir_name_gt = 'Renue/gt.txt'\n",
    "dir_name_labels = 'Renue/labels.txt'\n",
    "model_path = 'Renue/yolov10x_v2_4_best.pt'\n",
    "path_images = 'Renue/images'\n",
    "df_predict = 'df_predict.csv'\n",
    "df_predict_bytetrack = 'df_predict_bytetrack.csv'\n",
    "MAX_IOU = 0.5"
   ]
  },
  {
   "cell_type": "markdown",
   "metadata": {},
   "source": [
    "## Загрузка и анализ данных"
   ]
  },
  {
   "cell_type": "code",
   "execution_count": 5,
   "metadata": {
    "ExecuteTime": {
     "end_time": "2024-09-05T05:28:52.479931Z",
     "start_time": "2024-09-05T05:28:52.441031Z"
    }
   },
   "outputs": [],
   "source": [
    "# истинные данные о треке объектов\n",
    "try:\n",
    "    df_gt = pd.read_csv(dir_name_gt, names=['frame', 'id', 'x1', 'y1', 'w', 'h', 'conf', 'class', 'visibility'])\n",
    "except Exception as ex: \n",
    "    print(ex)   "
   ]
  },
  {
   "cell_type": "code",
   "execution_count": 6,
   "metadata": {
    "ExecuteTime": {
     "end_time": "2024-09-05T05:28:54.110502Z",
     "start_time": "2024-09-05T05:28:54.096541Z"
    }
   },
   "outputs": [],
   "source": [
    "# классы для сортировки\n",
    "try:\n",
    "    df_labels = pd.read_csv(dir_name_labels, names=['label'])\n",
    "except Exception as ex: \n",
    "    print(ex) "
   ]
  },
  {
   "cell_type": "code",
   "execution_count": 7,
   "metadata": {
    "ExecuteTime": {
     "end_time": "2024-09-05T05:28:55.395841Z",
     "start_time": "2024-09-05T05:28:55.388804Z"
    }
   },
   "outputs": [],
   "source": [
    "# добавляем колонки с дефолтными значениями для 2D изображений \n",
    "df_gt['x'] = -1\n",
    "df_gt['y'] = -1\n",
    "df_gt['z'] = -1"
   ]
  },
  {
   "cell_type": "code",
   "execution_count": 8,
   "metadata": {
    "ExecuteTime": {
     "end_time": "2024-09-05T05:28:55.614310Z",
     "start_time": "2024-09-05T05:28:55.599351Z"
    }
   },
   "outputs": [],
   "source": [
    "# функция для изучения данных\n",
    "def info(data):\n",
    "    display(data.info())\n",
    "    print('-' * 60)\n",
    "    display(data.sample(10))\n",
    "    print('-' * 60)\n",
    "    display(data.query('frame==40'))\n",
    "    print('-' * 60)\n",
    "    display(data.describe().T)\n",
    "    print('-' * 60)\n",
    "    print(data.isna().sum())\n",
    "    print('-' * 60)\n",
    "    print('Количество дубликатов: ', data.duplicated().sum())\n",
    "    print('-' * 60)\n",
    "    print('Количество признаков: ', data.shape[1], 'Количество значений: ', data.shape[0])"
   ]
  },
  {
   "cell_type": "code",
   "execution_count": 9,
   "metadata": {
    "ExecuteTime": {
     "end_time": "2024-09-05T05:28:55.829734Z",
     "start_time": "2024-09-05T05:28:55.736986Z"
    }
   },
   "outputs": [
    {
     "name": "stdout",
     "output_type": "stream",
     "text": [
      "<class 'pandas.core.frame.DataFrame'>\n",
      "RangeIndex: 46531 entries, 0 to 46530\n",
      "Data columns (total 12 columns):\n",
      " #   Column      Non-Null Count  Dtype  \n",
      "---  ------      --------------  -----  \n",
      " 0   frame       46531 non-null  int64  \n",
      " 1   id          46531 non-null  int64  \n",
      " 2   x1          46531 non-null  float64\n",
      " 3   y1          46531 non-null  float64\n",
      " 4   w           46531 non-null  float64\n",
      " 5   h           46531 non-null  float64\n",
      " 6   conf        46531 non-null  int64  \n",
      " 7   class       46531 non-null  int64  \n",
      " 8   visibility  46531 non-null  float64\n",
      " 9   x           46531 non-null  int64  \n",
      " 10  y           46531 non-null  int64  \n",
      " 11  z           46531 non-null  int64  \n",
      "dtypes: float64(5), int64(7)\n",
      "memory usage: 4.3 MB\n"
     ]
    },
    {
     "data": {
      "text/plain": [
       "None"
      ]
     },
     "metadata": {},
     "output_type": "display_data"
    },
    {
     "name": "stdout",
     "output_type": "stream",
     "text": [
      "------------------------------------------------------------\n"
     ]
    },
    {
     "data": {
      "text/html": [
       "<div>\n",
       "<style scoped>\n",
       "    .dataframe tbody tr th:only-of-type {\n",
       "        vertical-align: middle;\n",
       "    }\n",
       "\n",
       "    .dataframe tbody tr th {\n",
       "        vertical-align: top;\n",
       "    }\n",
       "\n",
       "    .dataframe thead th {\n",
       "        text-align: right;\n",
       "    }\n",
       "</style>\n",
       "<table border=\"1\" class=\"dataframe\">\n",
       "  <thead>\n",
       "    <tr style=\"text-align: right;\">\n",
       "      <th></th>\n",
       "      <th>frame</th>\n",
       "      <th>id</th>\n",
       "      <th>x1</th>\n",
       "      <th>y1</th>\n",
       "      <th>w</th>\n",
       "      <th>h</th>\n",
       "      <th>conf</th>\n",
       "      <th>class</th>\n",
       "      <th>visibility</th>\n",
       "      <th>x</th>\n",
       "      <th>y</th>\n",
       "      <th>z</th>\n",
       "    </tr>\n",
       "  </thead>\n",
       "  <tbody>\n",
       "    <tr>\n",
       "      <th>26757</th>\n",
       "      <td>5781</td>\n",
       "      <td>974</td>\n",
       "      <td>729.0</td>\n",
       "      <td>425.0</td>\n",
       "      <td>376.0</td>\n",
       "      <td>213.0</td>\n",
       "      <td>1</td>\n",
       "      <td>2</td>\n",
       "      <td>1.0</td>\n",
       "      <td>-1</td>\n",
       "      <td>-1</td>\n",
       "      <td>-1</td>\n",
       "    </tr>\n",
       "    <tr>\n",
       "      <th>40579</th>\n",
       "      <td>7981</td>\n",
       "      <td>1469</td>\n",
       "      <td>315.0</td>\n",
       "      <td>785.0</td>\n",
       "      <td>280.0</td>\n",
       "      <td>261.0</td>\n",
       "      <td>1</td>\n",
       "      <td>2</td>\n",
       "      <td>1.0</td>\n",
       "      <td>-1</td>\n",
       "      <td>-1</td>\n",
       "      <td>-1</td>\n",
       "    </tr>\n",
       "    <tr>\n",
       "      <th>11782</th>\n",
       "      <td>2825</td>\n",
       "      <td>417</td>\n",
       "      <td>805.0</td>\n",
       "      <td>1218.0</td>\n",
       "      <td>182.0</td>\n",
       "      <td>267.0</td>\n",
       "      <td>1</td>\n",
       "      <td>2</td>\n",
       "      <td>1.0</td>\n",
       "      <td>-1</td>\n",
       "      <td>-1</td>\n",
       "      <td>-1</td>\n",
       "    </tr>\n",
       "    <tr>\n",
       "      <th>15278</th>\n",
       "      <td>3460</td>\n",
       "      <td>559</td>\n",
       "      <td>779.0</td>\n",
       "      <td>772.0</td>\n",
       "      <td>226.0</td>\n",
       "      <td>449.0</td>\n",
       "      <td>1</td>\n",
       "      <td>2</td>\n",
       "      <td>1.0</td>\n",
       "      <td>-1</td>\n",
       "      <td>-1</td>\n",
       "      <td>-1</td>\n",
       "    </tr>\n",
       "    <tr>\n",
       "      <th>36044</th>\n",
       "      <td>7178</td>\n",
       "      <td>1308</td>\n",
       "      <td>940.0</td>\n",
       "      <td>466.0</td>\n",
       "      <td>181.0</td>\n",
       "      <td>198.0</td>\n",
       "      <td>1</td>\n",
       "      <td>4</td>\n",
       "      <td>1.0</td>\n",
       "      <td>-1</td>\n",
       "      <td>-1</td>\n",
       "      <td>-1</td>\n",
       "    </tr>\n",
       "    <tr>\n",
       "      <th>5419</th>\n",
       "      <td>1166</td>\n",
       "      <td>197</td>\n",
       "      <td>387.0</td>\n",
       "      <td>64.0</td>\n",
       "      <td>265.0</td>\n",
       "      <td>507.0</td>\n",
       "      <td>1</td>\n",
       "      <td>2</td>\n",
       "      <td>1.0</td>\n",
       "      <td>-1</td>\n",
       "      <td>-1</td>\n",
       "      <td>-1</td>\n",
       "    </tr>\n",
       "    <tr>\n",
       "      <th>43475</th>\n",
       "      <td>8469</td>\n",
       "      <td>1580</td>\n",
       "      <td>948.0</td>\n",
       "      <td>0.0</td>\n",
       "      <td>310.0</td>\n",
       "      <td>139.0</td>\n",
       "      <td>1</td>\n",
       "      <td>2</td>\n",
       "      <td>1.0</td>\n",
       "      <td>-1</td>\n",
       "      <td>-1</td>\n",
       "      <td>-1</td>\n",
       "    </tr>\n",
       "    <tr>\n",
       "      <th>43625</th>\n",
       "      <td>8480</td>\n",
       "      <td>1578</td>\n",
       "      <td>1220.0</td>\n",
       "      <td>824.0</td>\n",
       "      <td>296.0</td>\n",
       "      <td>147.0</td>\n",
       "      <td>1</td>\n",
       "      <td>4</td>\n",
       "      <td>1.0</td>\n",
       "      <td>-1</td>\n",
       "      <td>-1</td>\n",
       "      <td>-1</td>\n",
       "    </tr>\n",
       "    <tr>\n",
       "      <th>38152</th>\n",
       "      <td>7541</td>\n",
       "      <td>1379</td>\n",
       "      <td>1324.0</td>\n",
       "      <td>1034.0</td>\n",
       "      <td>202.0</td>\n",
       "      <td>441.0</td>\n",
       "      <td>1</td>\n",
       "      <td>2</td>\n",
       "      <td>1.0</td>\n",
       "      <td>-1</td>\n",
       "      <td>-1</td>\n",
       "      <td>-1</td>\n",
       "    </tr>\n",
       "    <tr>\n",
       "      <th>22246</th>\n",
       "      <td>4941</td>\n",
       "      <td>806</td>\n",
       "      <td>1083.0</td>\n",
       "      <td>1147.0</td>\n",
       "      <td>179.0</td>\n",
       "      <td>204.0</td>\n",
       "      <td>1</td>\n",
       "      <td>2</td>\n",
       "      <td>1.0</td>\n",
       "      <td>-1</td>\n",
       "      <td>-1</td>\n",
       "      <td>-1</td>\n",
       "    </tr>\n",
       "  </tbody>\n",
       "</table>\n",
       "</div>"
      ],
      "text/plain": [
       "       frame    id      x1      y1      w      h  conf  class  visibility  x  \\\n",
       "26757   5781   974   729.0   425.0  376.0  213.0     1      2         1.0 -1   \n",
       "40579   7981  1469   315.0   785.0  280.0  261.0     1      2         1.0 -1   \n",
       "11782   2825   417   805.0  1218.0  182.0  267.0     1      2         1.0 -1   \n",
       "15278   3460   559   779.0   772.0  226.0  449.0     1      2         1.0 -1   \n",
       "36044   7178  1308   940.0   466.0  181.0  198.0     1      4         1.0 -1   \n",
       "5419    1166   197   387.0    64.0  265.0  507.0     1      2         1.0 -1   \n",
       "43475   8469  1580   948.0     0.0  310.0  139.0     1      2         1.0 -1   \n",
       "43625   8480  1578  1220.0   824.0  296.0  147.0     1      4         1.0 -1   \n",
       "38152   7541  1379  1324.0  1034.0  202.0  441.0     1      2         1.0 -1   \n",
       "22246   4941   806  1083.0  1147.0  179.0  204.0     1      2         1.0 -1   \n",
       "\n",
       "       y  z  \n",
       "26757 -1 -1  \n",
       "40579 -1 -1  \n",
       "11782 -1 -1  \n",
       "15278 -1 -1  \n",
       "36044 -1 -1  \n",
       "5419  -1 -1  \n",
       "43475 -1 -1  \n",
       "43625 -1 -1  \n",
       "38152 -1 -1  \n",
       "22246 -1 -1  "
      ]
     },
     "metadata": {},
     "output_type": "display_data"
    },
    {
     "name": "stdout",
     "output_type": "stream",
     "text": [
      "------------------------------------------------------------\n"
     ]
    },
    {
     "data": {
      "text/html": [
       "<div>\n",
       "<style scoped>\n",
       "    .dataframe tbody tr th:only-of-type {\n",
       "        vertical-align: middle;\n",
       "    }\n",
       "\n",
       "    .dataframe tbody tr th {\n",
       "        vertical-align: top;\n",
       "    }\n",
       "\n",
       "    .dataframe thead th {\n",
       "        text-align: right;\n",
       "    }\n",
       "</style>\n",
       "<table border=\"1\" class=\"dataframe\">\n",
       "  <thead>\n",
       "    <tr style=\"text-align: right;\">\n",
       "      <th></th>\n",
       "      <th>frame</th>\n",
       "      <th>id</th>\n",
       "      <th>x1</th>\n",
       "      <th>y1</th>\n",
       "      <th>w</th>\n",
       "      <th>h</th>\n",
       "      <th>conf</th>\n",
       "      <th>class</th>\n",
       "      <th>visibility</th>\n",
       "      <th>x</th>\n",
       "      <th>y</th>\n",
       "      <th>z</th>\n",
       "    </tr>\n",
       "  </thead>\n",
       "  <tbody>\n",
       "    <tr>\n",
       "      <th>116</th>\n",
       "      <td>40</td>\n",
       "      <td>7</td>\n",
       "      <td>804.0</td>\n",
       "      <td>61.0</td>\n",
       "      <td>456.0</td>\n",
       "      <td>440.0</td>\n",
       "      <td>1</td>\n",
       "      <td>2</td>\n",
       "      <td>1.0</td>\n",
       "      <td>-1</td>\n",
       "      <td>-1</td>\n",
       "      <td>-1</td>\n",
       "    </tr>\n",
       "    <tr>\n",
       "      <th>117</th>\n",
       "      <td>40</td>\n",
       "      <td>5</td>\n",
       "      <td>329.0</td>\n",
       "      <td>405.0</td>\n",
       "      <td>246.0</td>\n",
       "      <td>446.0</td>\n",
       "      <td>1</td>\n",
       "      <td>2</td>\n",
       "      <td>1.0</td>\n",
       "      <td>-1</td>\n",
       "      <td>-1</td>\n",
       "      <td>-1</td>\n",
       "    </tr>\n",
       "    <tr>\n",
       "      <th>118</th>\n",
       "      <td>40</td>\n",
       "      <td>6</td>\n",
       "      <td>742.0</td>\n",
       "      <td>455.0</td>\n",
       "      <td>390.0</td>\n",
       "      <td>234.0</td>\n",
       "      <td>1</td>\n",
       "      <td>2</td>\n",
       "      <td>1.0</td>\n",
       "      <td>-1</td>\n",
       "      <td>-1</td>\n",
       "      <td>-1</td>\n",
       "    </tr>\n",
       "  </tbody>\n",
       "</table>\n",
       "</div>"
      ],
      "text/plain": [
       "     frame  id     x1     y1      w      h  conf  class  visibility  x  y  z\n",
       "116     40   7  804.0   61.0  456.0  440.0     1      2         1.0 -1 -1 -1\n",
       "117     40   5  329.0  405.0  246.0  446.0     1      2         1.0 -1 -1 -1\n",
       "118     40   6  742.0  455.0  390.0  234.0     1      2         1.0 -1 -1 -1"
      ]
     },
     "metadata": {},
     "output_type": "display_data"
    },
    {
     "name": "stdout",
     "output_type": "stream",
     "text": [
      "------------------------------------------------------------\n"
     ]
    },
    {
     "data": {
      "text/html": [
       "<div>\n",
       "<style scoped>\n",
       "    .dataframe tbody tr th:only-of-type {\n",
       "        vertical-align: middle;\n",
       "    }\n",
       "\n",
       "    .dataframe tbody tr th {\n",
       "        vertical-align: top;\n",
       "    }\n",
       "\n",
       "    .dataframe thead th {\n",
       "        text-align: right;\n",
       "    }\n",
       "</style>\n",
       "<table border=\"1\" class=\"dataframe\">\n",
       "  <thead>\n",
       "    <tr style=\"text-align: right;\">\n",
       "      <th></th>\n",
       "      <th>count</th>\n",
       "      <th>mean</th>\n",
       "      <th>std</th>\n",
       "      <th>min</th>\n",
       "      <th>25%</th>\n",
       "      <th>50%</th>\n",
       "      <th>75%</th>\n",
       "      <th>max</th>\n",
       "    </tr>\n",
       "  </thead>\n",
       "  <tbody>\n",
       "    <tr>\n",
       "      <th>frame</th>\n",
       "      <td>46531.0</td>\n",
       "      <td>4863.149212</td>\n",
       "      <td>2559.183728</td>\n",
       "      <td>1.0</td>\n",
       "      <td>2810.0</td>\n",
       "      <td>5139.0</td>\n",
       "      <td>7024.0</td>\n",
       "      <td>9000.0</td>\n",
       "    </tr>\n",
       "    <tr>\n",
       "      <th>id</th>\n",
       "      <td>46531.0</td>\n",
       "      <td>843.649868</td>\n",
       "      <td>486.661127</td>\n",
       "      <td>1.0</td>\n",
       "      <td>416.0</td>\n",
       "      <td>850.0</td>\n",
       "      <td>1267.0</td>\n",
       "      <td>1684.0</td>\n",
       "    </tr>\n",
       "    <tr>\n",
       "      <th>x1</th>\n",
       "      <td>46531.0</td>\n",
       "      <td>794.298853</td>\n",
       "      <td>351.169090</td>\n",
       "      <td>0.0</td>\n",
       "      <td>510.0</td>\n",
       "      <td>765.0</td>\n",
       "      <td>1033.0</td>\n",
       "      <td>1718.0</td>\n",
       "    </tr>\n",
       "    <tr>\n",
       "      <th>y1</th>\n",
       "      <td>46531.0</td>\n",
       "      <td>618.759398</td>\n",
       "      <td>467.326455</td>\n",
       "      <td>0.0</td>\n",
       "      <td>169.0</td>\n",
       "      <td>600.0</td>\n",
       "      <td>1028.0</td>\n",
       "      <td>1484.0</td>\n",
       "    </tr>\n",
       "    <tr>\n",
       "      <th>w</th>\n",
       "      <td>46531.0</td>\n",
       "      <td>260.859768</td>\n",
       "      <td>101.153045</td>\n",
       "      <td>20.0</td>\n",
       "      <td>187.0</td>\n",
       "      <td>243.0</td>\n",
       "      <td>323.0</td>\n",
       "      <td>721.0</td>\n",
       "    </tr>\n",
       "    <tr>\n",
       "      <th>h</th>\n",
       "      <td>46531.0</td>\n",
       "      <td>254.691139</td>\n",
       "      <td>115.766574</td>\n",
       "      <td>1.0</td>\n",
       "      <td>173.0</td>\n",
       "      <td>243.0</td>\n",
       "      <td>331.0</td>\n",
       "      <td>642.0</td>\n",
       "    </tr>\n",
       "    <tr>\n",
       "      <th>conf</th>\n",
       "      <td>46531.0</td>\n",
       "      <td>0.999914</td>\n",
       "      <td>0.009271</td>\n",
       "      <td>0.0</td>\n",
       "      <td>1.0</td>\n",
       "      <td>1.0</td>\n",
       "      <td>1.0</td>\n",
       "      <td>1.0</td>\n",
       "    </tr>\n",
       "    <tr>\n",
       "      <th>class</th>\n",
       "      <td>46531.0</td>\n",
       "      <td>2.409082</td>\n",
       "      <td>0.854818</td>\n",
       "      <td>1.0</td>\n",
       "      <td>2.0</td>\n",
       "      <td>2.0</td>\n",
       "      <td>2.0</td>\n",
       "      <td>4.0</td>\n",
       "    </tr>\n",
       "    <tr>\n",
       "      <th>visibility</th>\n",
       "      <td>46531.0</td>\n",
       "      <td>1.000000</td>\n",
       "      <td>0.000000</td>\n",
       "      <td>1.0</td>\n",
       "      <td>1.0</td>\n",
       "      <td>1.0</td>\n",
       "      <td>1.0</td>\n",
       "      <td>1.0</td>\n",
       "    </tr>\n",
       "    <tr>\n",
       "      <th>x</th>\n",
       "      <td>46531.0</td>\n",
       "      <td>-1.000000</td>\n",
       "      <td>0.000000</td>\n",
       "      <td>-1.0</td>\n",
       "      <td>-1.0</td>\n",
       "      <td>-1.0</td>\n",
       "      <td>-1.0</td>\n",
       "      <td>-1.0</td>\n",
       "    </tr>\n",
       "    <tr>\n",
       "      <th>y</th>\n",
       "      <td>46531.0</td>\n",
       "      <td>-1.000000</td>\n",
       "      <td>0.000000</td>\n",
       "      <td>-1.0</td>\n",
       "      <td>-1.0</td>\n",
       "      <td>-1.0</td>\n",
       "      <td>-1.0</td>\n",
       "      <td>-1.0</td>\n",
       "    </tr>\n",
       "    <tr>\n",
       "      <th>z</th>\n",
       "      <td>46531.0</td>\n",
       "      <td>-1.000000</td>\n",
       "      <td>0.000000</td>\n",
       "      <td>-1.0</td>\n",
       "      <td>-1.0</td>\n",
       "      <td>-1.0</td>\n",
       "      <td>-1.0</td>\n",
       "      <td>-1.0</td>\n",
       "    </tr>\n",
       "  </tbody>\n",
       "</table>\n",
       "</div>"
      ],
      "text/plain": [
       "              count         mean          std   min     25%     50%     75%  \\\n",
       "frame       46531.0  4863.149212  2559.183728   1.0  2810.0  5139.0  7024.0   \n",
       "id          46531.0   843.649868   486.661127   1.0   416.0   850.0  1267.0   \n",
       "x1          46531.0   794.298853   351.169090   0.0   510.0   765.0  1033.0   \n",
       "y1          46531.0   618.759398   467.326455   0.0   169.0   600.0  1028.0   \n",
       "w           46531.0   260.859768   101.153045  20.0   187.0   243.0   323.0   \n",
       "h           46531.0   254.691139   115.766574   1.0   173.0   243.0   331.0   \n",
       "conf        46531.0     0.999914     0.009271   0.0     1.0     1.0     1.0   \n",
       "class       46531.0     2.409082     0.854818   1.0     2.0     2.0     2.0   \n",
       "visibility  46531.0     1.000000     0.000000   1.0     1.0     1.0     1.0   \n",
       "x           46531.0    -1.000000     0.000000  -1.0    -1.0    -1.0    -1.0   \n",
       "y           46531.0    -1.000000     0.000000  -1.0    -1.0    -1.0    -1.0   \n",
       "z           46531.0    -1.000000     0.000000  -1.0    -1.0    -1.0    -1.0   \n",
       "\n",
       "               max  \n",
       "frame       9000.0  \n",
       "id          1684.0  \n",
       "x1          1718.0  \n",
       "y1          1484.0  \n",
       "w            721.0  \n",
       "h            642.0  \n",
       "conf           1.0  \n",
       "class          4.0  \n",
       "visibility     1.0  \n",
       "x             -1.0  \n",
       "y             -1.0  \n",
       "z             -1.0  "
      ]
     },
     "metadata": {},
     "output_type": "display_data"
    },
    {
     "name": "stdout",
     "output_type": "stream",
     "text": [
      "------------------------------------------------------------\n",
      "frame         0\n",
      "id            0\n",
      "x1            0\n",
      "y1            0\n",
      "w             0\n",
      "h             0\n",
      "conf          0\n",
      "class         0\n",
      "visibility    0\n",
      "x             0\n",
      "y             0\n",
      "z             0\n",
      "dtype: int64\n",
      "------------------------------------------------------------\n",
      "Количество дубликатов:  0\n",
      "------------------------------------------------------------\n",
      "Количество признаков:  12 Количество значений:  46531\n"
     ]
    }
   ],
   "source": [
    "# посмотрим на данные трека обектов\n",
    "info(df_gt)"
   ]
  },
  {
   "cell_type": "code",
   "execution_count": 10,
   "metadata": {
    "ExecuteTime": {
     "end_time": "2024-09-05T05:28:55.859707Z",
     "start_time": "2024-09-05T05:28:55.850678Z"
    }
   },
   "outputs": [
    {
     "name": "stdout",
     "output_type": "stream",
     "text": [
      "--------------------\n",
      "Колонка conf:\n",
      "conf\n",
      "1    46527\n",
      "0        4\n",
      "Name: count, dtype: int64\n",
      "--------------------\n",
      "Колонка class:\n",
      "class\n",
      "2    34396\n",
      "4     9884\n",
      "1     1492\n",
      "3      759\n",
      "Name: count, dtype: int64\n",
      "--------------------\n",
      "Колонка visibility:\n",
      "visibility\n",
      "1.0    46531\n",
      "Name: count, dtype: int64\n"
     ]
    }
   ],
   "source": [
    "# изучим уникальные значения для 'conf', 'class', 'visibility'\n",
    "for col in ['conf', 'class', 'visibility']:\n",
    "    print('-' * 20)\n",
    "    print(f'Колонка {col}:')\n",
    "    print(df_gt[col].value_counts()) "
   ]
  },
  {
   "cell_type": "code",
   "execution_count": 11,
   "metadata": {
    "ExecuteTime": {
     "end_time": "2024-09-05T05:29:02.113150Z",
     "start_time": "2024-09-05T05:29:02.101184Z"
    }
   },
   "outputs": [
    {
     "data": {
      "text/html": [
       "<div>\n",
       "<style scoped>\n",
       "    .dataframe tbody tr th:only-of-type {\n",
       "        vertical-align: middle;\n",
       "    }\n",
       "\n",
       "    .dataframe tbody tr th {\n",
       "        vertical-align: top;\n",
       "    }\n",
       "\n",
       "    .dataframe thead th {\n",
       "        text-align: right;\n",
       "    }\n",
       "</style>\n",
       "<table border=\"1\" class=\"dataframe\">\n",
       "  <thead>\n",
       "    <tr style=\"text-align: right;\">\n",
       "      <th></th>\n",
       "      <th>label</th>\n",
       "    </tr>\n",
       "  </thead>\n",
       "  <tbody>\n",
       "    <tr>\n",
       "      <th>0</th>\n",
       "      <td>НП</td>\n",
       "    </tr>\n",
       "    <tr>\n",
       "      <th>1</th>\n",
       "      <td>ПЭТ</td>\n",
       "    </tr>\n",
       "    <tr>\n",
       "      <th>2</th>\n",
       "      <td>ПНД</td>\n",
       "    </tr>\n",
       "    <tr>\n",
       "      <th>3</th>\n",
       "      <td>ДП</td>\n",
       "    </tr>\n",
       "  </tbody>\n",
       "</table>\n",
       "</div>"
      ],
      "text/plain": [
       "  label\n",
       "0    НП\n",
       "1   ПЭТ\n",
       "2   ПНД\n",
       "3    ДП"
      ]
     },
     "metadata": {},
     "output_type": "display_data"
    }
   ],
   "source": [
    "# классы сортировки\n",
    "display(df_labels)"
   ]
  },
  {
   "cell_type": "markdown",
   "metadata": {},
   "source": [
    "__Вывод:__\n",
    "* Данные о треке объектов состоят из 46531 значений и 12 признаков. Пропуски и дубликаты отсутствуют. В одном фрейме может быть несколько обьектов. \n",
    "* Всего 4 класса для сортировки: НП, ПЭТ, ПНД, ДП."
   ]
  },
  {
   "cell_type": "markdown",
   "metadata": {},
   "source": [
    "## Модели трекинга"
   ]
  },
  {
   "cell_type": "code",
   "execution_count": 12,
   "metadata": {
    "ExecuteTime": {
     "end_time": "2024-09-05T05:29:25.914443Z",
     "start_time": "2024-09-05T05:29:25.907461Z"
    }
   },
   "outputs": [],
   "source": [
    "def motMetricsEnhancedCalculator(df_target, df_predict):\n",
    "    \n",
    "    '''\n",
    "    Функция вычисляет метрики MOTA и MOTP для задачи отслеживания объектов. \n",
    "    Она принимает два аргумента:\n",
    "\n",
    "    df_target — фрейм данных с истинными положениями объектов;\n",
    "    df_predict — фрейм данных с предсказанными положениями объектов.\n",
    "    \n",
    "    Функция использует библиотеку motmetrics для вычисления метрик. \n",
    "    \n",
    "    В ней происходит следующее:\n",
    "\n",
    "    1) Создаётся экземпляр класса MOTAccumulator, который будет накапливать \n",
    "    информацию о совпадениях между истинными и предсказанными объектами.\n",
    "    \n",
    "    2) Для каждого кадра в диапазоне от 1 до максимального номера кадра во \n",
    "    входном наборе данных выполняется следующая последовательность действий:\n",
    "     - Извлекаются истинные и предсказанные положения объектов для текущего \n",
    "     кадра.\n",
    "     - Вычисляется матрица пересечений над объединением (IOU) между истинными \n",
    "     и предсказанными прямоугольниками.\n",
    "     - Информация о совпадениях добавляется в экземпляр MOTAccumulator.\n",
    "     \n",
    "    3) После обработки всех кадров создаются экземпляры классов mota и motp, \n",
    "    которые используются для вычисления итоговых значений метрик MOTA и MOTP.\n",
    "    \n",
    "    4) Возвращаются значения MOTA и MOTP в виде кортежа.\n",
    "    '''\n",
    "    \n",
    "    gt = df_target.values\n",
    "    t = df_predict.values\n",
    "\n",
    "    acc = mm.MOTAccumulator(auto_id=True)\n",
    "    \n",
    "    for frame in range(int(gt[:,0].max())):\n",
    "        frame += 1\n",
    "\n",
    "        gt_dets = gt[gt[:,0]==frame,1:6]\n",
    "        t_dets = t[t[:,0]==frame,1:6]\n",
    "\n",
    "        C = mm.distances.iou_matrix(gt_dets[:,1:], t_dets[:,1:], max_iou=0.5)\n",
    "\n",
    "        acc.update(gt_dets[:,0].astype('int').tolist(), t_dets[:,0].astype('int').tolist(), C)\n",
    "\n",
    "    mh = mm.metrics.create()\n",
    "    \n",
    "    summary = mh.compute(acc, \n",
    "                         metrics=['mota', 'motp'],\n",
    "                         name='acc'\n",
    "                        )\n",
    "\n",
    "    \n",
    "    return summary['mota'][0], summary['motp'][0]"
   ]
  },
  {
   "cell_type": "code",
   "execution_count": 13,
   "metadata": {
    "ExecuteTime": {
     "end_time": "2024-09-05T05:29:27.827120Z",
     "start_time": "2024-09-05T05:29:27.815152Z"
    }
   },
   "outputs": [],
   "source": [
    "# создадим сводную таблицу\n",
    "pivot_table = pd.DataFrame(columns=['model', 'mota', 'motp'])"
   ]
  },
  {
   "cell_type": "code",
   "execution_count": 14,
   "metadata": {
    "ExecuteTime": {
     "end_time": "2024-09-05T05:29:29.434415Z",
     "start_time": "2024-09-05T05:29:29.130193Z"
    }
   },
   "outputs": [],
   "source": [
    "# список имён файлов и каталогов \n",
    "frame_files = [os.path.join(path_images, f) for f in sorted(os.listdir(path_images)) if os.path.isfile(os.path.join(path_images, f))]"
   ]
  },
  {
   "cell_type": "markdown",
   "metadata": {},
   "source": [
    "### Базовая модель BoT-SORT"
   ]
  },
  {
   "cell_type": "markdown",
   "metadata": {},
   "source": [
    "#### Расчёт треков"
   ]
  },
  {
   "cell_type": "code",
   "execution_count": 18,
   "metadata": {
    "ExecuteTime": {
     "end_time": "2024-09-05T05:32:42.929147Z",
     "start_time": "2024-09-05T05:32:42.810463Z"
    }
   },
   "outputs": [],
   "source": [
    "model = YOLO(model_path, verbose=False) # выбираем предобученную модель детектора"
   ]
  },
  {
   "cell_type": "code",
   "execution_count": 17,
   "metadata": {
    "ExecuteTime": {
     "end_time": "2024-09-05T05:30:57.709344Z",
     "start_time": "2024-09-05T05:29:58.563947Z"
    },
    "scrolled": true
   },
   "outputs": [
    {
     "name": "stderr",
     "output_type": "stream",
     "text": [
      "72it [00:58,  1.22it/s]\n"
     ]
    },
    {
     "ename": "KeyboardInterrupt",
     "evalue": "",
     "output_type": "error",
     "traceback": [
      "\u001b[1;31m---------------------------------------------------------------------------\u001b[0m",
      "\u001b[1;31mKeyboardInterrupt\u001b[0m                         Traceback (most recent call last)",
      "Cell \u001b[1;32mIn[17], line 12\u001b[0m\n\u001b[0;32m      9\u001b[0m frame \u001b[38;5;241m=\u001b[39m cv2\u001b[38;5;241m.\u001b[39mimread(frame_file, )\n\u001b[0;32m     11\u001b[0m \u001b[38;5;28;01mif\u001b[39;00m frame \u001b[38;5;129;01mis\u001b[39;00m \u001b[38;5;129;01mnot\u001b[39;00m \u001b[38;5;28;01mNone\u001b[39;00m:\n\u001b[1;32m---> 12\u001b[0m     results \u001b[38;5;241m=\u001b[39m \u001b[43mmodel\u001b[49m\u001b[38;5;241;43m.\u001b[39;49m\u001b[43mtrack\u001b[49m\u001b[43m(\u001b[49m\u001b[43mframe\u001b[49m\u001b[43m,\u001b[49m\u001b[43m \u001b[49m\u001b[43mdevice\u001b[49m\u001b[38;5;241;43m=\u001b[39;49m\u001b[38;5;241;43m0\u001b[39;49m\u001b[43m,\u001b[49m\u001b[43m \u001b[49m\u001b[43mpersist\u001b[49m\u001b[38;5;241;43m=\u001b[39;49m\u001b[38;5;28;43;01mTrue\u001b[39;49;00m\u001b[43m,\u001b[49m\u001b[43m)\u001b[49m \u001b[38;5;66;03m# результаты работы трекера\u001b[39;00m\n\u001b[0;32m     13\u001b[0m     \u001b[38;5;28;01mif\u001b[39;00m results[\u001b[38;5;241m0\u001b[39m]\u001b[38;5;241m.\u001b[39mboxes\u001b[38;5;241m.\u001b[39mid \u001b[38;5;129;01mis\u001b[39;00m \u001b[38;5;129;01mnot\u001b[39;00m \u001b[38;5;28;01mNone\u001b[39;00m:\n\u001b[0;32m     14\u001b[0m         \u001b[38;5;28;01mfor\u001b[39;00m num_element \u001b[38;5;129;01min\u001b[39;00m \u001b[38;5;28mrange\u001b[39m(results[\u001b[38;5;241m0\u001b[39m]\u001b[38;5;241m.\u001b[39mboxes\u001b[38;5;241m.\u001b[39mid\u001b[38;5;241m.\u001b[39mshape[\u001b[38;5;241m0\u001b[39m]):\n",
      "File \u001b[1;32mD:\\PythonProjects\\tanya_hack_1\\venv\\lib\\site-packages\\ultralytics\\engine\\model.py:614\u001b[0m, in \u001b[0;36mModel.track\u001b[1;34m(self, source, stream, persist, **kwargs)\u001b[0m\n\u001b[0;32m    612\u001b[0m kwargs[\u001b[38;5;124m\"\u001b[39m\u001b[38;5;124mbatch\u001b[39m\u001b[38;5;124m\"\u001b[39m] \u001b[38;5;241m=\u001b[39m kwargs\u001b[38;5;241m.\u001b[39mget(\u001b[38;5;124m\"\u001b[39m\u001b[38;5;124mbatch\u001b[39m\u001b[38;5;124m\"\u001b[39m) \u001b[38;5;129;01mor\u001b[39;00m \u001b[38;5;241m1\u001b[39m  \u001b[38;5;66;03m# batch-size 1 for tracking in videos\u001b[39;00m\n\u001b[0;32m    613\u001b[0m kwargs[\u001b[38;5;124m\"\u001b[39m\u001b[38;5;124mmode\u001b[39m\u001b[38;5;124m\"\u001b[39m] \u001b[38;5;241m=\u001b[39m \u001b[38;5;124m\"\u001b[39m\u001b[38;5;124mtrack\u001b[39m\u001b[38;5;124m\"\u001b[39m\n\u001b[1;32m--> 614\u001b[0m \u001b[38;5;28;01mreturn\u001b[39;00m \u001b[38;5;28mself\u001b[39m\u001b[38;5;241m.\u001b[39mpredict(source\u001b[38;5;241m=\u001b[39msource, stream\u001b[38;5;241m=\u001b[39mstream, \u001b[38;5;241m*\u001b[39m\u001b[38;5;241m*\u001b[39mkwargs)\n",
      "File \u001b[1;32mD:\\PythonProjects\\tanya_hack_1\\venv\\lib\\site-packages\\ultralytics\\engine\\model.py:567\u001b[0m, in \u001b[0;36mModel.predict\u001b[1;34m(self, source, stream, predictor, **kwargs)\u001b[0m\n\u001b[0;32m    565\u001b[0m \u001b[38;5;28;01mif\u001b[39;00m prompts \u001b[38;5;129;01mand\u001b[39;00m \u001b[38;5;28mhasattr\u001b[39m(\u001b[38;5;28mself\u001b[39m\u001b[38;5;241m.\u001b[39mpredictor, \u001b[38;5;124m\"\u001b[39m\u001b[38;5;124mset_prompts\u001b[39m\u001b[38;5;124m\"\u001b[39m):  \u001b[38;5;66;03m# for SAM-type models\u001b[39;00m\n\u001b[0;32m    566\u001b[0m     \u001b[38;5;28mself\u001b[39m\u001b[38;5;241m.\u001b[39mpredictor\u001b[38;5;241m.\u001b[39mset_prompts(prompts)\n\u001b[1;32m--> 567\u001b[0m \u001b[38;5;28;01mreturn\u001b[39;00m \u001b[38;5;28mself\u001b[39m\u001b[38;5;241m.\u001b[39mpredictor\u001b[38;5;241m.\u001b[39mpredict_cli(source\u001b[38;5;241m=\u001b[39msource) \u001b[38;5;28;01mif\u001b[39;00m is_cli \u001b[38;5;28;01melse\u001b[39;00m \u001b[38;5;28;43mself\u001b[39;49m\u001b[38;5;241;43m.\u001b[39;49m\u001b[43mpredictor\u001b[49m\u001b[43m(\u001b[49m\u001b[43msource\u001b[49m\u001b[38;5;241;43m=\u001b[39;49m\u001b[43msource\u001b[49m\u001b[43m,\u001b[49m\u001b[43m \u001b[49m\u001b[43mstream\u001b[49m\u001b[38;5;241;43m=\u001b[39;49m\u001b[43mstream\u001b[49m\u001b[43m)\u001b[49m\n",
      "File \u001b[1;32mD:\\PythonProjects\\tanya_hack_1\\venv\\lib\\site-packages\\ultralytics\\engine\\predictor.py:168\u001b[0m, in \u001b[0;36mBasePredictor.__call__\u001b[1;34m(self, source, model, stream, *args, **kwargs)\u001b[0m\n\u001b[0;32m    166\u001b[0m     \u001b[38;5;28;01mreturn\u001b[39;00m \u001b[38;5;28mself\u001b[39m\u001b[38;5;241m.\u001b[39mstream_inference(source, model, \u001b[38;5;241m*\u001b[39margs, \u001b[38;5;241m*\u001b[39m\u001b[38;5;241m*\u001b[39mkwargs)\n\u001b[0;32m    167\u001b[0m \u001b[38;5;28;01melse\u001b[39;00m:\n\u001b[1;32m--> 168\u001b[0m     \u001b[38;5;28;01mreturn\u001b[39;00m \u001b[38;5;28;43mlist\u001b[39;49m\u001b[43m(\u001b[49m\u001b[38;5;28;43mself\u001b[39;49m\u001b[38;5;241;43m.\u001b[39;49m\u001b[43mstream_inference\u001b[49m\u001b[43m(\u001b[49m\u001b[43msource\u001b[49m\u001b[43m,\u001b[49m\u001b[43m \u001b[49m\u001b[43mmodel\u001b[49m\u001b[43m,\u001b[49m\u001b[43m \u001b[49m\u001b[38;5;241;43m*\u001b[39;49m\u001b[43margs\u001b[49m\u001b[43m,\u001b[49m\u001b[43m \u001b[49m\u001b[38;5;241;43m*\u001b[39;49m\u001b[38;5;241;43m*\u001b[39;49m\u001b[43mkwargs\u001b[49m\u001b[43m)\u001b[49m\u001b[43m)\u001b[49m\n",
      "File \u001b[1;32mD:\\PythonProjects\\tanya_hack_1\\venv\\lib\\site-packages\\torch\\utils\\_contextlib.py:35\u001b[0m, in \u001b[0;36m_wrap_generator.<locals>.generator_context\u001b[1;34m(*args, **kwargs)\u001b[0m\n\u001b[0;32m     32\u001b[0m \u001b[38;5;28;01mtry\u001b[39;00m:\n\u001b[0;32m     33\u001b[0m     \u001b[38;5;66;03m# Issuing `None` to a generator fires it up\u001b[39;00m\n\u001b[0;32m     34\u001b[0m     \u001b[38;5;28;01mwith\u001b[39;00m ctx_factory():\n\u001b[1;32m---> 35\u001b[0m         response \u001b[38;5;241m=\u001b[39m \u001b[43mgen\u001b[49m\u001b[38;5;241;43m.\u001b[39;49m\u001b[43msend\u001b[49m\u001b[43m(\u001b[49m\u001b[38;5;28;43;01mNone\u001b[39;49;00m\u001b[43m)\u001b[49m\n\u001b[0;32m     37\u001b[0m     \u001b[38;5;28;01mwhile\u001b[39;00m \u001b[38;5;28;01mTrue\u001b[39;00m:\n\u001b[0;32m     38\u001b[0m         \u001b[38;5;28;01mtry\u001b[39;00m:\n\u001b[0;32m     39\u001b[0m             \u001b[38;5;66;03m# Forward the response to our caller and get its next request\u001b[39;00m\n",
      "File \u001b[1;32mD:\\PythonProjects\\tanya_hack_1\\venv\\lib\\site-packages\\ultralytics\\engine\\predictor.py:254\u001b[0m, in \u001b[0;36mBasePredictor.stream_inference\u001b[1;34m(self, source, model, *args, **kwargs)\u001b[0m\n\u001b[0;32m    252\u001b[0m \u001b[38;5;66;03m# Inference\u001b[39;00m\n\u001b[0;32m    253\u001b[0m \u001b[38;5;28;01mwith\u001b[39;00m profilers[\u001b[38;5;241m1\u001b[39m]:\n\u001b[1;32m--> 254\u001b[0m     preds \u001b[38;5;241m=\u001b[39m \u001b[38;5;28mself\u001b[39m\u001b[38;5;241m.\u001b[39minference(im, \u001b[38;5;241m*\u001b[39margs, \u001b[38;5;241m*\u001b[39m\u001b[38;5;241m*\u001b[39mkwargs)\n\u001b[0;32m    255\u001b[0m     \u001b[38;5;28;01mif\u001b[39;00m \u001b[38;5;28mself\u001b[39m\u001b[38;5;241m.\u001b[39margs\u001b[38;5;241m.\u001b[39membed:\n\u001b[0;32m    256\u001b[0m         \u001b[38;5;28;01myield from\u001b[39;00m [preds] \u001b[38;5;28;01mif\u001b[39;00m \u001b[38;5;28misinstance\u001b[39m(preds, torch\u001b[38;5;241m.\u001b[39mTensor) \u001b[38;5;28;01melse\u001b[39;00m preds  \u001b[38;5;66;03m# yield embedding tensors\u001b[39;00m\n",
      "File \u001b[1;32mD:\\PythonProjects\\tanya_hack_1\\venv\\lib\\site-packages\\ultralytics\\engine\\predictor.py:142\u001b[0m, in \u001b[0;36mBasePredictor.inference\u001b[1;34m(self, im, *args, **kwargs)\u001b[0m\n\u001b[0;32m    136\u001b[0m \u001b[38;5;250m\u001b[39m\u001b[38;5;124;03m\"\"\"Runs inference on a given image using the specified model and arguments.\"\"\"\u001b[39;00m\n\u001b[0;32m    137\u001b[0m visualize \u001b[38;5;241m=\u001b[39m (\n\u001b[0;32m    138\u001b[0m     increment_path(\u001b[38;5;28mself\u001b[39m\u001b[38;5;241m.\u001b[39msave_dir \u001b[38;5;241m/\u001b[39m Path(\u001b[38;5;28mself\u001b[39m\u001b[38;5;241m.\u001b[39mbatch[\u001b[38;5;241m0\u001b[39m][\u001b[38;5;241m0\u001b[39m])\u001b[38;5;241m.\u001b[39mstem, mkdir\u001b[38;5;241m=\u001b[39m\u001b[38;5;28;01mTrue\u001b[39;00m)\n\u001b[0;32m    139\u001b[0m     \u001b[38;5;28;01mif\u001b[39;00m \u001b[38;5;28mself\u001b[39m\u001b[38;5;241m.\u001b[39margs\u001b[38;5;241m.\u001b[39mvisualize \u001b[38;5;129;01mand\u001b[39;00m (\u001b[38;5;129;01mnot\u001b[39;00m \u001b[38;5;28mself\u001b[39m\u001b[38;5;241m.\u001b[39msource_type\u001b[38;5;241m.\u001b[39mtensor)\n\u001b[0;32m    140\u001b[0m     \u001b[38;5;28;01melse\u001b[39;00m \u001b[38;5;28;01mFalse\u001b[39;00m\n\u001b[0;32m    141\u001b[0m )\n\u001b[1;32m--> 142\u001b[0m \u001b[38;5;28;01mreturn\u001b[39;00m \u001b[38;5;28mself\u001b[39m\u001b[38;5;241m.\u001b[39mmodel(im, augment\u001b[38;5;241m=\u001b[39m\u001b[38;5;28mself\u001b[39m\u001b[38;5;241m.\u001b[39margs\u001b[38;5;241m.\u001b[39maugment, visualize\u001b[38;5;241m=\u001b[39mvisualize, embed\u001b[38;5;241m=\u001b[39m\u001b[38;5;28mself\u001b[39m\u001b[38;5;241m.\u001b[39margs\u001b[38;5;241m.\u001b[39membed, \u001b[38;5;241m*\u001b[39margs, \u001b[38;5;241m*\u001b[39m\u001b[38;5;241m*\u001b[39mkwargs)\n",
      "File \u001b[1;32mD:\\PythonProjects\\tanya_hack_1\\venv\\lib\\site-packages\\torch\\nn\\modules\\module.py:1532\u001b[0m, in \u001b[0;36mModule._wrapped_call_impl\u001b[1;34m(self, *args, **kwargs)\u001b[0m\n\u001b[0;32m   1530\u001b[0m     \u001b[38;5;28;01mreturn\u001b[39;00m \u001b[38;5;28mself\u001b[39m\u001b[38;5;241m.\u001b[39m_compiled_call_impl(\u001b[38;5;241m*\u001b[39margs, \u001b[38;5;241m*\u001b[39m\u001b[38;5;241m*\u001b[39mkwargs)  \u001b[38;5;66;03m# type: ignore[misc]\u001b[39;00m\n\u001b[0;32m   1531\u001b[0m \u001b[38;5;28;01melse\u001b[39;00m:\n\u001b[1;32m-> 1532\u001b[0m     \u001b[38;5;28;01mreturn\u001b[39;00m \u001b[38;5;28mself\u001b[39m\u001b[38;5;241m.\u001b[39m_call_impl(\u001b[38;5;241m*\u001b[39margs, \u001b[38;5;241m*\u001b[39m\u001b[38;5;241m*\u001b[39mkwargs)\n",
      "File \u001b[1;32mD:\\PythonProjects\\tanya_hack_1\\venv\\lib\\site-packages\\torch\\nn\\modules\\module.py:1541\u001b[0m, in \u001b[0;36mModule._call_impl\u001b[1;34m(self, *args, **kwargs)\u001b[0m\n\u001b[0;32m   1536\u001b[0m \u001b[38;5;66;03m# If we don't have any hooks, we want to skip the rest of the logic in\u001b[39;00m\n\u001b[0;32m   1537\u001b[0m \u001b[38;5;66;03m# this function, and just call forward.\u001b[39;00m\n\u001b[0;32m   1538\u001b[0m \u001b[38;5;28;01mif\u001b[39;00m \u001b[38;5;129;01mnot\u001b[39;00m (\u001b[38;5;28mself\u001b[39m\u001b[38;5;241m.\u001b[39m_backward_hooks \u001b[38;5;129;01mor\u001b[39;00m \u001b[38;5;28mself\u001b[39m\u001b[38;5;241m.\u001b[39m_backward_pre_hooks \u001b[38;5;129;01mor\u001b[39;00m \u001b[38;5;28mself\u001b[39m\u001b[38;5;241m.\u001b[39m_forward_hooks \u001b[38;5;129;01mor\u001b[39;00m \u001b[38;5;28mself\u001b[39m\u001b[38;5;241m.\u001b[39m_forward_pre_hooks\n\u001b[0;32m   1539\u001b[0m         \u001b[38;5;129;01mor\u001b[39;00m _global_backward_pre_hooks \u001b[38;5;129;01mor\u001b[39;00m _global_backward_hooks\n\u001b[0;32m   1540\u001b[0m         \u001b[38;5;129;01mor\u001b[39;00m _global_forward_hooks \u001b[38;5;129;01mor\u001b[39;00m _global_forward_pre_hooks):\n\u001b[1;32m-> 1541\u001b[0m     \u001b[38;5;28;01mreturn\u001b[39;00m forward_call(\u001b[38;5;241m*\u001b[39margs, \u001b[38;5;241m*\u001b[39m\u001b[38;5;241m*\u001b[39mkwargs)\n\u001b[0;32m   1543\u001b[0m \u001b[38;5;28;01mtry\u001b[39;00m:\n\u001b[0;32m   1544\u001b[0m     result \u001b[38;5;241m=\u001b[39m \u001b[38;5;28;01mNone\u001b[39;00m\n",
      "File \u001b[1;32mD:\\PythonProjects\\tanya_hack_1\\venv\\lib\\site-packages\\ultralytics\\nn\\autobackend.py:456\u001b[0m, in \u001b[0;36mAutoBackend.forward\u001b[1;34m(self, im, augment, visualize, embed)\u001b[0m\n\u001b[0;32m    454\u001b[0m \u001b[38;5;66;03m# PyTorch\u001b[39;00m\n\u001b[0;32m    455\u001b[0m \u001b[38;5;28;01mif\u001b[39;00m \u001b[38;5;28mself\u001b[39m\u001b[38;5;241m.\u001b[39mpt \u001b[38;5;129;01mor\u001b[39;00m \u001b[38;5;28mself\u001b[39m\u001b[38;5;241m.\u001b[39mnn_module:\n\u001b[1;32m--> 456\u001b[0m     y \u001b[38;5;241m=\u001b[39m \u001b[38;5;28;43mself\u001b[39;49m\u001b[38;5;241;43m.\u001b[39;49m\u001b[43mmodel\u001b[49m\u001b[43m(\u001b[49m\u001b[43mim\u001b[49m\u001b[43m,\u001b[49m\u001b[43m \u001b[49m\u001b[43maugment\u001b[49m\u001b[38;5;241;43m=\u001b[39;49m\u001b[43maugment\u001b[49m\u001b[43m,\u001b[49m\u001b[43m \u001b[49m\u001b[43mvisualize\u001b[49m\u001b[38;5;241;43m=\u001b[39;49m\u001b[43mvisualize\u001b[49m\u001b[43m,\u001b[49m\u001b[43m \u001b[49m\u001b[43membed\u001b[49m\u001b[38;5;241;43m=\u001b[39;49m\u001b[43membed\u001b[49m\u001b[43m)\u001b[49m\n\u001b[0;32m    458\u001b[0m \u001b[38;5;66;03m# TorchScript\u001b[39;00m\n\u001b[0;32m    459\u001b[0m \u001b[38;5;28;01melif\u001b[39;00m \u001b[38;5;28mself\u001b[39m\u001b[38;5;241m.\u001b[39mjit:\n",
      "File \u001b[1;32mD:\\PythonProjects\\tanya_hack_1\\venv\\lib\\site-packages\\torch\\nn\\modules\\module.py:1532\u001b[0m, in \u001b[0;36mModule._wrapped_call_impl\u001b[1;34m(self, *args, **kwargs)\u001b[0m\n\u001b[0;32m   1530\u001b[0m     \u001b[38;5;28;01mreturn\u001b[39;00m \u001b[38;5;28mself\u001b[39m\u001b[38;5;241m.\u001b[39m_compiled_call_impl(\u001b[38;5;241m*\u001b[39margs, \u001b[38;5;241m*\u001b[39m\u001b[38;5;241m*\u001b[39mkwargs)  \u001b[38;5;66;03m# type: ignore[misc]\u001b[39;00m\n\u001b[0;32m   1531\u001b[0m \u001b[38;5;28;01melse\u001b[39;00m:\n\u001b[1;32m-> 1532\u001b[0m     \u001b[38;5;28;01mreturn\u001b[39;00m \u001b[38;5;28mself\u001b[39m\u001b[38;5;241m.\u001b[39m_call_impl(\u001b[38;5;241m*\u001b[39margs, \u001b[38;5;241m*\u001b[39m\u001b[38;5;241m*\u001b[39mkwargs)\n",
      "File \u001b[1;32mD:\\PythonProjects\\tanya_hack_1\\venv\\lib\\site-packages\\torch\\nn\\modules\\module.py:1541\u001b[0m, in \u001b[0;36mModule._call_impl\u001b[1;34m(self, *args, **kwargs)\u001b[0m\n\u001b[0;32m   1536\u001b[0m \u001b[38;5;66;03m# If we don't have any hooks, we want to skip the rest of the logic in\u001b[39;00m\n\u001b[0;32m   1537\u001b[0m \u001b[38;5;66;03m# this function, and just call forward.\u001b[39;00m\n\u001b[0;32m   1538\u001b[0m \u001b[38;5;28;01mif\u001b[39;00m \u001b[38;5;129;01mnot\u001b[39;00m (\u001b[38;5;28mself\u001b[39m\u001b[38;5;241m.\u001b[39m_backward_hooks \u001b[38;5;129;01mor\u001b[39;00m \u001b[38;5;28mself\u001b[39m\u001b[38;5;241m.\u001b[39m_backward_pre_hooks \u001b[38;5;129;01mor\u001b[39;00m \u001b[38;5;28mself\u001b[39m\u001b[38;5;241m.\u001b[39m_forward_hooks \u001b[38;5;129;01mor\u001b[39;00m \u001b[38;5;28mself\u001b[39m\u001b[38;5;241m.\u001b[39m_forward_pre_hooks\n\u001b[0;32m   1539\u001b[0m         \u001b[38;5;129;01mor\u001b[39;00m _global_backward_pre_hooks \u001b[38;5;129;01mor\u001b[39;00m _global_backward_hooks\n\u001b[0;32m   1540\u001b[0m         \u001b[38;5;129;01mor\u001b[39;00m _global_forward_hooks \u001b[38;5;129;01mor\u001b[39;00m _global_forward_pre_hooks):\n\u001b[1;32m-> 1541\u001b[0m     \u001b[38;5;28;01mreturn\u001b[39;00m forward_call(\u001b[38;5;241m*\u001b[39margs, \u001b[38;5;241m*\u001b[39m\u001b[38;5;241m*\u001b[39mkwargs)\n\u001b[0;32m   1543\u001b[0m \u001b[38;5;28;01mtry\u001b[39;00m:\n\u001b[0;32m   1544\u001b[0m     result \u001b[38;5;241m=\u001b[39m \u001b[38;5;28;01mNone\u001b[39;00m\n",
      "File \u001b[1;32mD:\\PythonProjects\\tanya_hack_1\\venv\\lib\\site-packages\\ultralytics\\nn\\tasks.py:106\u001b[0m, in \u001b[0;36mBaseModel.forward\u001b[1;34m(self, x, *args, **kwargs)\u001b[0m\n\u001b[0;32m    104\u001b[0m \u001b[38;5;28;01mif\u001b[39;00m \u001b[38;5;28misinstance\u001b[39m(x, \u001b[38;5;28mdict\u001b[39m):  \u001b[38;5;66;03m# for cases of training and validating while training.\u001b[39;00m\n\u001b[0;32m    105\u001b[0m     \u001b[38;5;28;01mreturn\u001b[39;00m \u001b[38;5;28mself\u001b[39m\u001b[38;5;241m.\u001b[39mloss(x, \u001b[38;5;241m*\u001b[39margs, \u001b[38;5;241m*\u001b[39m\u001b[38;5;241m*\u001b[39mkwargs)\n\u001b[1;32m--> 106\u001b[0m \u001b[38;5;28;01mreturn\u001b[39;00m \u001b[38;5;28mself\u001b[39m\u001b[38;5;241m.\u001b[39mpredict(x, \u001b[38;5;241m*\u001b[39margs, \u001b[38;5;241m*\u001b[39m\u001b[38;5;241m*\u001b[39mkwargs)\n",
      "File \u001b[1;32mD:\\PythonProjects\\tanya_hack_1\\venv\\lib\\site-packages\\ultralytics\\nn\\tasks.py:124\u001b[0m, in \u001b[0;36mBaseModel.predict\u001b[1;34m(self, x, profile, visualize, augment, embed)\u001b[0m\n\u001b[0;32m    122\u001b[0m \u001b[38;5;28;01mif\u001b[39;00m augment:\n\u001b[0;32m    123\u001b[0m     \u001b[38;5;28;01mreturn\u001b[39;00m \u001b[38;5;28mself\u001b[39m\u001b[38;5;241m.\u001b[39m_predict_augment(x)\n\u001b[1;32m--> 124\u001b[0m \u001b[38;5;28;01mreturn\u001b[39;00m \u001b[38;5;28;43mself\u001b[39;49m\u001b[38;5;241;43m.\u001b[39;49m\u001b[43m_predict_once\u001b[49m\u001b[43m(\u001b[49m\u001b[43mx\u001b[49m\u001b[43m,\u001b[49m\u001b[43m \u001b[49m\u001b[43mprofile\u001b[49m\u001b[43m,\u001b[49m\u001b[43m \u001b[49m\u001b[43mvisualize\u001b[49m\u001b[43m,\u001b[49m\u001b[43m \u001b[49m\u001b[43membed\u001b[49m\u001b[43m)\u001b[49m\n",
      "File \u001b[1;32mD:\\PythonProjects\\tanya_hack_1\\venv\\lib\\site-packages\\ultralytics\\nn\\tasks.py:145\u001b[0m, in \u001b[0;36mBaseModel._predict_once\u001b[1;34m(self, x, profile, visualize, embed)\u001b[0m\n\u001b[0;32m    143\u001b[0m \u001b[38;5;28;01mif\u001b[39;00m profile:\n\u001b[0;32m    144\u001b[0m     \u001b[38;5;28mself\u001b[39m\u001b[38;5;241m.\u001b[39m_profile_one_layer(m, x, dt)\n\u001b[1;32m--> 145\u001b[0m x \u001b[38;5;241m=\u001b[39m \u001b[43mm\u001b[49m\u001b[43m(\u001b[49m\u001b[43mx\u001b[49m\u001b[43m)\u001b[49m  \u001b[38;5;66;03m# run\u001b[39;00m\n\u001b[0;32m    146\u001b[0m y\u001b[38;5;241m.\u001b[39mappend(x \u001b[38;5;28;01mif\u001b[39;00m m\u001b[38;5;241m.\u001b[39mi \u001b[38;5;129;01min\u001b[39;00m \u001b[38;5;28mself\u001b[39m\u001b[38;5;241m.\u001b[39msave \u001b[38;5;28;01melse\u001b[39;00m \u001b[38;5;28;01mNone\u001b[39;00m)  \u001b[38;5;66;03m# save output\u001b[39;00m\n\u001b[0;32m    147\u001b[0m \u001b[38;5;28;01mif\u001b[39;00m visualize:\n",
      "File \u001b[1;32mD:\\PythonProjects\\tanya_hack_1\\venv\\lib\\site-packages\\torch\\nn\\modules\\module.py:1532\u001b[0m, in \u001b[0;36mModule._wrapped_call_impl\u001b[1;34m(self, *args, **kwargs)\u001b[0m\n\u001b[0;32m   1530\u001b[0m     \u001b[38;5;28;01mreturn\u001b[39;00m \u001b[38;5;28mself\u001b[39m\u001b[38;5;241m.\u001b[39m_compiled_call_impl(\u001b[38;5;241m*\u001b[39margs, \u001b[38;5;241m*\u001b[39m\u001b[38;5;241m*\u001b[39mkwargs)  \u001b[38;5;66;03m# type: ignore[misc]\u001b[39;00m\n\u001b[0;32m   1531\u001b[0m \u001b[38;5;28;01melse\u001b[39;00m:\n\u001b[1;32m-> 1532\u001b[0m     \u001b[38;5;28;01mreturn\u001b[39;00m \u001b[38;5;28mself\u001b[39m\u001b[38;5;241m.\u001b[39m_call_impl(\u001b[38;5;241m*\u001b[39margs, \u001b[38;5;241m*\u001b[39m\u001b[38;5;241m*\u001b[39mkwargs)\n",
      "File \u001b[1;32mD:\\PythonProjects\\tanya_hack_1\\venv\\lib\\site-packages\\torch\\nn\\modules\\module.py:1541\u001b[0m, in \u001b[0;36mModule._call_impl\u001b[1;34m(self, *args, **kwargs)\u001b[0m\n\u001b[0;32m   1536\u001b[0m \u001b[38;5;66;03m# If we don't have any hooks, we want to skip the rest of the logic in\u001b[39;00m\n\u001b[0;32m   1537\u001b[0m \u001b[38;5;66;03m# this function, and just call forward.\u001b[39;00m\n\u001b[0;32m   1538\u001b[0m \u001b[38;5;28;01mif\u001b[39;00m \u001b[38;5;129;01mnot\u001b[39;00m (\u001b[38;5;28mself\u001b[39m\u001b[38;5;241m.\u001b[39m_backward_hooks \u001b[38;5;129;01mor\u001b[39;00m \u001b[38;5;28mself\u001b[39m\u001b[38;5;241m.\u001b[39m_backward_pre_hooks \u001b[38;5;129;01mor\u001b[39;00m \u001b[38;5;28mself\u001b[39m\u001b[38;5;241m.\u001b[39m_forward_hooks \u001b[38;5;129;01mor\u001b[39;00m \u001b[38;5;28mself\u001b[39m\u001b[38;5;241m.\u001b[39m_forward_pre_hooks\n\u001b[0;32m   1539\u001b[0m         \u001b[38;5;129;01mor\u001b[39;00m _global_backward_pre_hooks \u001b[38;5;129;01mor\u001b[39;00m _global_backward_hooks\n\u001b[0;32m   1540\u001b[0m         \u001b[38;5;129;01mor\u001b[39;00m _global_forward_hooks \u001b[38;5;129;01mor\u001b[39;00m _global_forward_pre_hooks):\n\u001b[1;32m-> 1541\u001b[0m     \u001b[38;5;28;01mreturn\u001b[39;00m forward_call(\u001b[38;5;241m*\u001b[39margs, \u001b[38;5;241m*\u001b[39m\u001b[38;5;241m*\u001b[39mkwargs)\n\u001b[0;32m   1543\u001b[0m \u001b[38;5;28;01mtry\u001b[39;00m:\n\u001b[0;32m   1544\u001b[0m     result \u001b[38;5;241m=\u001b[39m \u001b[38;5;28;01mNone\u001b[39;00m\n",
      "File \u001b[1;32mD:\\PythonProjects\\tanya_hack_1\\venv\\lib\\site-packages\\ultralytics\\nn\\modules\\block.py:235\u001b[0m, in \u001b[0;36mC2f.forward\u001b[1;34m(self, x)\u001b[0m\n\u001b[0;32m    233\u001b[0m \u001b[38;5;250m\u001b[39m\u001b[38;5;124;03m\"\"\"Forward pass through C2f layer.\"\"\"\u001b[39;00m\n\u001b[0;32m    234\u001b[0m y \u001b[38;5;241m=\u001b[39m \u001b[38;5;28mlist\u001b[39m(\u001b[38;5;28mself\u001b[39m\u001b[38;5;241m.\u001b[39mcv1(x)\u001b[38;5;241m.\u001b[39mchunk(\u001b[38;5;241m2\u001b[39m, \u001b[38;5;241m1\u001b[39m))\n\u001b[1;32m--> 235\u001b[0m \u001b[43my\u001b[49m\u001b[38;5;241;43m.\u001b[39;49m\u001b[43mextend\u001b[49m\u001b[43m(\u001b[49m\u001b[43mm\u001b[49m\u001b[43m(\u001b[49m\u001b[43my\u001b[49m\u001b[43m[\u001b[49m\u001b[38;5;241;43m-\u001b[39;49m\u001b[38;5;241;43m1\u001b[39;49m\u001b[43m]\u001b[49m\u001b[43m)\u001b[49m\u001b[43m \u001b[49m\u001b[38;5;28;43;01mfor\u001b[39;49;00m\u001b[43m \u001b[49m\u001b[43mm\u001b[49m\u001b[43m \u001b[49m\u001b[38;5;129;43;01min\u001b[39;49;00m\u001b[43m \u001b[49m\u001b[38;5;28;43mself\u001b[39;49m\u001b[38;5;241;43m.\u001b[39;49m\u001b[43mm\u001b[49m\u001b[43m)\u001b[49m\n\u001b[0;32m    236\u001b[0m \u001b[38;5;28;01mreturn\u001b[39;00m \u001b[38;5;28mself\u001b[39m\u001b[38;5;241m.\u001b[39mcv2(torch\u001b[38;5;241m.\u001b[39mcat(y, \u001b[38;5;241m1\u001b[39m))\n",
      "File \u001b[1;32mD:\\PythonProjects\\tanya_hack_1\\venv\\lib\\site-packages\\ultralytics\\nn\\modules\\block.py:235\u001b[0m, in \u001b[0;36m<genexpr>\u001b[1;34m(.0)\u001b[0m\n\u001b[0;32m    233\u001b[0m \u001b[38;5;250m\u001b[39m\u001b[38;5;124;03m\"\"\"Forward pass through C2f layer.\"\"\"\u001b[39;00m\n\u001b[0;32m    234\u001b[0m y \u001b[38;5;241m=\u001b[39m \u001b[38;5;28mlist\u001b[39m(\u001b[38;5;28mself\u001b[39m\u001b[38;5;241m.\u001b[39mcv1(x)\u001b[38;5;241m.\u001b[39mchunk(\u001b[38;5;241m2\u001b[39m, \u001b[38;5;241m1\u001b[39m))\n\u001b[1;32m--> 235\u001b[0m y\u001b[38;5;241m.\u001b[39mextend(\u001b[43mm\u001b[49m\u001b[43m(\u001b[49m\u001b[43my\u001b[49m\u001b[43m[\u001b[49m\u001b[38;5;241;43m-\u001b[39;49m\u001b[38;5;241;43m1\u001b[39;49m\u001b[43m]\u001b[49m\u001b[43m)\u001b[49m \u001b[38;5;28;01mfor\u001b[39;00m m \u001b[38;5;129;01min\u001b[39;00m \u001b[38;5;28mself\u001b[39m\u001b[38;5;241m.\u001b[39mm)\n\u001b[0;32m    236\u001b[0m \u001b[38;5;28;01mreturn\u001b[39;00m \u001b[38;5;28mself\u001b[39m\u001b[38;5;241m.\u001b[39mcv2(torch\u001b[38;5;241m.\u001b[39mcat(y, \u001b[38;5;241m1\u001b[39m))\n",
      "File \u001b[1;32mD:\\PythonProjects\\tanya_hack_1\\venv\\lib\\site-packages\\torch\\nn\\modules\\module.py:1532\u001b[0m, in \u001b[0;36mModule._wrapped_call_impl\u001b[1;34m(self, *args, **kwargs)\u001b[0m\n\u001b[0;32m   1530\u001b[0m     \u001b[38;5;28;01mreturn\u001b[39;00m \u001b[38;5;28mself\u001b[39m\u001b[38;5;241m.\u001b[39m_compiled_call_impl(\u001b[38;5;241m*\u001b[39margs, \u001b[38;5;241m*\u001b[39m\u001b[38;5;241m*\u001b[39mkwargs)  \u001b[38;5;66;03m# type: ignore[misc]\u001b[39;00m\n\u001b[0;32m   1531\u001b[0m \u001b[38;5;28;01melse\u001b[39;00m:\n\u001b[1;32m-> 1532\u001b[0m     \u001b[38;5;28;01mreturn\u001b[39;00m \u001b[38;5;28mself\u001b[39m\u001b[38;5;241m.\u001b[39m_call_impl(\u001b[38;5;241m*\u001b[39margs, \u001b[38;5;241m*\u001b[39m\u001b[38;5;241m*\u001b[39mkwargs)\n",
      "File \u001b[1;32mD:\\PythonProjects\\tanya_hack_1\\venv\\lib\\site-packages\\torch\\nn\\modules\\module.py:1541\u001b[0m, in \u001b[0;36mModule._call_impl\u001b[1;34m(self, *args, **kwargs)\u001b[0m\n\u001b[0;32m   1536\u001b[0m \u001b[38;5;66;03m# If we don't have any hooks, we want to skip the rest of the logic in\u001b[39;00m\n\u001b[0;32m   1537\u001b[0m \u001b[38;5;66;03m# this function, and just call forward.\u001b[39;00m\n\u001b[0;32m   1538\u001b[0m \u001b[38;5;28;01mif\u001b[39;00m \u001b[38;5;129;01mnot\u001b[39;00m (\u001b[38;5;28mself\u001b[39m\u001b[38;5;241m.\u001b[39m_backward_hooks \u001b[38;5;129;01mor\u001b[39;00m \u001b[38;5;28mself\u001b[39m\u001b[38;5;241m.\u001b[39m_backward_pre_hooks \u001b[38;5;129;01mor\u001b[39;00m \u001b[38;5;28mself\u001b[39m\u001b[38;5;241m.\u001b[39m_forward_hooks \u001b[38;5;129;01mor\u001b[39;00m \u001b[38;5;28mself\u001b[39m\u001b[38;5;241m.\u001b[39m_forward_pre_hooks\n\u001b[0;32m   1539\u001b[0m         \u001b[38;5;129;01mor\u001b[39;00m _global_backward_pre_hooks \u001b[38;5;129;01mor\u001b[39;00m _global_backward_hooks\n\u001b[0;32m   1540\u001b[0m         \u001b[38;5;129;01mor\u001b[39;00m _global_forward_hooks \u001b[38;5;129;01mor\u001b[39;00m _global_forward_pre_hooks):\n\u001b[1;32m-> 1541\u001b[0m     \u001b[38;5;28;01mreturn\u001b[39;00m forward_call(\u001b[38;5;241m*\u001b[39margs, \u001b[38;5;241m*\u001b[39m\u001b[38;5;241m*\u001b[39mkwargs)\n\u001b[0;32m   1543\u001b[0m \u001b[38;5;28;01mtry\u001b[39;00m:\n\u001b[0;32m   1544\u001b[0m     result \u001b[38;5;241m=\u001b[39m \u001b[38;5;28;01mNone\u001b[39;00m\n",
      "File \u001b[1;32mD:\\PythonProjects\\tanya_hack_1\\venv\\lib\\site-packages\\ultralytics\\nn\\modules\\block.py:343\u001b[0m, in \u001b[0;36mBottleneck.forward\u001b[1;34m(self, x)\u001b[0m\n\u001b[0;32m    341\u001b[0m \u001b[38;5;28;01mdef\u001b[39;00m \u001b[38;5;21mforward\u001b[39m(\u001b[38;5;28mself\u001b[39m, x):\n\u001b[0;32m    342\u001b[0m \u001b[38;5;250m    \u001b[39m\u001b[38;5;124;03m\"\"\"Applies the YOLO FPN to input data.\"\"\"\u001b[39;00m\n\u001b[1;32m--> 343\u001b[0m     \u001b[38;5;28;01mreturn\u001b[39;00m x \u001b[38;5;241m+\u001b[39m \u001b[38;5;28mself\u001b[39m\u001b[38;5;241m.\u001b[39mcv2(\u001b[38;5;28;43mself\u001b[39;49m\u001b[38;5;241;43m.\u001b[39;49m\u001b[43mcv1\u001b[49m\u001b[43m(\u001b[49m\u001b[43mx\u001b[49m\u001b[43m)\u001b[49m) \u001b[38;5;28;01mif\u001b[39;00m \u001b[38;5;28mself\u001b[39m\u001b[38;5;241m.\u001b[39madd \u001b[38;5;28;01melse\u001b[39;00m \u001b[38;5;28mself\u001b[39m\u001b[38;5;241m.\u001b[39mcv2(\u001b[38;5;28mself\u001b[39m\u001b[38;5;241m.\u001b[39mcv1(x))\n",
      "File \u001b[1;32mD:\\PythonProjects\\tanya_hack_1\\venv\\lib\\site-packages\\torch\\nn\\modules\\module.py:1532\u001b[0m, in \u001b[0;36mModule._wrapped_call_impl\u001b[1;34m(self, *args, **kwargs)\u001b[0m\n\u001b[0;32m   1530\u001b[0m     \u001b[38;5;28;01mreturn\u001b[39;00m \u001b[38;5;28mself\u001b[39m\u001b[38;5;241m.\u001b[39m_compiled_call_impl(\u001b[38;5;241m*\u001b[39margs, \u001b[38;5;241m*\u001b[39m\u001b[38;5;241m*\u001b[39mkwargs)  \u001b[38;5;66;03m# type: ignore[misc]\u001b[39;00m\n\u001b[0;32m   1531\u001b[0m \u001b[38;5;28;01melse\u001b[39;00m:\n\u001b[1;32m-> 1532\u001b[0m     \u001b[38;5;28;01mreturn\u001b[39;00m \u001b[38;5;28mself\u001b[39m\u001b[38;5;241m.\u001b[39m_call_impl(\u001b[38;5;241m*\u001b[39margs, \u001b[38;5;241m*\u001b[39m\u001b[38;5;241m*\u001b[39mkwargs)\n",
      "File \u001b[1;32mD:\\PythonProjects\\tanya_hack_1\\venv\\lib\\site-packages\\torch\\nn\\modules\\module.py:1541\u001b[0m, in \u001b[0;36mModule._call_impl\u001b[1;34m(self, *args, **kwargs)\u001b[0m\n\u001b[0;32m   1536\u001b[0m \u001b[38;5;66;03m# If we don't have any hooks, we want to skip the rest of the logic in\u001b[39;00m\n\u001b[0;32m   1537\u001b[0m \u001b[38;5;66;03m# this function, and just call forward.\u001b[39;00m\n\u001b[0;32m   1538\u001b[0m \u001b[38;5;28;01mif\u001b[39;00m \u001b[38;5;129;01mnot\u001b[39;00m (\u001b[38;5;28mself\u001b[39m\u001b[38;5;241m.\u001b[39m_backward_hooks \u001b[38;5;129;01mor\u001b[39;00m \u001b[38;5;28mself\u001b[39m\u001b[38;5;241m.\u001b[39m_backward_pre_hooks \u001b[38;5;129;01mor\u001b[39;00m \u001b[38;5;28mself\u001b[39m\u001b[38;5;241m.\u001b[39m_forward_hooks \u001b[38;5;129;01mor\u001b[39;00m \u001b[38;5;28mself\u001b[39m\u001b[38;5;241m.\u001b[39m_forward_pre_hooks\n\u001b[0;32m   1539\u001b[0m         \u001b[38;5;129;01mor\u001b[39;00m _global_backward_pre_hooks \u001b[38;5;129;01mor\u001b[39;00m _global_backward_hooks\n\u001b[0;32m   1540\u001b[0m         \u001b[38;5;129;01mor\u001b[39;00m _global_forward_hooks \u001b[38;5;129;01mor\u001b[39;00m _global_forward_pre_hooks):\n\u001b[1;32m-> 1541\u001b[0m     \u001b[38;5;28;01mreturn\u001b[39;00m forward_call(\u001b[38;5;241m*\u001b[39margs, \u001b[38;5;241m*\u001b[39m\u001b[38;5;241m*\u001b[39mkwargs)\n\u001b[0;32m   1543\u001b[0m \u001b[38;5;28;01mtry\u001b[39;00m:\n\u001b[0;32m   1544\u001b[0m     result \u001b[38;5;241m=\u001b[39m \u001b[38;5;28;01mNone\u001b[39;00m\n",
      "File \u001b[1;32mD:\\PythonProjects\\tanya_hack_1\\venv\\lib\\site-packages\\ultralytics\\nn\\modules\\conv.py:54\u001b[0m, in \u001b[0;36mConv.forward_fuse\u001b[1;34m(self, x)\u001b[0m\n\u001b[0;32m     52\u001b[0m \u001b[38;5;28;01mdef\u001b[39;00m \u001b[38;5;21mforward_fuse\u001b[39m(\u001b[38;5;28mself\u001b[39m, x):\n\u001b[0;32m     53\u001b[0m \u001b[38;5;250m    \u001b[39m\u001b[38;5;124;03m\"\"\"Perform transposed convolution of 2D data.\"\"\"\u001b[39;00m\n\u001b[1;32m---> 54\u001b[0m     \u001b[38;5;28;01mreturn\u001b[39;00m \u001b[38;5;28mself\u001b[39m\u001b[38;5;241m.\u001b[39mact(\u001b[38;5;28;43mself\u001b[39;49m\u001b[38;5;241;43m.\u001b[39;49m\u001b[43mconv\u001b[49m\u001b[43m(\u001b[49m\u001b[43mx\u001b[49m\u001b[43m)\u001b[49m)\n",
      "File \u001b[1;32mD:\\PythonProjects\\tanya_hack_1\\venv\\lib\\site-packages\\torch\\nn\\modules\\module.py:1532\u001b[0m, in \u001b[0;36mModule._wrapped_call_impl\u001b[1;34m(self, *args, **kwargs)\u001b[0m\n\u001b[0;32m   1530\u001b[0m     \u001b[38;5;28;01mreturn\u001b[39;00m \u001b[38;5;28mself\u001b[39m\u001b[38;5;241m.\u001b[39m_compiled_call_impl(\u001b[38;5;241m*\u001b[39margs, \u001b[38;5;241m*\u001b[39m\u001b[38;5;241m*\u001b[39mkwargs)  \u001b[38;5;66;03m# type: ignore[misc]\u001b[39;00m\n\u001b[0;32m   1531\u001b[0m \u001b[38;5;28;01melse\u001b[39;00m:\n\u001b[1;32m-> 1532\u001b[0m     \u001b[38;5;28;01mreturn\u001b[39;00m \u001b[38;5;28mself\u001b[39m\u001b[38;5;241m.\u001b[39m_call_impl(\u001b[38;5;241m*\u001b[39margs, \u001b[38;5;241m*\u001b[39m\u001b[38;5;241m*\u001b[39mkwargs)\n",
      "File \u001b[1;32mD:\\PythonProjects\\tanya_hack_1\\venv\\lib\\site-packages\\torch\\nn\\modules\\module.py:1541\u001b[0m, in \u001b[0;36mModule._call_impl\u001b[1;34m(self, *args, **kwargs)\u001b[0m\n\u001b[0;32m   1536\u001b[0m \u001b[38;5;66;03m# If we don't have any hooks, we want to skip the rest of the logic in\u001b[39;00m\n\u001b[0;32m   1537\u001b[0m \u001b[38;5;66;03m# this function, and just call forward.\u001b[39;00m\n\u001b[0;32m   1538\u001b[0m \u001b[38;5;28;01mif\u001b[39;00m \u001b[38;5;129;01mnot\u001b[39;00m (\u001b[38;5;28mself\u001b[39m\u001b[38;5;241m.\u001b[39m_backward_hooks \u001b[38;5;129;01mor\u001b[39;00m \u001b[38;5;28mself\u001b[39m\u001b[38;5;241m.\u001b[39m_backward_pre_hooks \u001b[38;5;129;01mor\u001b[39;00m \u001b[38;5;28mself\u001b[39m\u001b[38;5;241m.\u001b[39m_forward_hooks \u001b[38;5;129;01mor\u001b[39;00m \u001b[38;5;28mself\u001b[39m\u001b[38;5;241m.\u001b[39m_forward_pre_hooks\n\u001b[0;32m   1539\u001b[0m         \u001b[38;5;129;01mor\u001b[39;00m _global_backward_pre_hooks \u001b[38;5;129;01mor\u001b[39;00m _global_backward_hooks\n\u001b[0;32m   1540\u001b[0m         \u001b[38;5;129;01mor\u001b[39;00m _global_forward_hooks \u001b[38;5;129;01mor\u001b[39;00m _global_forward_pre_hooks):\n\u001b[1;32m-> 1541\u001b[0m     \u001b[38;5;28;01mreturn\u001b[39;00m forward_call(\u001b[38;5;241m*\u001b[39margs, \u001b[38;5;241m*\u001b[39m\u001b[38;5;241m*\u001b[39mkwargs)\n\u001b[0;32m   1543\u001b[0m \u001b[38;5;28;01mtry\u001b[39;00m:\n\u001b[0;32m   1544\u001b[0m     result \u001b[38;5;241m=\u001b[39m \u001b[38;5;28;01mNone\u001b[39;00m\n",
      "File \u001b[1;32mD:\\PythonProjects\\tanya_hack_1\\venv\\lib\\site-packages\\torch\\nn\\modules\\conv.py:460\u001b[0m, in \u001b[0;36mConv2d.forward\u001b[1;34m(self, input)\u001b[0m\n\u001b[0;32m    459\u001b[0m \u001b[38;5;28;01mdef\u001b[39;00m \u001b[38;5;21mforward\u001b[39m(\u001b[38;5;28mself\u001b[39m, \u001b[38;5;28minput\u001b[39m: Tensor) \u001b[38;5;241m-\u001b[39m\u001b[38;5;241m>\u001b[39m Tensor:\n\u001b[1;32m--> 460\u001b[0m     \u001b[38;5;28;01mreturn\u001b[39;00m \u001b[38;5;28;43mself\u001b[39;49m\u001b[38;5;241;43m.\u001b[39;49m\u001b[43m_conv_forward\u001b[49m\u001b[43m(\u001b[49m\u001b[38;5;28;43minput\u001b[39;49m\u001b[43m,\u001b[49m\u001b[43m \u001b[49m\u001b[38;5;28;43mself\u001b[39;49m\u001b[38;5;241;43m.\u001b[39;49m\u001b[43mweight\u001b[49m\u001b[43m,\u001b[49m\u001b[43m \u001b[49m\u001b[38;5;28;43mself\u001b[39;49m\u001b[38;5;241;43m.\u001b[39;49m\u001b[43mbias\u001b[49m\u001b[43m)\u001b[49m\n",
      "File \u001b[1;32mD:\\PythonProjects\\tanya_hack_1\\venv\\lib\\site-packages\\torch\\nn\\modules\\conv.py:456\u001b[0m, in \u001b[0;36mConv2d._conv_forward\u001b[1;34m(self, input, weight, bias)\u001b[0m\n\u001b[0;32m    452\u001b[0m \u001b[38;5;28;01mif\u001b[39;00m \u001b[38;5;28mself\u001b[39m\u001b[38;5;241m.\u001b[39mpadding_mode \u001b[38;5;241m!=\u001b[39m \u001b[38;5;124m'\u001b[39m\u001b[38;5;124mzeros\u001b[39m\u001b[38;5;124m'\u001b[39m:\n\u001b[0;32m    453\u001b[0m     \u001b[38;5;28;01mreturn\u001b[39;00m F\u001b[38;5;241m.\u001b[39mconv2d(F\u001b[38;5;241m.\u001b[39mpad(\u001b[38;5;28minput\u001b[39m, \u001b[38;5;28mself\u001b[39m\u001b[38;5;241m.\u001b[39m_reversed_padding_repeated_twice, mode\u001b[38;5;241m=\u001b[39m\u001b[38;5;28mself\u001b[39m\u001b[38;5;241m.\u001b[39mpadding_mode),\n\u001b[0;32m    454\u001b[0m                     weight, bias, \u001b[38;5;28mself\u001b[39m\u001b[38;5;241m.\u001b[39mstride,\n\u001b[0;32m    455\u001b[0m                     _pair(\u001b[38;5;241m0\u001b[39m), \u001b[38;5;28mself\u001b[39m\u001b[38;5;241m.\u001b[39mdilation, \u001b[38;5;28mself\u001b[39m\u001b[38;5;241m.\u001b[39mgroups)\n\u001b[1;32m--> 456\u001b[0m \u001b[38;5;28;01mreturn\u001b[39;00m \u001b[43mF\u001b[49m\u001b[38;5;241;43m.\u001b[39;49m\u001b[43mconv2d\u001b[49m\u001b[43m(\u001b[49m\u001b[38;5;28;43minput\u001b[39;49m\u001b[43m,\u001b[49m\u001b[43m \u001b[49m\u001b[43mweight\u001b[49m\u001b[43m,\u001b[49m\u001b[43m \u001b[49m\u001b[43mbias\u001b[49m\u001b[43m,\u001b[49m\u001b[43m \u001b[49m\u001b[38;5;28;43mself\u001b[39;49m\u001b[38;5;241;43m.\u001b[39;49m\u001b[43mstride\u001b[49m\u001b[43m,\u001b[49m\n\u001b[0;32m    457\u001b[0m \u001b[43m                \u001b[49m\u001b[38;5;28;43mself\u001b[39;49m\u001b[38;5;241;43m.\u001b[39;49m\u001b[43mpadding\u001b[49m\u001b[43m,\u001b[49m\u001b[43m \u001b[49m\u001b[38;5;28;43mself\u001b[39;49m\u001b[38;5;241;43m.\u001b[39;49m\u001b[43mdilation\u001b[49m\u001b[43m,\u001b[49m\u001b[43m \u001b[49m\u001b[38;5;28;43mself\u001b[39;49m\u001b[38;5;241;43m.\u001b[39;49m\u001b[43mgroups\u001b[49m\u001b[43m)\u001b[49m\n",
      "\u001b[1;31mKeyboardInterrupt\u001b[0m: "
     ]
    }
   ],
   "source": [
    "df_predict = pd.DataFrame() # датафрейм для сбора полученных данных\n",
    "\n",
    "time_1 = []\n",
    "line = 0\n",
    "fr = 1 \n",
    "\n",
    "for idx, frame_file in tqdm(enumerate(frame_files)): # перебираем фреймы\n",
    "    start_time = time()\n",
    "    frame = cv2.imread(frame_file, )\n",
    "\n",
    "    if frame is not None:\n",
    "        results = model.track(frame, device=0, persist=True,) # результаты работы трекера\n",
    "        if results[0].boxes.id is not None:\n",
    "            for num_element in range(results[0].boxes.id.shape[0]):\n",
    "                df_predict.loc[line, 'frame'] = fr # номер фрейма\n",
    "                df_predict.loc[line, 'id'] = int(results[0].boxes.id[num_element].item()) # id обекта\n",
    "                df_predict.loc[line, 'xc'] = float(results[0].boxes.xywh[num_element][0].item()) # координаты центра\n",
    "                df_predict.loc[line, 'yc'] = float(results[0].boxes.xywh[num_element][1].item()) # координаты центра\n",
    "                df_predict.loc[line, 'w'] = float(results[0].boxes.xywh[num_element][2].item()) # ширина\n",
    "                df_predict.loc[line, 'h'] = float(results[0].boxes.xywh[num_element][3].item()) # высота\n",
    "                df_predict.loc[line, 'x1'] = float(results[0].boxes.xyxy[num_element][0].item()) # координаты углов\n",
    "                df_predict.loc[line, 'y1'] = float(results[0].boxes.xyxy[num_element][1].item()) # координаты углов\n",
    "                df_predict.loc[line, 'x2'] = float(results[0].boxes.xyxy[num_element][2].item()) # координаты углов\n",
    "                df_predict.loc[line, 'y2'] = float(results[0].boxes.xyxy[num_element][3].item()) # координаты углов\n",
    "                df_predict.loc[line, 'conf'] = float(results[0].boxes.conf[num_element].item()) # уверенности модели\n",
    "                df_predict.loc[line, 'class'] = int(results[0].boxes.cls[num_element].item()) # класс объекта\n",
    "                df_predict.loc[line, 'x'] = -1 # дефолтные значения для 2D\n",
    "                df_predict.loc[line, 'y'] = -1 # дефолтные значения для 2D\n",
    "                df_predict.loc[line, 'z'] = -1 # дефолтные значения для 2D\n",
    "                \n",
    "                stop_time = time()\n",
    "                t = stop_time - start_time\n",
    "                time_1.append(t)\n",
    "                \n",
    "                line += 1\n",
    "        fr += 1"
   ]
  },
  {
   "cell_type": "code",
   "execution_count": 20,
   "metadata": {
    "ExecuteTime": {
     "end_time": "2024-09-04T19:02:00.769626Z",
     "start_time": "2024-09-04T19:02:00.376034Z"
    }
   },
   "outputs": [],
   "source": [
    "# записываем результат работы трекера\n",
    "try:\n",
    "    df_predict.to_csv('df_predict.csv', header=True, index=False)\n",
    "except Exception as ex: \n",
    "    print(ex)"
   ]
  },
  {
   "cell_type": "code",
   "execution_count": 21,
   "metadata": {
    "ExecuteTime": {
     "end_time": "2024-09-04T19:02:00.846707Z",
     "start_time": "2024-09-04T19:02:00.770625Z"
    }
   },
   "outputs": [],
   "source": [
    "# открываем уже записаный файл\n",
    "df_predict = pd.read_csv('df_predict.csv')"
   ]
  },
  {
   "cell_type": "code",
   "execution_count": 22,
   "metadata": {
    "ExecuteTime": {
     "end_time": "2024-09-04T19:02:00.862613Z",
     "start_time": "2024-09-04T19:02:00.847653Z"
    }
   },
   "outputs": [],
   "source": [
    "# Для анализа переведем в Series\n",
    "time_1 = pd.Series(time_1) # подсчет времени"
   ]
  },
  {
   "cell_type": "code",
   "execution_count": 23,
   "metadata": {
    "ExecuteTime": {
     "end_time": "2024-09-04T19:02:01.146632Z",
     "start_time": "2024-09-04T19:02:00.863610Z"
    }
   },
   "outputs": [
    {
     "data": {
      "text/plain": [
       "0.5751792144236891"
      ]
     },
     "metadata": {},
     "output_type": "display_data"
    },
    {
     "data": {
      "text/plain": [
       "3.138864517211914"
      ]
     },
     "metadata": {},
     "output_type": "display_data"
    },
    {
     "data": {
      "text/plain": [
       "0.47074270248413086"
      ]
     },
     "metadata": {},
     "output_type": "display_data"
    },
    {
     "data": {
      "text/plain": [
       "<Axes: >"
      ]
     },
     "metadata": {},
     "output_type": "display_data"
    },
    {
     "data": {
      "image/png": "[encoded data removed]",
      "text/plain": [
       "<Figure size 640x480 with 1 Axes>"
      ]
     },
     "metadata": {},
     "output_type": "display_data"
    }
   ],
   "source": [
    "# время работы по кадрам\n",
    "display(time_1.mean())\n",
    "display(time_1.max())\n",
    "display(time_1.min())\n",
    "display(time_1.hist())"
   ]
  },
  {
   "cell_type": "markdown",
   "metadata": {},
   "source": [
    "#### Метрика"
   ]
  },
  {
   "cell_type": "code",
   "execution_count": 24,
   "metadata": {
    "ExecuteTime": {
     "end_time": "2024-09-04T19:02:01.162651Z",
     "start_time": "2024-09-04T19:02:01.147628Z"
    }
   },
   "outputs": [],
   "source": [
    "# фиксируем нужные колонки для расчета метрики\n",
    "cols = ['frame', 'id', 'x1', 'y1', 'w', 'h', 'conf', 'x', 'y','z'] "
   ]
  },
  {
   "cell_type": "code",
   "execution_count": 25,
   "metadata": {
    "ExecuteTime": {
     "end_time": "2024-09-04T19:02:04.780389Z",
     "start_time": "2024-09-04T19:02:01.163648Z"
    }
   },
   "outputs": [],
   "source": [
    "# расчитываем метрику для базовой модели\n",
    "mota, motp = motMetricsEnhancedCalculator(df_gt[cols], df_predict[cols])"
   ]
  },
  {
   "cell_type": "code",
   "execution_count": 26,
   "metadata": {
    "ExecuteTime": {
     "end_time": "2024-09-04T19:02:04.796240Z",
     "start_time": "2024-09-04T19:02:04.781223Z"
    }
   },
   "outputs": [],
   "source": [
    "# запишем результаты в сводную таблицу\n",
    "\n",
    "n = 0\n",
    "\n",
    "pivot_table.loc[n,'model'] = 'BoT-SORT'\n",
    "pivot_table.loc[n,'mota'] = mota\n",
    "pivot_table.loc[n,'motp'] = motp\n",
    "\n",
    "n += 1"
   ]
  },
  {
   "cell_type": "code",
   "execution_count": 27,
   "metadata": {
    "ExecuteTime": {
     "end_time": "2024-09-04T19:02:04.812197Z",
     "start_time": "2024-09-04T19:02:04.797233Z"
    }
   },
   "outputs": [
    {
     "data": {
      "text/html": [
       "<div>\n",
       "<style scoped>\n",
       "    .dataframe tbody tr th:only-of-type {\n",
       "        vertical-align: middle;\n",
       "    }\n",
       "\n",
       "    .dataframe tbody tr th {\n",
       "        vertical-align: top;\n",
       "    }\n",
       "\n",
       "    .dataframe thead th {\n",
       "        text-align: right;\n",
       "    }\n",
       "</style>\n",
       "<table border=\"1\" class=\"dataframe\">\n",
       "  <thead>\n",
       "    <tr style=\"text-align: right;\">\n",
       "      <th></th>\n",
       "      <th>model</th>\n",
       "      <th>mota</th>\n",
       "      <th>motp</th>\n",
       "    </tr>\n",
       "  </thead>\n",
       "  <tbody>\n",
       "    <tr>\n",
       "      <th>0</th>\n",
       "      <td>BoT-SORT</td>\n",
       "      <td>0.923965</td>\n",
       "      <td>0.081158</td>\n",
       "    </tr>\n",
       "  </tbody>\n",
       "</table>\n",
       "</div>"
      ],
      "text/plain": [
       "      model      mota      motp\n",
       "0  BoT-SORT  0.923965  0.081158"
      ]
     },
     "metadata": {},
     "output_type": "display_data"
    }
   ],
   "source": [
    "display(pivot_table) # метрика базовой модели"
   ]
  },
  {
   "cell_type": "markdown",
   "metadata": {},
   "source": [
    "### Модель ByteTrack"
   ]
  },
  {
   "cell_type": "code",
   "execution_count": 29,
   "metadata": {
    "ExecuteTime": {
     "end_time": "2024-09-04T20:35:16.011959Z",
     "start_time": "2024-09-04T19:02:33.282086Z"
    },
    "scrolled": true
   },
   "outputs": [
    {
     "name": "stderr",
     "output_type": "stream",
     "text": [
      "9000it [1:32:42,  1.62it/s]\n"
     ]
    }
   ],
   "source": [
    "df_predict_bytetrack = pd.DataFrame() # датафрейм для сбора полученных данных\n",
    "\n",
    "time_1 = []\n",
    "line = 0\n",
    "fr = 1\n",
    "\n",
    "for idx, frame_file in tqdm(enumerate(frame_files)): # перебираем фреймы\n",
    "    start_time = time()\n",
    "    frame = cv2.imread(frame_file)\n",
    "\n",
    "    if frame is not None:\n",
    "        results = model.track(frame, device='cpu', persist=True, tracker=\"bytetrack.yaml\")                    # результаты работы трекера\n",
    "\n",
    "        if results[0].boxes.id is not None:\n",
    "            for num_element in range(results[0].boxes.id.shape[0]):\n",
    "            \n",
    "                df_predict_bytetrack.loc[line, 'frame'] = fr                                                # номер фрейма\n",
    "                df_predict_bytetrack.loc[line, 'id'] = int(results[0].boxes.id[num_element].item())         # id обекта\n",
    "                df_predict_bytetrack.loc[line, 'xc'] = float(results[0].boxes.xywh[num_element][0].item())  # координаты центра\n",
    "                df_predict_bytetrack.loc[line, 'yc'] = float(results[0].boxes.xywh[num_element][1].item())  # координаты центра\n",
    "                df_predict_bytetrack.loc[line, 'w'] = float(results[0].boxes.xywh[num_element][2].item())   # ширина\n",
    "                df_predict_bytetrack.loc[line, 'h'] = float(results[0].boxes.xywh[num_element][3].item())   # высота\n",
    "                df_predict_bytetrack.loc[line, 'x1'] = float(results[0].boxes.xyxy[num_element][0].item())  # координаты углов\n",
    "                df_predict_bytetrack.loc[line, 'y1'] = float(results[0].boxes.xyxy[num_element][1].item())  # координаты углов\n",
    "                df_predict_bytetrack.loc[line, 'x2'] = float(results[0].boxes.xyxy[num_element][2].item())  # координаты углов\n",
    "                df_predict_bytetrack.loc[line, 'y2'] = float(results[0].boxes.xyxy[num_element][3].item())  # координаты углов\n",
    "                df_predict_bytetrack.loc[line, 'conf'] = float(results[0].boxes.conf[num_element].item())   # уверенности модели   \n",
    "                df_predict_bytetrack.loc[line, 'class'] = int(results[0].boxes.cls[num_element].item())     # класс объекта\n",
    "                df_predict_bytetrack.loc[line, 'x'] = -1                                                    # дефолтные значения для 2D\n",
    "                df_predict_bytetrack.loc[line, 'y'] = -1                                                    # дефолтные значения для 2D\n",
    "                df_predict_bytetrack.loc[line, 'z'] = -1                                                    # дефолтные значения для 2D\n",
    "                \n",
    "                stop_time = time()\n",
    "                t = stop_time - start_time\n",
    "                time_1.append(t)\n",
    "                \n",
    "                line += 1\n",
    "        \n",
    "        fr += 1"
   ]
  },
  {
   "cell_type": "code",
   "execution_count": 30,
   "metadata": {
    "ExecuteTime": {
     "end_time": "2024-09-04T20:35:16.484695Z",
     "start_time": "2024-09-04T20:35:16.013954Z"
    }
   },
   "outputs": [],
   "source": [
    "# записываем результат работы трекера\n",
    "try:\n",
    "    df_predict_bytetrack.to_csv('df_predict_bytetrack.csv', header=True, index=False)\n",
    "except Exception as ex:\n",
    "    print(ex)"
   ]
  },
  {
   "cell_type": "code",
   "execution_count": 31,
   "metadata": {
    "ExecuteTime": {
     "end_time": "2024-09-04T20:35:16.580439Z",
     "start_time": "2024-09-04T20:35:16.485693Z"
    }
   },
   "outputs": [],
   "source": [
    "# открываем уже записаный файл\n",
    "df_predict_bytetrack = pd.read_csv('df_predict_bytetrack.csv') "
   ]
  },
  {
   "cell_type": "code",
   "execution_count": 32,
   "metadata": {
    "ExecuteTime": {
     "end_time": "2024-09-04T20:35:16.596397Z",
     "start_time": "2024-09-04T20:35:16.582434Z"
    }
   },
   "outputs": [],
   "source": [
    "# Для анализа переведем в Series\n",
    "time_1 = pd.Series(time_1) # расчет времени"
   ]
  },
  {
   "cell_type": "code",
   "execution_count": 33,
   "metadata": {
    "ExecuteTime": {
     "end_time": "2024-09-04T20:35:16.708097Z",
     "start_time": "2024-09-04T20:35:16.597395Z"
    }
   },
   "outputs": [
    {
     "data": {
      "text/plain": [
       "0.6109421599942838"
      ]
     },
     "metadata": {},
     "output_type": "display_data"
    },
    {
     "data": {
      "text/plain": [
       "1.6201741695404053"
      ]
     },
     "metadata": {},
     "output_type": "display_data"
    },
    {
     "data": {
      "text/plain": [
       "0.5006599426269531"
      ]
     },
     "metadata": {},
     "output_type": "display_data"
    },
    {
     "data": {
      "text/plain": [
       "<Axes: >"
      ]
     },
     "metadata": {},
     "output_type": "display_data"
    },
    {
     "data": {
      "image/png": "[encoded data removed]",
      "text/plain": [
       "<Figure size 640x480 with 1 Axes>"
      ]
     },
     "metadata": {},
     "output_type": "display_data"
    }
   ],
   "source": [
    "# время работы по кадрам\n",
    "display(time_1.mean())\n",
    "display(time_1.max())\n",
    "display(time_1.min())\n",
    "display(time_1.hist())"
   ]
  },
  {
   "cell_type": "markdown",
   "metadata": {},
   "source": [
    "#### Метрика"
   ]
  },
  {
   "cell_type": "code",
   "execution_count": 34,
   "metadata": {
    "ExecuteTime": {
     "end_time": "2024-09-04T20:35:20.432676Z",
     "start_time": "2024-09-04T20:35:16.709096Z"
    }
   },
   "outputs": [],
   "source": [
    "# расчитываем метрику для модели c алгоритмом bytetrack\n",
    "mota, motp = motMetricsEnhancedCalculator(df_gt[cols], df_predict_bytetrack[cols])"
   ]
  },
  {
   "cell_type": "code",
   "execution_count": 35,
   "metadata": {
    "ExecuteTime": {
     "end_time": "2024-09-04T20:35:20.448496Z",
     "start_time": "2024-09-04T20:35:20.433456Z"
    }
   },
   "outputs": [],
   "source": [
    "# запишем результаты в сводную таблицу\n",
    "\n",
    "pivot_table.loc[n,'model'] = 'bytetrack'\n",
    "pivot_table.loc[n,'mota'] = mota\n",
    "pivot_table.loc[n,'motp'] = motp\n",
    "\n",
    "n += 1"
   ]
  },
  {
   "cell_type": "markdown",
   "metadata": {},
   "source": [
    "## Анализ результатов"
   ]
  },
  {
   "cell_type": "markdown",
   "metadata": {},
   "source": [
    "### Сводная таблица по результатам"
   ]
  },
  {
   "cell_type": "code",
   "execution_count": 36,
   "metadata": {
    "ExecuteTime": {
     "end_time": "2024-09-04T20:35:20.464454Z",
     "start_time": "2024-09-04T20:35:20.449494Z"
    }
   },
   "outputs": [
    {
     "data": {
      "text/html": [
       "<div>\n",
       "<style scoped>\n",
       "    .dataframe tbody tr th:only-of-type {\n",
       "        vertical-align: middle;\n",
       "    }\n",
       "\n",
       "    .dataframe tbody tr th {\n",
       "        vertical-align: top;\n",
       "    }\n",
       "\n",
       "    .dataframe thead th {\n",
       "        text-align: right;\n",
       "    }\n",
       "</style>\n",
       "<table border=\"1\" class=\"dataframe\">\n",
       "  <thead>\n",
       "    <tr style=\"text-align: right;\">\n",
       "      <th></th>\n",
       "      <th>model</th>\n",
       "      <th>mota</th>\n",
       "      <th>motp</th>\n",
       "    </tr>\n",
       "  </thead>\n",
       "  <tbody>\n",
       "    <tr>\n",
       "      <th>0</th>\n",
       "      <td>BoT-SORT</td>\n",
       "      <td>0.923965</td>\n",
       "      <td>0.081158</td>\n",
       "    </tr>\n",
       "    <tr>\n",
       "      <th>1</th>\n",
       "      <td>bytetrack</td>\n",
       "      <td>0.9239</td>\n",
       "      <td>0.081162</td>\n",
       "    </tr>\n",
       "  </tbody>\n",
       "</table>\n",
       "</div>"
      ],
      "text/plain": [
       "       model      mota      motp\n",
       "0   BoT-SORT  0.923965  0.081158\n",
       "1  bytetrack    0.9239  0.081162"
      ]
     },
     "metadata": {},
     "output_type": "display_data"
    }
   ],
   "source": [
    "display(pivot_table) # метрики моделей"
   ]
  },
  {
   "cell_type": "markdown",
   "metadata": {},
   "source": [
    "### Базовая модель"
   ]
  },
  {
   "cell_type": "code",
   "execution_count": 37,
   "metadata": {
    "ExecuteTime": {
     "end_time": "2024-09-04T20:35:20.608070Z",
     "start_time": "2024-09-04T20:35:20.465451Z"
    }
   },
   "outputs": [
    {
     "data": {
      "text/plain": [
       "<Axes: >"
      ]
     },
     "execution_count": 37,
     "metadata": {},
     "output_type": "execute_result"
    },
    {
     "data": {
      "image/png": "[encoded data removed]",
      "text/plain": [
       "<Figure size 640x480 with 1 Axes>"
      ]
     },
     "metadata": {},
     "output_type": "display_data"
    }
   ],
   "source": [
    "df_predict['conf'].hist(bins=100)"
   ]
  },
  {
   "cell_type": "code",
   "execution_count": 38,
   "metadata": {
    "ExecuteTime": {
     "end_time": "2024-09-04T20:35:20.623088Z",
     "start_time": "2024-09-04T20:35:20.611062Z"
    }
   },
   "outputs": [
    {
     "data": {
      "text/plain": [
       "0.1055351793766021"
      ]
     },
     "execution_count": 38,
     "metadata": {},
     "output_type": "execute_result"
    }
   ],
   "source": [
    "df_predict['conf'].min()"
   ]
  },
  {
   "cell_type": "code",
   "execution_count": 39,
   "metadata": {
    "ExecuteTime": {
     "end_time": "2024-09-04T20:37:54.658615Z",
     "start_time": "2024-09-04T20:35:20.624078Z"
    }
   },
   "outputs": [
    {
     "name": "stderr",
     "output_type": "stream",
     "text": [
      "100%|██████████| 45/45 [02:34<00:00,  3.42s/it]\n"
     ]
    }
   ],
   "source": [
    "pt_threshold = pd.DataFrame()\n",
    "\n",
    "i = 0\n",
    "\n",
    "for threshold in tqdm(np.arange(0.1, 0.99, 0.02).tolist()):\n",
    "    df_threshold = df_predict[df_predict['conf'] >= threshold]\n",
    "    \n",
    "    mota_threshold, motp_threshold = motMetricsEnhancedCalculator(df_gt[cols], df_threshold[cols])\n",
    "    \n",
    "    pt_threshold.loc[i, 'threshold'] = threshold\n",
    "    pt_threshold.loc[i, 'mota'] = mota_threshold\n",
    "    pt_threshold.loc[i, 'motp'] = motp_threshold\n",
    "    \n",
    "    i += 1"
   ]
  },
  {
   "cell_type": "code",
   "execution_count": 40,
   "metadata": {
    "ExecuteTime": {
     "end_time": "2024-09-04T20:37:54.752365Z",
     "start_time": "2024-09-04T20:37:54.659612Z"
    }
   },
   "outputs": [
    {
     "data": {
      "text/plain": [
       "<Axes: xlabel='threshold'>"
      ]
     },
     "execution_count": 40,
     "metadata": {},
     "output_type": "execute_result"
    },
    {
     "data": {
      "image/png": "[encoded data removed]",
      "text/plain": [
       "<Figure size 640x480 with 1 Axes>"
      ]
     },
     "metadata": {},
     "output_type": "display_data"
    }
   ],
   "source": [
    "pt_threshold.plot(x='threshold', y='mota', grid=True)"
   ]
  },
  {
   "cell_type": "code",
   "execution_count": 41,
   "metadata": {
    "ExecuteTime": {
     "end_time": "2024-09-04T20:37:54.848108Z",
     "start_time": "2024-09-04T20:37:54.753374Z"
    }
   },
   "outputs": [
    {
     "data": {
      "text/plain": [
       "<Axes: xlabel='threshold'>"
      ]
     },
     "execution_count": 41,
     "metadata": {},
     "output_type": "execute_result"
    },
    {
     "data": {
      "image/png": "[encoded data removed]",
      "text/plain": [
       "<Figure size 640x480 with 1 Axes>"
      ]
     },
     "metadata": {},
     "output_type": "display_data"
    }
   ],
   "source": [
    "pt_threshold.plot(x='threshold', y='motp', grid=True)"
   ]
  },
  {
   "cell_type": "code",
   "execution_count": 42,
   "metadata": {
    "ExecuteTime": {
     "end_time": "2024-09-04T20:37:54.942210Z",
     "start_time": "2024-09-04T20:37:54.849105Z"
    }
   },
   "outputs": [
    {
     "data": {
      "text/plain": [
       "<Axes: xlabel='mota'>"
      ]
     },
     "execution_count": 42,
     "metadata": {},
     "output_type": "execute_result"
    },
    {
     "data": {
      "image/png": "[encoded data removed]",
      "text/plain": [
       "<Figure size 640x480 with 1 Axes>"
      ]
     },
     "metadata": {},
     "output_type": "display_data"
    }
   ],
   "source": [
    "pt_threshold.plot(x='mota', y='motp', grid=True)"
   ]
  },
  {
   "cell_type": "markdown",
   "metadata": {},
   "source": [
    "### Модель bytetrack"
   ]
  },
  {
   "cell_type": "code",
   "execution_count": 43,
   "metadata": {
    "ExecuteTime": {
     "end_time": "2024-09-04T20:37:55.085843Z",
     "start_time": "2024-09-04T20:37:54.943211Z"
    }
   },
   "outputs": [
    {
     "data": {
      "text/plain": [
       "<Axes: >"
      ]
     },
     "execution_count": 43,
     "metadata": {},
     "output_type": "execute_result"
    },
    {
     "data": {
      "image/png": "[encoded data removed]",
      "text/plain": [
       "<Figure size 640x480 with 1 Axes>"
      ]
     },
     "metadata": {},
     "output_type": "display_data"
    }
   ],
   "source": [
    "df_predict_bytetrack['conf'].hist(bins=100)"
   ]
  },
  {
   "cell_type": "code",
   "execution_count": 44,
   "metadata": {
    "ExecuteTime": {
     "end_time": "2024-09-04T20:37:55.101801Z",
     "start_time": "2024-09-04T20:37:55.087839Z"
    }
   },
   "outputs": [
    {
     "data": {
      "text/plain": [
       "0.1055351793766021"
      ]
     },
     "execution_count": 44,
     "metadata": {},
     "output_type": "execute_result"
    }
   ],
   "source": [
    "df_predict_bytetrack['conf'].min()"
   ]
  },
  {
   "cell_type": "code",
   "execution_count": 45,
   "metadata": {
    "ExecuteTime": {
     "end_time": "2024-09-04T20:40:30.773637Z",
     "start_time": "2024-09-04T20:37:55.102798Z"
    }
   },
   "outputs": [
    {
     "name": "stderr",
     "output_type": "stream",
     "text": [
      "100%|██████████| 45/45 [02:35<00:00,  3.46s/it]\n"
     ]
    }
   ],
   "source": [
    "pt_threshold_2 = pd.DataFrame()\n",
    "\n",
    "i = 0\n",
    "\n",
    "for threshold in tqdm(np.arange(0.1, 0.99, 0.02).tolist()):\n",
    "    df_threshold = df_predict_bytetrack[df_predict_bytetrack['conf'] >= threshold]\n",
    "    \n",
    "    mota_threshold, motp_threshold = motMetricsEnhancedCalculator(df_gt[cols], df_threshold[cols])\n",
    "    \n",
    "    pt_threshold_2.loc[i, 'threshold'] = threshold\n",
    "    pt_threshold_2.loc[i, 'mota'] = mota_threshold\n",
    "    pt_threshold_2.loc[i, 'motp'] = motp_threshold\n",
    "    \n",
    "    i += 1"
   ]
  },
  {
   "cell_type": "code",
   "execution_count": 46,
   "metadata": {
    "ExecuteTime": {
     "end_time": "2024-09-04T20:40:30.869508Z",
     "start_time": "2024-09-04T20:40:30.775631Z"
    }
   },
   "outputs": [
    {
     "data": {
      "text/plain": [
       "<Axes: xlabel='threshold'>"
      ]
     },
     "execution_count": 46,
     "metadata": {},
     "output_type": "execute_result"
    },
    {
     "data": {
      "image/png": "[encoded data removed]",
      "text/plain": [
       "<Figure size 640x480 with 1 Axes>"
      ]
     },
     "metadata": {},
     "output_type": "display_data"
    }
   ],
   "source": [
    "pt_threshold_2.plot(x='threshold', y='mota', grid=True)"
   ]
  },
  {
   "cell_type": "code",
   "execution_count": 47,
   "metadata": {
    "ExecuteTime": {
     "end_time": "2024-09-04T20:40:30.964255Z",
     "start_time": "2024-09-04T20:40:30.870506Z"
    }
   },
   "outputs": [
    {
     "data": {
      "text/plain": [
       "<Axes: xlabel='threshold'>"
      ]
     },
     "execution_count": 47,
     "metadata": {},
     "output_type": "execute_result"
    },
    {
     "data": {
      "image/png": "[encoded data removed]",
      "text/plain": [
       "<Figure size 640x480 with 1 Axes>"
      ]
     },
     "metadata": {},
     "output_type": "display_data"
    }
   ],
   "source": [
    "pt_threshold_2.plot(x='threshold', y='motp', grid=True)"
   ]
  },
  {
   "cell_type": "code",
   "execution_count": 48,
   "metadata": {
    "ExecuteTime": {
     "end_time": "2024-09-04T20:40:31.056734Z",
     "start_time": "2024-09-04T20:40:30.965251Z"
    }
   },
   "outputs": [
    {
     "data": {
      "text/plain": [
       "<Axes: xlabel='mota'>"
      ]
     },
     "execution_count": 48,
     "metadata": {},
     "output_type": "execute_result"
    },
    {
     "data": {
      "image/png": "[encoded data removed]",
      "text/plain": [
       "<Figure size 640x480 with 1 Axes>"
      ]
     },
     "metadata": {},
     "output_type": "display_data"
    }
   ],
   "source": [
    "pt_threshold_2.plot(x='mota', y='motp', grid=True)"
   ]
  },
  {
   "cell_type": "markdown",
   "metadata": {},
   "source": [
    "__Вывод:__\n",
    "\n",
    "Были исследованы две модели: базовая и модель c использованием алгоритма ByteTrack. Наилучших результатов удалось достичь с помощью модели c ByteTrack:\n",
    "* Метрика MOTA = 0.923\n",
    "* Метрика MOTP = 0.086"
   ]
  },
  {
   "cell_type": "markdown",
   "metadata": {},
   "source": [
    "## Визуальный анализ треков обектов"
   ]
  },
  {
   "cell_type": "markdown",
   "metadata": {},
   "source": [
    "Изобразим на кадрах предсказанные моделью треки и боксы из переменной results. Полученные изображения сохраним в отдельную папку."
   ]
  },
  {
   "cell_type": "code",
   "execution_count": 49,
   "metadata": {
    "ExecuteTime": {
     "end_time": "2024-09-04T20:40:31.072810Z",
     "start_time": "2024-09-04T20:40:31.057739Z"
    }
   },
   "outputs": [],
   "source": [
    "# первые 200 фреймов\n",
    "results_200 = results[:201]"
   ]
  },
  {
   "cell_type": "code",
   "execution_count": 50,
   "metadata": {
    "ExecuteTime": {
     "end_time": "2024-09-04T20:40:31.214519Z",
     "start_time": "2024-09-04T20:40:31.073815Z"
    }
   },
   "outputs": [],
   "source": [
    "# Store the track history\n",
    "track_history = defaultdict(lambda: [])\n",
    "\n",
    "# Get the boxes and track IDs\n",
    "for i, r in enumerate(results_200):\n",
    "    boxes = results_200[i].boxes.xywh.cpu()\n",
    "    track_ids = results_200[i].boxes.id.int().cpu().tolist()\n",
    "\n",
    "    # Visualize the results on the frame\n",
    "    annotated_frame = r.plot()\n",
    "\n",
    "    # Plot the tracks\n",
    "    for box, track_id in zip(boxes, track_ids):\n",
    "\n",
    "        x, y, w, h = box\n",
    "        track = track_history[track_id]\n",
    "        track.append((float(x), float(y)))  # x, y center point\n",
    "        if len(track) > 30:  # retain 90 tracks for 90 frames\n",
    "            track.pop(0)\n",
    "\n",
    "        # Draw the tracking lines\n",
    "        points = np.hstack(track).astype(np.int32).reshape((-1, 1, 2))\n",
    "        img = cv2.polylines(annotated_frame, [points], isClosed=False, color=(230, 230, 230), thickness=10)\n",
    "        cv2.imwrite(f'Renue/results/results{i}.jpg', img)\n",
    "\n",
    "    # Break the loop if 'q' is pressed\n",
    "    if cv2.waitKey(1) & 0xFF == ord(\"q\"):\n",
    "        break\n",
    "\n",
    "\n",
    "cv2.destroyAllWindows()"
   ]
  },
  {
   "cell_type": "markdown",
   "metadata": {},
   "source": [
    "__Вывод:__ путь объекта отслеживается корректно."
   ]
  },
  {
   "cell_type": "markdown",
   "metadata": {},
   "source": [
    "## Подбор границ трекинга объектов"
   ]
  },
  {
   "cell_type": "code",
   "execution_count": 51,
   "metadata": {
    "ExecuteTime": {
     "end_time": "2024-09-04T20:40:31.230478Z",
     "start_time": "2024-09-04T20:40:31.216515Z"
    }
   },
   "outputs": [],
   "source": [
    "# пересчитываем координаты центра истинных значений трекера\n",
    "df_gt['x2'] = df_gt['w'] + df_gt['x1']\n",
    "df_gt['y2'] = df_gt['h'] + df_gt['y1']\n",
    "\n",
    "df_gt['xc'] = (df_gt['x1'] + df_gt['x2']) / 2\n",
    "df_gt['yc'] = (df_gt['y1'] + df_gt['y2']) / 2"
   ]
  },
  {
   "cell_type": "code",
   "execution_count": 52,
   "metadata": {
    "ExecuteTime": {
     "end_time": "2024-09-04T20:40:31.245437Z",
     "start_time": "2024-09-04T20:40:31.231477Z"
    }
   },
   "outputs": [
    {
     "name": "stdout",
     "output_type": "stream",
     "text": [
      "1484.5\n"
     ]
    }
   ],
   "source": [
    "# Определяем ординату нижней границы кадра\n",
    "y_max = df_gt[\"yc\"].max()\n",
    "print(y_max)"
   ]
  },
  {
   "cell_type": "code",
   "execution_count": 53,
   "metadata": {
    "ExecuteTime": {
     "end_time": "2024-09-04T20:40:31.261394Z",
     "start_time": "2024-09-04T20:40:31.246435Z"
    }
   },
   "outputs": [],
   "source": [
    "# Заданим массив порогов верхней границы центра объекта для расчета метрики МОТА\n",
    "min_thresholds = [0.05, 0.1, 0.15, 0.2, 0.3, 0.4, 0.5]"
   ]
  },
  {
   "cell_type": "code",
   "execution_count": 54,
   "metadata": {
    "ExecuteTime": {
     "end_time": "2024-09-04T20:40:31.277353Z",
     "start_time": "2024-09-04T20:40:31.263390Z"
    }
   },
   "outputs": [],
   "source": [
    "# колонки, которые мы будем использовать\n",
    "cols = ['frame', 'id', 'xc', 'yc', 'w', 'h', 'conf', 'class']"
   ]
  },
  {
   "cell_type": "code",
   "execution_count": 55,
   "metadata": {
    "ExecuteTime": {
     "end_time": "2024-09-04T20:40:53.027825Z",
     "start_time": "2024-09-04T20:40:31.279347Z"
    }
   },
   "outputs": [],
   "source": [
    "#  Рассчитаем МОТА относительно каждого порога и запишем в датафрейм\n",
    "min_res = pd.DataFrame(columns=['threshold', 'mota', 'motp'])\n",
    "\n",
    "for line, thresh in enumerate(min_thresholds):\n",
    "    y_thresh = y_max * thresh\n",
    "    min_res.loc[line, 'threshold'] = thresh\n",
    "    min_res.loc[line, 'mota'], min_res.loc[line, 'motp'] = motMetricsEnhancedCalculator(df_gt[(df_gt['yc'] > y_thresh)][cols], df_predict[(df_predict['yc'] > y_thresh)][cols])"
   ]
  },
  {
   "cell_type": "code",
   "execution_count": 56,
   "metadata": {
    "ExecuteTime": {
     "end_time": "2024-09-04T20:40:53.042997Z",
     "start_time": "2024-09-04T20:40:53.030819Z"
    }
   },
   "outputs": [
    {
     "data": {
      "text/html": [
       "<div>\n",
       "<style scoped>\n",
       "    .dataframe tbody tr th:only-of-type {\n",
       "        vertical-align: middle;\n",
       "    }\n",
       "\n",
       "    .dataframe tbody tr th {\n",
       "        vertical-align: top;\n",
       "    }\n",
       "\n",
       "    .dataframe thead th {\n",
       "        text-align: right;\n",
       "    }\n",
       "</style>\n",
       "<table border=\"1\" class=\"dataframe\">\n",
       "  <thead>\n",
       "    <tr style=\"text-align: right;\">\n",
       "      <th></th>\n",
       "      <th>threshold</th>\n",
       "      <th>mota</th>\n",
       "      <th>motp</th>\n",
       "    </tr>\n",
       "  </thead>\n",
       "  <tbody>\n",
       "    <tr>\n",
       "      <th>0</th>\n",
       "      <td>0.05</td>\n",
       "      <td>0.964899</td>\n",
       "      <td>0.084258</td>\n",
       "    </tr>\n",
       "    <tr>\n",
       "      <th>1</th>\n",
       "      <td>0.1</td>\n",
       "      <td>0.963485</td>\n",
       "      <td>0.078933</td>\n",
       "    </tr>\n",
       "    <tr>\n",
       "      <th>2</th>\n",
       "      <td>0.15</td>\n",
       "      <td>0.968631</td>\n",
       "      <td>0.077725</td>\n",
       "    </tr>\n",
       "    <tr>\n",
       "      <th>3</th>\n",
       "      <td>0.2</td>\n",
       "      <td>0.96849</td>\n",
       "      <td>0.077164</td>\n",
       "    </tr>\n",
       "    <tr>\n",
       "      <th>4</th>\n",
       "      <td>0.3</td>\n",
       "      <td>0.96539</td>\n",
       "      <td>0.075489</td>\n",
       "    </tr>\n",
       "    <tr>\n",
       "      <th>5</th>\n",
       "      <td>0.4</td>\n",
       "      <td>0.963952</td>\n",
       "      <td>0.07426</td>\n",
       "    </tr>\n",
       "    <tr>\n",
       "      <th>6</th>\n",
       "      <td>0.5</td>\n",
       "      <td>0.95892</td>\n",
       "      <td>0.073845</td>\n",
       "    </tr>\n",
       "  </tbody>\n",
       "</table>\n",
       "</div>"
      ],
      "text/plain": [
       "  threshold      mota      motp\n",
       "0      0.05  0.964899  0.084258\n",
       "1       0.1  0.963485  0.078933\n",
       "2      0.15  0.968631  0.077725\n",
       "3       0.2   0.96849  0.077164\n",
       "4       0.3   0.96539  0.075489\n",
       "5       0.4  0.963952   0.07426\n",
       "6       0.5   0.95892  0.073845"
      ]
     },
     "execution_count": 56,
     "metadata": {},
     "output_type": "execute_result"
    }
   ],
   "source": [
    "# \n",
    "min_res"
   ]
  },
  {
   "cell_type": "code",
   "execution_count": 57,
   "metadata": {
    "ExecuteTime": {
     "end_time": "2024-09-04T20:40:53.138796Z",
     "start_time": "2024-09-04T20:40:53.043989Z"
    }
   },
   "outputs": [
    {
     "data": {
      "image/png": "[encoded data removed]",
      "text/plain": [
       "<Figure size 640x480 with 1 Axes>"
      ]
     },
     "metadata": {},
     "output_type": "display_data"
    }
   ],
   "source": [
    "# \n",
    "min_res.plot(x='threshold', y='mota', grid=True)\n",
    "plt.title(\"Изменение МОТА относительно верхней границы трекинга\")\n",
    "plt.xlabel('Порог')\n",
    "plt.ylabel('МОТА');\n",
    "plt.show()"
   ]
  },
  {
   "cell_type": "markdown",
   "metadata": {},
   "source": [
    "__Вывод:__ самое высокое значение метрики МОТА получается при минимальном значении порога 0,15."
   ]
  },
  {
   "cell_type": "code",
   "execution_count": 58,
   "metadata": {
    "ExecuteTime": {
     "end_time": "2024-09-04T20:40:53.154794Z",
     "start_time": "2024-09-04T20:40:53.139794Z"
    }
   },
   "outputs": [
    {
     "data": {
      "text/plain": [
       "222.67499999999998"
      ]
     },
     "execution_count": 58,
     "metadata": {},
     "output_type": "execute_result"
    }
   ],
   "source": [
    "# \n",
    "y_min_threshold = min_res[min_res['mota'] == min_res['mota'].max()]['threshold'].min()\n",
    "y_min_threshold * y_max"
   ]
  },
  {
   "cell_type": "code",
   "execution_count": 59,
   "metadata": {
    "ExecuteTime": {
     "end_time": "2024-09-04T20:40:53.170754Z",
     "start_time": "2024-09-04T20:40:53.155805Z"
    }
   },
   "outputs": [],
   "source": [
    "# \n",
    "max_thresholds = [1.0, 0.99, 0.98, 0.97, 0.96, 0.95, 0.9, 0.85]"
   ]
  },
  {
   "cell_type": "code",
   "execution_count": 60,
   "metadata": {
    "ExecuteTime": {
     "end_time": "2024-09-04T20:41:17.630409Z",
     "start_time": "2024-09-04T20:40:53.171710Z"
    }
   },
   "outputs": [
    {
     "data": {
      "text/html": [
       "<div>\n",
       "<style scoped>\n",
       "    .dataframe tbody tr th:only-of-type {\n",
       "        vertical-align: middle;\n",
       "    }\n",
       "\n",
       "    .dataframe tbody tr th {\n",
       "        vertical-align: top;\n",
       "    }\n",
       "\n",
       "    .dataframe thead th {\n",
       "        text-align: right;\n",
       "    }\n",
       "</style>\n",
       "<table border=\"1\" class=\"dataframe\">\n",
       "  <thead>\n",
       "    <tr style=\"text-align: right;\">\n",
       "      <th></th>\n",
       "      <th>threshold</th>\n",
       "      <th>mota</th>\n",
       "      <th>motp</th>\n",
       "    </tr>\n",
       "  </thead>\n",
       "  <tbody>\n",
       "    <tr>\n",
       "      <th>0</th>\n",
       "      <td>1.0</td>\n",
       "      <td>0.968657</td>\n",
       "      <td>0.077725</td>\n",
       "    </tr>\n",
       "    <tr>\n",
       "      <th>1</th>\n",
       "      <td>0.99</td>\n",
       "      <td>0.972905</td>\n",
       "      <td>0.077688</td>\n",
       "    </tr>\n",
       "    <tr>\n",
       "      <th>2</th>\n",
       "      <td>0.98</td>\n",
       "      <td>0.980528</td>\n",
       "      <td>0.076124</td>\n",
       "    </tr>\n",
       "    <tr>\n",
       "      <th>3</th>\n",
       "      <td>0.97</td>\n",
       "      <td>0.981865</td>\n",
       "      <td>0.074209</td>\n",
       "    </tr>\n",
       "    <tr>\n",
       "      <th>4</th>\n",
       "      <td>0.96</td>\n",
       "      <td>0.981673</td>\n",
       "      <td>0.073021</td>\n",
       "    </tr>\n",
       "    <tr>\n",
       "      <th>5</th>\n",
       "      <td>0.95</td>\n",
       "      <td>0.981608</td>\n",
       "      <td>0.072355</td>\n",
       "    </tr>\n",
       "    <tr>\n",
       "      <th>6</th>\n",
       "      <td>0.9</td>\n",
       "      <td>0.98038</td>\n",
       "      <td>0.072357</td>\n",
       "    </tr>\n",
       "    <tr>\n",
       "      <th>7</th>\n",
       "      <td>0.85</td>\n",
       "      <td>0.980282</td>\n",
       "      <td>0.073692</td>\n",
       "    </tr>\n",
       "  </tbody>\n",
       "</table>\n",
       "</div>"
      ],
      "text/plain": [
       "  threshold      mota      motp\n",
       "0       1.0  0.968657  0.077725\n",
       "1      0.99  0.972905  0.077688\n",
       "2      0.98  0.980528  0.076124\n",
       "3      0.97  0.981865  0.074209\n",
       "4      0.96  0.981673  0.073021\n",
       "5      0.95  0.981608  0.072355\n",
       "6       0.9   0.98038  0.072357\n",
       "7      0.85  0.980282  0.073692"
      ]
     },
     "execution_count": 60,
     "metadata": {},
     "output_type": "execute_result"
    }
   ],
   "source": [
    "# \n",
    "max_res = pd.DataFrame(columns=['threshold', 'mota', 'motp'])\n",
    "\n",
    "for line, thresh in enumerate(max_thresholds):\n",
    "    y_thresh = y_max * thresh\n",
    "    y_min_defined = y_max * y_min_threshold\n",
    "    max_res.loc[line, 'threshold'] = thresh\n",
    "    max_res.loc[line, 'mota'], max_res.loc[line, 'motp'] = motMetricsEnhancedCalculator(\n",
    "        df_gt[(df_gt['yc'] < y_thresh) & (df_gt['yc'] > y_min_defined)][cols], \n",
    "        df_predict[(df_predict['yc'] < y_thresh) & (df_predict['yc'] > y_min_defined)][cols])\n",
    "max_res"
   ]
  },
  {
   "cell_type": "code",
   "execution_count": 61,
   "metadata": {
    "ExecuteTime": {
     "end_time": "2024-09-04T20:41:17.740815Z",
     "start_time": "2024-09-04T20:41:17.631411Z"
    }
   },
   "outputs": [
    {
     "data": {
      "image/png": "[encoded data removed]",
      "text/plain": [
       "<Figure size 640x480 with 1 Axes>"
      ]
     },
     "metadata": {},
     "output_type": "display_data"
    }
   ],
   "source": [
    "# \n",
    "max_res.plot(x='threshold', y='mota', grid=True)\n",
    "plt.title(\"Изменение МОТА относительно верхней границы трекинга\")\n",
    "plt.xlabel('Порог')\n",
    "plt.ylabel('МОТА');\n",
    "plt.show()"
   ]
  },
  {
   "cell_type": "markdown",
   "metadata": {},
   "source": [
    "__Вывод:__ Самое высокое значение метрики МОТА получается при значении порога 0,97."
   ]
  },
  {
   "cell_type": "code",
   "execution_count": 62,
   "metadata": {
    "ExecuteTime": {
     "end_time": "2024-09-04T20:41:17.756768Z",
     "start_time": "2024-09-04T20:41:17.741800Z"
    }
   },
   "outputs": [
    {
     "data": {
      "text/plain": [
       "1439.965"
      ]
     },
     "execution_count": 62,
     "metadata": {},
     "output_type": "execute_result"
    }
   ],
   "source": [
    "# \n",
    "y_max_threshold = max_res[max_res['mota'] == max_res['mota'].max()]['threshold'].max()\n",
    "y_max_threshold * y_max"
   ]
  },
  {
   "cell_type": "markdown",
   "metadata": {},
   "source": [
    "__Вывод:__\n",
    "\n",
    "При трекинге объектов на границах кадра возникают сложности. Модели, используемые для детекции и трекинга объектов, склонны к ошибкам в случае, когда объект частично находится за границей изображения. Для увеличения точности трекинга можно использовать границы начала трекинга и передачи данных на манипулятор. В нашем случае оптимальным значением ординаты центра объекта для начала трекинга является у=223 (15% от максимального значения ординаты), а для прекращения трекинга и отправки координат на манипулятор - у=1440 (97% от максимального значения ординаты)."
   ]
  },
  {
   "cell_type": "markdown",
   "metadata": {},
   "source": [
    "## Приложение 1 (Дополнительная демонстрация работы модели)"
   ]
  },
  {
   "cell_type": "markdown",
   "metadata": {},
   "source": [
    "Дополнительно к работе была создана функция track_model, которая обеспечивает покадровую обработку данных и передачу информации об истории трекировки и выдачи координат расположения мусора для робата, который его сортирует. Функция позволяет также выполнять анализ треков элементов, которые двигаются не прямолинейно или со смещением вправо/влево."
   ]
  },
  {
   "cell_type": "markdown",
   "metadata": {},
   "source": [
    "### Создание функций"
   ]
  },
  {
   "cell_type": "markdown",
   "metadata": {},
   "source": [
    "Создание функции визуализации трека."
   ]
  },
  {
   "cell_type": "code",
   "execution_count": 63,
   "metadata": {
    "ExecuteTime": {
     "end_time": "2024-09-04T20:41:17.772727Z",
     "start_time": "2024-09-04T20:41:17.757771Z"
    }
   },
   "outputs": [],
   "source": [
    "def track_visualization(df, x_lim_max, y_lim_max, xc_pred, img):\n",
    "    '''\n",
    "    Функция визуализации траектории.\n",
    "    \n",
    "    На входе функция принимает:\n",
    "    1. df - Датафрейм с информацией о треке;\n",
    "    2. x_lim_max и y_lim_max - максимальные значения осей x и y (должны соответствовать размерам анализируемого изображения)\n",
    "    3. xc_pred - предсказанная координата х, которая передаётся робату для забора мусора\n",
    "    4. img - анализируемое изображение.\n",
    "\n",
    "    Функция обеспечивает вывод на экран анализируемого изображения с разметкой \n",
    "    осей координат, нанесением синих точек траектории и вертикальной линии на значении \n",
    "    предсказанной координаты х для робота.\n",
    "    '''\n",
    "\n",
    "    # Создаем график\n",
    "    plt.figure()\n",
    "    plt.plot(df['xc'], df['yc'], 'bo')  # График точек синими кружками\n",
    "    plt.axvline(x=xc_pred, color='y')  # Вертикальная жёлтая линия в x=3\n",
    "        \n",
    "    plt.xlim (0, x_lim_max)\n",
    "    plt.ylim (0, y_lim_max)\n",
    "    \n",
    "    plt.imshow(img)\n",
    "    \n",
    "    plt.gca().invert_yaxis()  # Инвертируем ось y\n",
    "\n",
    "    plt.show()"
   ]
  },
  {
   "cell_type": "markdown",
   "metadata": {},
   "source": [
    "Создание функции обработки изображения."
   ]
  },
  {
   "cell_type": "code",
   "execution_count": 64,
   "metadata": {
    "ExecuteTime": {
     "end_time": "2024-09-04T20:41:17.804638Z",
     "start_time": "2024-09-04T20:41:17.773761Z"
    }
   },
   "outputs": [],
   "source": [
    "def track_model(*, \n",
    "                model_detect, # Модель детекции\n",
    "                img_path, # Путь к изображению, которое анализаруем\n",
    "                show_analys: bool=False, # Если необходимо выводить визуализацию изображения и информацию о треке \n",
    "                                         # (в соответствии с кодом выводятся только изображения со сложной траекторией)\n",
    "                history: pd.DataFrame=None, # Таблица с историей трекинга\n",
    "                num_of_frame: int=26, # Количество кадров, которое хранится в истории и анализируется моделью (от 3 и более)\n",
    "                threshold: float=0.1, # Порог для отсесения верхней и нижней части кадра (от 0 до 0,5)\n",
    "                x_lim_max: int=2048, # ширина изображения\n",
    "                y_lim_max: int=1486, # Высота изображения\n",
    "                min_point_track: int=5 # Минимальное количество точек трека для выполнения моделью анализа трека\n",
    "               ):\n",
    "    \n",
    "    \n",
    "    '''\n",
    "    Модель обработки изображений и выдачи информации для робота.\n",
    "    \n",
    "    Функция принимает на входе:\n",
    "    1. model_detect - Модель детекции мусора;\n",
    "    2. img_path - Путь к изображению, которое анализаруем;\n",
    "    3. show_analys - параметр, определяющий необходи мо ли выводить на экран изображения треков для их анализа\n",
    "                     (в соответствии с кодом выводятся только изображения со сложной траекторией);\n",
    "    4. history - Таблица с историей трекинга (изначально подаётся пустой датафрейм)\n",
    "    5. num_of_frame - Количество кадров, которое хранится в истории и анализируется моделью (от 3 и более);\n",
    "    6. threshold - Порог для отсесения верхней и нижней части кадра (от 0 до 0,5);\n",
    "    7. x_lim_max - Ширина изображения;\n",
    "    8. y_lim_max - Высота изображения;\n",
    "    9. min_point_track: int=5, # Минимальное количество точек трека для выполнения моделью анализа формы трека\n",
    "    \n",
    "    На выходе функция выдаёт:\n",
    "    1. Датафрейм history с информацией об истории трекировки за последние num_of_frame кадров;\n",
    "    2. Датафрейм df_coordinate с информацией о координатах мусора для передачи в систему робота.\n",
    "    3. При значении show_analys = True функция выводит на экран обрабатываемое изображение с осями координат, точками \n",
    "    разметки движения элемента (мусора) и жёлтой вертикальной линией предсказанной координатой x для робота.\n",
    "    \n",
    "    '''\n",
    "    # Настройка констант под алгоритм, вычисление производных констант и инициализация переменных\n",
    "    num_of_frame += 1\n",
    "\n",
    "    y_min = y_lim_max * threshold\n",
    "    y_max = y_lim_max - y_min\n",
    "    \n",
    "    frame = cv2.imread(frame_file)\n",
    "    \n",
    "    frame_name = (img_path).split(\"\\\\\")[-1][:-4]\n",
    "    \n",
    "    df_coordinate = pd.DataFrame()\n",
    "    \n",
    "    # Проверка, что изображение на пустое\n",
    "    if frame is not None:\n",
    "        results = model.track(frame, persist=True, device='cpu')\n",
    "\n",
    "        # Проверка, что моель нашла на изображении какие-либо объекты\n",
    "        if results[0].boxes.id is not None:\n",
    "            \n",
    "            line = 0\n",
    "            \n",
    "            df_predict = pd.DataFrame()\n",
    "            \n",
    "            # Данные по каждому объекту вносятся в датафрейм df_predict\n",
    "            for num_element in range(results[0].boxes.id.shape[0]):\n",
    "            \n",
    "                df_predict.loc[line, 'frame'] = frame_name\n",
    "                df_predict.loc[line, 'id'] = int(results[0].boxes.id[num_element].item())\n",
    "                df_predict.loc[line, 'xc'] = float(results[0].boxes.xywh[num_element][0].item())\n",
    "                df_predict.loc[line, 'yc'] = float(results[0].boxes.xywh[num_element][1].item())\n",
    "                df_predict.loc[line, 'y1'] = float(results[0].boxes.xyxy[num_element][1].item())\n",
    "                df_predict.loc[line, 'y2'] = float(results[0].boxes.xyxy[num_element][3].item())\n",
    "                df_predict.loc[line, 'class'] = int(results[0].boxes.cls[num_element].item())\n",
    "            \n",
    "                line += 1\n",
    "            \n",
    "            # Полученная для изображения информация вносится в датафрейм history. При этом старые изображения удаляются \n",
    "            # ( хранится не более num_of_frame кадров)\n",
    "            if history.empty == True: \n",
    "                history = pd.concat([history, df_predict])\n",
    "            elif history['frame'].nunique() < num_of_frame:\n",
    "                history = pd.concat([history, df_predict]).reset_index(drop=True)\n",
    "            else:\n",
    "                old_frame = history.reset_index()['frame'][0]\n",
    "                history = pd.concat([history[history['frame'] != old_frame], df_predict]).reset_index(drop=True)\n",
    "            \n",
    "            df_coordinate = pd.DataFrame()\n",
    "            \n",
    "            line = 0\n",
    "            \n",
    "            # Для каждого объекта из истории создаётся датафрейм id для оценки трека \n",
    "            # и выдачи координат в датафрейм df_coordinate\n",
    "            for id in history['id'].unique():\n",
    "        \n",
    "                df = history[(history['id'] == id) & (history['y1'] > y_min) & (history['y2'] < y_max) ]\n",
    "                df_last_line = df.tail(1).reset_index()                \n",
    "                \n",
    "                if df['id'].count() >= min_point_track:\n",
    "                    if df['xc'].std() < 20:\n",
    "                        df_coordinate.loc[line, 'frame'] = df_last_line.loc[0, 'frame']\n",
    "                        df_coordinate.loc[line, 'id'] = id\n",
    "                        df_coordinate.loc[line, 'yc'] = df_last_line.loc[0, 'yc']\n",
    "                        df_coordinate.loc[line, 'class'] = df_last_line.loc[0, 'class']\n",
    "                        df_coordinate.loc[line, 'xc_pred'] = df['xc'].tail(3).mean()\n",
    "                        \n",
    "                        line +=1\n",
    "\n",
    "                    else:\n",
    "                        X = df[['xc']].values\n",
    "                        y = df['yc'].values\n",
    "                        X = np.concatenate((np.ones((X.shape[0], 1)), X), axis=1)\n",
    "                        w = np.linalg.inv(X.T @ X) @ X.T @ y\n",
    "                        k = w[1]\n",
    "                        if -40 < k < 40 and df.tail(5)['xc'].std() < 15:\n",
    "                            df_coordinate.loc[line, 'xc_pred'] = df['xc'].tail(4).mean()\n",
    "                            df_coordinate.loc[line, 'frame'] = df_last_line.loc[0, 'frame']\n",
    "                            df_coordinate.loc[line, 'id'] = id\n",
    "                            df_coordinate.loc[line, 'yc'] = df_last_line.loc[0, 'yc']\n",
    "                            df_coordinate.loc[line, 'class'] = df_last_line.loc[0, 'class']\n",
    "                            line +=1\n",
    "                        elif -40 < k < 40:\n",
    "                            df_coordinate.loc[line, 'xc_pred'] = df_last_line.loc[0, 'xc'] # (y_lim_max - w[0]) /  w[1] + delta_y \n",
    "                            df_coordinate.loc[line, 'frame'] = df_last_line.loc[0, 'frame']\n",
    "                            df_coordinate.loc[line, 'id'] = id\n",
    "                            df_coordinate.loc[line, 'yc'] = df_last_line.loc[0, 'yc']\n",
    "                            df_coordinate.loc[line, 'class'] = df_last_line.loc[0, 'class']\n",
    "                        else:\n",
    "                            df_coordinate.loc[line, 'xc_pred'] = df['xc'].mean()\n",
    "                            df_coordinate.loc[line, 'frame'] = df_last_line.loc[0, 'frame']\n",
    "                            df_coordinate.loc[line, 'id'] = id\n",
    "                            df_coordinate.loc[line, 'yc'] = df_last_line.loc[0, 'yc']\n",
    "                            df_coordinate.loc[line, 'class'] = df_last_line.loc[0, 'class']\n",
    "                                                        \n",
    "                            line +=1\n",
    "\n",
    "                    # Алгоритм для вывода изображений с непрямолинейными треками\n",
    "                    if show_analys == True:\n",
    "                        xc_std = df['xc'].std()\n",
    "                        if xc_std >= 20:\n",
    "                            print('-' * 40)\n",
    "                            print(f'Имя файла трека: {frame_name}')\n",
    "                            print(f'Id предмета: {id}')\n",
    "                            print(f'Стандартное отклонение трека: {xc_std}')\n",
    "                            print(f'Коэффициент наклона средней линии трека: {k}')\n",
    "                            track_visualization(df, x_lim_max, y_lim_max, df_coordinate.tail(1).reset_index().loc[0, 'xc_pred'], frame)\n",
    "            \n",
    "    return history, df_coordinate"
   ]
  },
  {
   "cell_type": "markdown",
   "metadata": {},
   "source": [
    "### Код для демонстрации работы функции."
   ]
  },
  {
   "cell_type": "code",
   "execution_count": 67,
   "metadata": {
    "ExecuteTime": {
     "end_time": "2024-09-04T20:43:42.102954Z",
     "start_time": "2024-09-04T20:43:41.991253Z"
    }
   },
   "outputs": [],
   "source": [
    "# Инициализация модели детекции\n",
    "model_detection = YOLO(model_path) # Load a custom trained model"
   ]
  },
  {
   "cell_type": "code",
   "execution_count": 68,
   "metadata": {
    "ExecuteTime": {
     "end_time": "2024-09-04T20:43:46.180313Z",
     "start_time": "2024-09-04T20:43:45.941744Z"
    }
   },
   "outputs": [],
   "source": [
    "# Создание списка со ссылками на изображения\n",
    "frame_files = [os.path.join(path_images, f) for f in sorted(os.listdir(path_images)) if os.path.isfile(os.path.join(path_images, f))]"
   ]
  },
  {
   "cell_type": "code",
   "execution_count": 1,
   "metadata": {
    "ExecuteTime": {
     "end_time": "2024-09-05T13:31:53.440595Z",
     "start_time": "2024-09-05T13:31:53.432669Z"
    }
   },
   "outputs": [],
   "source": [
    "# # Запуск работы модели на тестовых изображениях\n",
    "# history = pd.DataFrame()\n",
    "# сoordinates = pd.DataFrame()\n",
    "#\n",
    "# for frame_file in tqdm(frame_files[:]):\n",
    "#\n",
    "#     history, сoordinates = track_model(model_detect=model_detection,\n",
    "#                                        img_path=frame_file,\n",
    "#                                        num_of_frame=26,\n",
    "#                                        history=history,\n",
    "#                                        show_analys=True\n",
    "#                                       )"
   ]
  },
  {
   "cell_type": "markdown",
   "metadata": {},
   "source": [
    "## Общий вывод"
   ]
  },
  {
   "cell_type": "markdown",
   "metadata": {},
   "source": [
    "В ходе работы были проанализированы предоставленные заказчиком данные, построены две модели трекинга (BoT-SORT и ByteTrack). Наилучших результатов удалось достичь с помощью модели c ByteTrack:\n",
    "* Метрика MOTA = 0.923\n",
    "* Метрика MOTP = 0.086\n",
    "Скорость обработки одного кадра - менее 100 мс.\n",
    "\n",
    "Были подобраны оптимальные границы для трекинга объектов: оптимальным значением ординаты центра объекта для начала трекинга является у=223 (15% от максимального значения ординаты), а для прекращения трекинга и отправки координат на манипулятор - у=1440 (97% от максимального значения ординаты).\n",
    "\n",
    "В проекте также предусмотрена возможность записи кадров с отрисовкой боксов и треков."
   ]
  },
  {
   "cell_type": "markdown",
   "metadata": {},
   "source": [
    "__Рекомендации бизнесу__\n",
    "\n",
    "На основании проведенного анализа для улучшения качества трекинга объектов можно рекомендовать следующее:\n",
    "* Предусмотреть прессование объектов для уменьшения вроятности катания их поперек ленты конвейера.\n",
    "* Распределять объекты по ленте более равномерно, чтобы они не располагались слишком близко друг к другу.\n",
    "* Стабилизировать ленту конвейера для более плавного перемещения объектов по ней.\n",
    "* Разместить камеру как можно ближе к манипулятору, чтобы исключить передачу неверных координат в случае, если объект выезжает за пределы кадра при продолжающемся движении поперек ленты.\n",
    "* Повысить яркость освещения в районе камеры (например, используя круговую лампу).\n",
    "Обеспечение данных рекомендаций повысит качество видео и работы детектора и трекера, соотвественно."
   ]
  },
  {
   "cell_type": "markdown",
   "metadata": {},
   "source": [
    "__Улучшение проекта и дальнейшее исследование__\n",
    "\n",
    "Возможны следующие пути усовершенствования проекта и модели трекинга:\n",
    "* Подбор гиперпараметров для трекера.\n",
    "* Использование других моделей детекции и трекинга (FairMOT, DEVA, CSRT).\n",
    "* Сегментация изображения объектов.\n",
    "* Написание скрипта."
   ]
  },
  {
   "cell_type": "code",
   "execution_count": null,
   "metadata": {},
   "outputs": [],
   "source": []
  }
 ],
 "metadata": {
  "kaggle": {
   "accelerator": "nvidiaTeslaT4",
   "dataSources": [
    {
     "datasetId": 5617509,
     "sourceId": 9296899,
     "sourceType": "datasetVersion"
    }
   ],
   "dockerImageVersionId": 30761,
   "isGpuEnabled": true,
   "isInternetEnabled": false,
   "language": "python",
   "sourceType": "notebook"
  },
  "kernelspec": {
   "display_name": "Python 3 (ipykernel)",
   "language": "python",
   "name": "python3"
  },
  "language_info": {
   "codemirror_mode": {
    "name": "ipython",
    "version": 3
   },
   "file_extension": ".py",
   "mimetype": "text/x-python",
   "name": "python",
   "nbconvert_exporter": "python",
   "pygments_lexer": "ipython3",
   "version": "3.9.16"
  },
  "toc": {
   "base_numbering": 1,
   "nav_menu": {},
   "number_sections": true,
   "sideBar": true,
   "skip_h1_title": true,
   "title_cell": "Table of Contents",
   "title_sidebar": "Contents",
   "toc_cell": true,
   "toc_position": {
    "height": "calc(100% - 180px)",
    "left": "10px",
    "top": "150px",
    "width": "179.305px"
   },
   "toc_section_display": true,
   "toc_window_display": true
  }
 },
 "nbformat": 4,
 "nbformat_minor": 4
}
