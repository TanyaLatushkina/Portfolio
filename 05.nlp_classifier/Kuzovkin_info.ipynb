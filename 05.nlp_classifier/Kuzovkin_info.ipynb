{
 "cells": [
  {
   "cell_type": "markdown",
   "id": "927f56a1",
   "metadata": {
    "toc": true
   },
   "source": [
    "<h1>Table of Contents<span class=\"tocSkip\"></span></h1>\n",
    "<div class=\"toc\"><ul class=\"toc-item\"><li><span><a href=\"#Первичный-анализ\" data-toc-modified-id=\"Первичный-анализ-1\"><span class=\"toc-item-num\">1&nbsp;&nbsp;</span>Первичный анализ</a></span></li><li><span><a href=\"#Подготовим-данные-для-обучения\" data-toc-modified-id=\"Подготовим-данные-для-обучения-2\"><span class=\"toc-item-num\">2&nbsp;&nbsp;</span>Подготовим данные для обучения</a></span><ul class=\"toc-item\"><li><span><a href=\"#Подготовим-таргет\" data-toc-modified-id=\"Подготовим-таргет-2.1\"><span class=\"toc-item-num\">2.1&nbsp;&nbsp;</span>Подготовим таргет</a></span></li><li><span><a href=\"#Подготовим-тренировочнй-датасет\" data-toc-modified-id=\"Подготовим-тренировочнй-датасет-2.2\"><span class=\"toc-item-num\">2.2&nbsp;&nbsp;</span>Подготовим тренировочнй датасет</a></span><ul class=\"toc-item\"><li><span><a href=\"#Соединим-датафреймы-и-добавим-таргет.\" data-toc-modified-id=\"Соединим-датафреймы-и-добавим-таргет.-2.2.1\"><span class=\"toc-item-num\">2.2.1&nbsp;&nbsp;</span>Соединим датафреймы и добавим таргет.</a></span></li><li><span><a href=\"#Проверим-дубликаты\" data-toc-modified-id=\"Проверим-дубликаты-2.2.2\"><span class=\"toc-item-num\">2.2.2&nbsp;&nbsp;</span>Проверим дубликаты</a></span></li><li><span><a href=\"#Очистим-текст\" data-toc-modified-id=\"Очистим-текст-2.2.3\"><span class=\"toc-item-num\">2.2.3&nbsp;&nbsp;</span>Очистим текст</a></span></li><li><span><a href=\"#Разделим-выборку-на-тренировочную-и-валидационную\" data-toc-modified-id=\"Разделим-выборку-на-тренировочную-и-валидационную-2.2.4\"><span class=\"toc-item-num\">2.2.4&nbsp;&nbsp;</span>Разделим выборку на тренировочную и валидационную</a></span></li></ul></li></ul></li><li><span><a href=\"#TFIDF\" data-toc-modified-id=\"TFIDF-3\"><span class=\"toc-item-num\">3&nbsp;&nbsp;</span>TFIDF</a></span><ul class=\"toc-item\"><li><span><a href=\"#Токинизируем-текст\" data-toc-modified-id=\"Токинизируем-текст-3.1\"><span class=\"toc-item-num\">3.1&nbsp;&nbsp;</span>Токинизируем текст</a></span></li><li><span><a href=\"#Обучим-модель-LogisticRegression\" data-toc-modified-id=\"Обучим-модель-LogisticRegression-3.2\"><span class=\"toc-item-num\">3.2&nbsp;&nbsp;</span>Обучим модель LogisticRegression</a></span></li><li><span><a href=\"#Обучим-модель-RandomForestClassifier\" data-toc-modified-id=\"Обучим-модель-RandomForestClassifier-3.3\"><span class=\"toc-item-num\">3.3&nbsp;&nbsp;</span>Обучим модель RandomForestClassifier</a></span></li><li><span><a href=\"#CatBoostClassifier\" data-toc-modified-id=\"CatBoostClassifier-3.4\"><span class=\"toc-item-num\">3.4&nbsp;&nbsp;</span>CatBoostClassifier</a></span></li></ul></li><li><span><a href=\"#Bert\" data-toc-modified-id=\"Bert-4\"><span class=\"toc-item-num\">4&nbsp;&nbsp;</span>Bert</a></span><ul class=\"toc-item\"><li><span><a href=\"#Извлечем-эмбеддинги\" data-toc-modified-id=\"Извлечем-эмбеддинги-4.1\"><span class=\"toc-item-num\">4.1&nbsp;&nbsp;</span>Извлечем эмбеддинги</a></span></li><li><span><a href=\"#Разделим-выборку-на-тренировочную-и-валидационную\" data-toc-modified-id=\"Разделим-выборку-на-тренировочную-и-валидационную-4.2\"><span class=\"toc-item-num\">4.2&nbsp;&nbsp;</span>Разделим выборку на тренировочную и валидационную</a></span></li><li><span><a href=\"#Обучим-модель-LogisticRegression\" data-toc-modified-id=\"Обучим-модель-LogisticRegression-4.3\"><span class=\"toc-item-num\">4.3&nbsp;&nbsp;</span>Обучим модель LogisticRegression</a></span></li><li><span><a href=\"#Обучим-модель-RandomForestClassifier\" data-toc-modified-id=\"Обучим-модель-RandomForestClassifier-4.4\"><span class=\"toc-item-num\">4.4&nbsp;&nbsp;</span>Обучим модель RandomForestClassifier</a></span></li><li><span><a href=\"#Обучим-модель-CatBoostClassifier\" data-toc-modified-id=\"Обучим-модель-CatBoostClassifier-4.5\"><span class=\"toc-item-num\">4.5&nbsp;&nbsp;</span>Обучим модель CatBoostClassifier</a></span></li></ul></li><li><span><a href=\"#Итог\" data-toc-modified-id=\"Итог-5\"><span class=\"toc-item-num\">5&nbsp;&nbsp;</span>Итог</a></span><ul class=\"toc-item\"><li><span><a href=\"#Соберем-все-в-одну-таблицу\" data-toc-modified-id=\"Соберем-все-в-одну-таблицу-5.1\"><span class=\"toc-item-num\">5.1&nbsp;&nbsp;</span>Соберем все в одну таблицу</a></span></li><li><span><a href=\"#Физика\" data-toc-modified-id=\"Физика-5.2\"><span class=\"toc-item-num\">5.2&nbsp;&nbsp;</span>Физика</a></span></li></ul></li></ul></div>"
   ]
  },
  {
   "cell_type": "markdown",
   "id": "407b9129",
   "metadata": {},
   "source": [
    "# Бинарная классификация задач Kuzovkin.info"
   ]
  },
  {
   "cell_type": "code",
   "execution_count": 17,
   "id": "b5bc47f6",
   "metadata": {},
   "outputs": [
    {
     "name": "stderr",
     "output_type": "stream",
     "text": [
      "[nltk_data] Downloading package stopwords to /Users/tanya/nltk_data...\n",
      "[nltk_data]   Package stopwords is already up-to-date!\n"
     ]
    }
   ],
   "source": [
    "# подгружаем библиотеки\n",
    "import pandas as pd\n",
    "import matplotlib.pyplot as plt\n",
    "import seaborn as sns\n",
    "import re\n",
    "import spacy\n",
    "import nltk\n",
    "import numpy as np\n",
    "import optuna\n",
    "import torch\n",
    "import torch.nn as nn\n",
    "import torch.optim as optim\n",
    "import torch.functional as F\n",
    "import emoji\n",
    "\n",
    "from tqdm.notebook import tqdm\n",
    "from nltk.corpus import stopwords\n",
    "from sklearn.feature_extraction.text import TfidfVectorizer\n",
    "from sklearn.model_selection import train_test_split\n",
    "from sklearn.linear_model import LogisticRegression\n",
    "from sklearn.ensemble import RandomForestClassifier\n",
    "from sklearn.metrics import classification_report, accuracy_score\n",
    "from sklearn.model_selection import cross_val_score\n",
    "from wordcloud import WordCloud\n",
    "from optuna.samplers import TPESampler\n",
    "from transformers import AutoTokenizer, AutoModel \n",
    "from catboost import CatBoostClassifier\n",
    "\n",
    "import warnings\n",
    "warnings.filterwarnings(\"ignore\")\n",
    "\n",
    "\n",
    "nltk.download('stopwords') # поддерживает удаление стоп-слов\n",
    "pd.set_option('display.max_colwidth', None)"
   ]
  },
  {
   "cell_type": "code",
   "execution_count": 2,
   "id": "7f922e55",
   "metadata": {},
   "outputs": [],
   "source": [
    "# константы\n",
    "SEED = 42\n",
    "\n",
    "model_name = 'cointegrated/LaBSE-en-ru'  # веса для обучения Bert\n",
    "df_task = '/Users/tanya/Documents/DS/Projects/Kuzovkin_info/data-1719430924811.csv' # путь в файлу с текстом задач\n",
    "df_topics = '/Users/tanya/Documents/DS/Projects/Kuzovkin_info/topics.csv' # путь к файлу со списком тем \n",
    "bert_embeddings = '/Users/tanya/Documents/DS/Projects/Kuzovkin_info/bert_embeddings.csv' # путь к эмбеддингам"
   ]
  },
  {
   "cell_type": "markdown",
   "id": "6a0284d2",
   "metadata": {},
   "source": [
    "## Первичный анализ"
   ]
  },
  {
   "cell_type": "code",
   "execution_count": 3,
   "id": "314334d1",
   "metadata": {},
   "outputs": [],
   "source": [
    "# датасет с задачами\n",
    "\n",
    "try:\n",
    "    df_task = pd.read_csv(df_task)\n",
    "except Exception as ex: \n",
    "    print(ex)    "
   ]
  },
  {
   "cell_type": "code",
   "execution_count": 4,
   "id": "fbb08430",
   "metadata": {},
   "outputs": [],
   "source": [
    "# датасет с иерархическим спиком\n",
    "\n",
    "try:\n",
    "    df_topics = pd.read_csv(df_topics)\n",
    "except Exception as ex: \n",
    "    print(ex)"
   ]
  },
  {
   "cell_type": "code",
   "execution_count": 7,
   "id": "2bef9063",
   "metadata": {},
   "outputs": [],
   "source": [
    "def df_info(data):\n",
    "    \n",
    "    '''\n",
    "    Функция для первичного изучения] датасета. Нав вход принимает сам датасет, \n",
    "    на выход получаем общую информацитю о датасете.\n",
    "    '''\n",
    "    \n",
    "    display(data.sample(10))\n",
    "    display(data.info())\n",
    "    print(data.duplicated().sum())\n",
    "    print('Количество записпей: ', data.shape[0], 'Количество столбцов: ', data.shape[1])"
   ]
  },
  {
   "cell_type": "code",
   "execution_count": 18,
   "id": "c5b9b9d5",
   "metadata": {},
   "outputs": [
    {
     "ename": "AttributeError",
     "evalue": "'str' object has no attribute 'sample'",
     "output_type": "error",
     "traceback": [
      "\u001b[0;31m---------------------------------------------------------------------------\u001b[0m",
      "\u001b[0;31mAttributeError\u001b[0m                            Traceback (most recent call last)",
      "Cell \u001b[0;32mIn[18], line 1\u001b[0m\n\u001b[0;32m----> 1\u001b[0m \u001b[43mdf_info\u001b[49m\u001b[43m(\u001b[49m\u001b[43mdf_task\u001b[49m\u001b[43m)\u001b[49m \u001b[38;5;66;03m# общая информация о датасете с текстом задач\u001b[39;00m\n",
      "Cell \u001b[0;32mIn[7], line 8\u001b[0m, in \u001b[0;36mdf_info\u001b[0;34m(data)\u001b[0m\n\u001b[1;32m      1\u001b[0m \u001b[38;5;28;01mdef\u001b[39;00m \u001b[38;5;21mdf_info\u001b[39m(data):\n\u001b[1;32m      3\u001b[0m \u001b[38;5;250m    \u001b[39m\u001b[38;5;124;03m'''\u001b[39;00m\n\u001b[1;32m      4\u001b[0m \u001b[38;5;124;03m    Функция для первичного изучения] датасета. Нав вход принимает сам датасет, \u001b[39;00m\n\u001b[1;32m      5\u001b[0m \u001b[38;5;124;03m    на выход получаем общую информацитю о датасете.\u001b[39;00m\n\u001b[1;32m      6\u001b[0m \u001b[38;5;124;03m    '''\u001b[39;00m\n\u001b[0;32m----> 8\u001b[0m     display(\u001b[43mdata\u001b[49m\u001b[38;5;241;43m.\u001b[39;49m\u001b[43msample\u001b[49m(\u001b[38;5;241m10\u001b[39m))\n\u001b[1;32m      9\u001b[0m     display(data\u001b[38;5;241m.\u001b[39minfo())\n\u001b[1;32m     10\u001b[0m     \u001b[38;5;28mprint\u001b[39m(data\u001b[38;5;241m.\u001b[39mduplicated()\u001b[38;5;241m.\u001b[39msum())\n",
      "\u001b[0;31mAttributeError\u001b[0m: 'str' object has no attribute 'sample'"
     ]
    }
   ],
   "source": [
    "df_info(df_task) # общая информация о датасете с текстом задач"
   ]
  },
  {
   "cell_type": "code",
   "execution_count": 7,
   "id": "4ad90828",
   "metadata": {},
   "outputs": [
    {
     "data": {
      "text/html": [
       "<div>\n",
       "<style scoped>\n",
       "    .dataframe tbody tr th:only-of-type {\n",
       "        vertical-align: middle;\n",
       "    }\n",
       "\n",
       "    .dataframe tbody tr th {\n",
       "        vertical-align: top;\n",
       "    }\n",
       "\n",
       "    .dataframe thead th {\n",
       "        text-align: right;\n",
       "    }\n",
       "</style>\n",
       "<table border=\"1\" class=\"dataframe\">\n",
       "  <thead>\n",
       "    <tr style=\"text-align: right;\">\n",
       "      <th></th>\n",
       "      <th>id</th>\n",
       "      <th>name</th>\n",
       "      <th>parent</th>\n",
       "    </tr>\n",
       "  </thead>\n",
       "  <tbody>\n",
       "    <tr>\n",
       "      <th>605</th>\n",
       "      <td>606</td>\n",
       "      <td>Нормальное распределение</td>\n",
       "      <td>560</td>\n",
       "    </tr>\n",
       "    <tr>\n",
       "      <th>434</th>\n",
       "      <td>435</td>\n",
       "      <td>сложные дробно-рациональные неравенства</td>\n",
       "      <td>433</td>\n",
       "    </tr>\n",
       "    <tr>\n",
       "      <th>536</th>\n",
       "      <td>537</td>\n",
       "      <td>треугольник Рело</td>\n",
       "      <td>180</td>\n",
       "    </tr>\n",
       "    <tr>\n",
       "      <th>668</th>\n",
       "      <td>669</td>\n",
       "      <td>ГМТ с постоянным углом</td>\n",
       "      <td>176</td>\n",
       "    </tr>\n",
       "    <tr>\n",
       "      <th>115</th>\n",
       "      <td>116</td>\n",
       "      <td>Алгебраические выражения</td>\n",
       "      <td>21</td>\n",
       "    </tr>\n",
       "    <tr>\n",
       "      <th>231</th>\n",
       "      <td>232</td>\n",
       "      <td>Изопроцессы</td>\n",
       "      <td>229</td>\n",
       "    </tr>\n",
       "    <tr>\n",
       "      <th>337</th>\n",
       "      <td>338</td>\n",
       "      <td>механические волны.звук</td>\n",
       "      <td>314</td>\n",
       "    </tr>\n",
       "    <tr>\n",
       "      <th>484</th>\n",
       "      <td>485</td>\n",
       "      <td>подобие треугольников</td>\n",
       "      <td>484</td>\n",
       "    </tr>\n",
       "    <tr>\n",
       "      <th>503</th>\n",
       "      <td>504</td>\n",
       "      <td>правильные многоугольники</td>\n",
       "      <td>503</td>\n",
       "    </tr>\n",
       "    <tr>\n",
       "      <th>267</th>\n",
       "      <td>268</td>\n",
       "      <td>Уравнения на применение формул преобразования ...</td>\n",
       "      <td>258</td>\n",
       "    </tr>\n",
       "  </tbody>\n",
       "</table>\n",
       "</div>"
      ],
      "text/plain": [
       "      id                                               name  parent\n",
       "605  606                           Нормальное распределение     560\n",
       "434  435            сложные дробно-рациональные неравенства     433\n",
       "536  537                                   треугольник Рело     180\n",
       "668  669                             ГМТ с постоянным углом     176\n",
       "115  116                           Алгебраические выражения      21\n",
       "231  232                                        Изопроцессы     229\n",
       "337  338                            механические волны.звук     314\n",
       "484  485                              подобие треугольников     484\n",
       "503  504                          правильные многоугольники     503\n",
       "267  268  Уравнения на применение формул преобразования ...     258"
      ]
     },
     "metadata": {},
     "output_type": "display_data"
    },
    {
     "name": "stdout",
     "output_type": "stream",
     "text": [
      "<class 'pandas.core.frame.DataFrame'>\n",
      "RangeIndex: 688 entries, 0 to 687\n",
      "Data columns (total 3 columns):\n",
      " #   Column  Non-Null Count  Dtype \n",
      "---  ------  --------------  ----- \n",
      " 0   id      688 non-null    int64 \n",
      " 1   name    688 non-null    object\n",
      " 2   parent  688 non-null    int64 \n",
      "dtypes: int64(2), object(1)\n",
      "memory usage: 16.2+ KB\n"
     ]
    },
    {
     "data": {
      "text/plain": [
       "None"
      ]
     },
     "metadata": {},
     "output_type": "display_data"
    },
    {
     "name": "stdout",
     "output_type": "stream",
     "text": [
      "0\n",
      "Количество записпей:  688 Количество столбцов:  3\n"
     ]
    }
   ],
   "source": [
    "df_info(df_topics) # общая информация о датасете со списком тем"
   ]
  },
  {
   "cell_type": "markdown",
   "id": "0f1ea70f",
   "metadata": {},
   "source": [
    "__Вывод:__\n",
    "\n",
    "1) В df_task есть значительное количество пропусков в колонках answer и text_of_solution. Так как достоверно восстановить мы их не можем, нам придется удалить эти признаки.\n",
    "\n",
    "2) Сами тексты задач имеют специфическе символы (формулы, обозначения), русские и английские буквы. Необходимо подобрать такую модель трансформера, которая учитывала бы эти особенности.\n",
    "\n",
    "3) В df_topics у нас иерархический список, где у каждой темы есть id родителя. Необходимо разделить все темы на два класса Математика и Физика."
   ]
  },
  {
   "cell_type": "markdown",
   "id": "4024e419",
   "metadata": {},
   "source": [
    "## Подготовим данные для обучения"
   ]
  },
  {
   "cell_type": "markdown",
   "id": "6eb3b77b",
   "metadata": {},
   "source": [
    "### Подготовим таргет"
   ]
  },
  {
   "cell_type": "code",
   "execution_count": 8,
   "id": "358f5a23",
   "metadata": {},
   "outputs": [],
   "source": [
    "# рекурсионная функция для классификации задач\n",
    "\n",
    "def get_parent_id(idx):\n",
    "    \n",
    "    '''\n",
    "    Функция на вход принимает индекс задачи, для которой нужно искать родителя. \n",
    "    На выходе получаем имя верхнегг родителя \n",
    "    '''\n",
    "    \n",
    "    row = df_topics.loc[df_topics.id == idx, :]\n",
    "    parent, name = row['parent'].values[0], row['name'].values[0]\n",
    "    if parent == 0:\n",
    "        return name\n",
    "    return get_parent_id(parent)\n",
    "\n",
    "def label_rows(df_topics):\n",
    "    \n",
    "    '''\n",
    "    Функция принимает на вход весь датафрейм.\n",
    "    На выходе получаем датафрейм с новой колонкой, где записаны родители верхнего уровня.\n",
    "    '''\n",
    "    \n",
    "    df_to_label = df_topics[df_topics['parent'] != 0]\n",
    "    for i in df_to_label['id'].unique():\n",
    "        name = get_parent_id(i)\n",
    "        df_topics.loc[df_topics.id == i, 'subject'] = name\n",
    "    df_topics.loc[df_topics.subject.isna(), 'subject'] = df_topics.loc[df_topics.subject.isna(), 'name'].values\n",
    "    return df_topics"
   ]
  },
  {
   "cell_type": "code",
   "execution_count": 9,
   "id": "29238a0a",
   "metadata": {},
   "outputs": [
    {
     "data": {
      "text/html": [
       "<div>\n",
       "<style scoped>\n",
       "    .dataframe tbody tr th:only-of-type {\n",
       "        vertical-align: middle;\n",
       "    }\n",
       "\n",
       "    .dataframe tbody tr th {\n",
       "        vertical-align: top;\n",
       "    }\n",
       "\n",
       "    .dataframe thead th {\n",
       "        text-align: right;\n",
       "    }\n",
       "</style>\n",
       "<table border=\"1\" class=\"dataframe\">\n",
       "  <thead>\n",
       "    <tr style=\"text-align: right;\">\n",
       "      <th></th>\n",
       "      <th>id</th>\n",
       "      <th>name</th>\n",
       "      <th>parent</th>\n",
       "      <th>subject</th>\n",
       "    </tr>\n",
       "  </thead>\n",
       "  <tbody>\n",
       "    <tr>\n",
       "      <th>0</th>\n",
       "      <td>1</td>\n",
       "      <td>Математика</td>\n",
       "      <td>0</td>\n",
       "      <td>Математика</td>\n",
       "    </tr>\n",
       "    <tr>\n",
       "      <th>1</th>\n",
       "      <td>2</td>\n",
       "      <td>Арифметика и начала Алгебры</td>\n",
       "      <td>1</td>\n",
       "      <td>Математика</td>\n",
       "    </tr>\n",
       "    <tr>\n",
       "      <th>2</th>\n",
       "      <td>3</td>\n",
       "      <td>Арифметика</td>\n",
       "      <td>2</td>\n",
       "      <td>Математика</td>\n",
       "    </tr>\n",
       "    <tr>\n",
       "      <th>3</th>\n",
       "      <td>4</td>\n",
       "      <td>Натуральные числа</td>\n",
       "      <td>3</td>\n",
       "      <td>Математика</td>\n",
       "    </tr>\n",
       "    <tr>\n",
       "      <th>4</th>\n",
       "      <td>5</td>\n",
       "      <td>Cложение и вычитание натуральных чисел</td>\n",
       "      <td>4</td>\n",
       "      <td>Математика</td>\n",
       "    </tr>\n",
       "    <tr>\n",
       "      <th>...</th>\n",
       "      <td>...</td>\n",
       "      <td>...</td>\n",
       "      <td>...</td>\n",
       "      <td>...</td>\n",
       "    </tr>\n",
       "    <tr>\n",
       "      <th>683</th>\n",
       "      <td>684</td>\n",
       "      <td>теорема Пуассона</td>\n",
       "      <td>560</td>\n",
       "      <td>Математика</td>\n",
       "    </tr>\n",
       "    <tr>\n",
       "      <th>684</th>\n",
       "      <td>685</td>\n",
       "      <td>Первоначальные понятия математической статистики</td>\n",
       "      <td>560</td>\n",
       "      <td>Математика</td>\n",
       "    </tr>\n",
       "    <tr>\n",
       "      <th>685</th>\n",
       "      <td>686</td>\n",
       "      <td>Оценка вероятности по относительной частоте. Д...</td>\n",
       "      <td>685</td>\n",
       "      <td>Математика</td>\n",
       "    </tr>\n",
       "    <tr>\n",
       "      <th>686</th>\n",
       "      <td>687</td>\n",
       "      <td>Оценка параметров в статистике</td>\n",
       "      <td>685</td>\n",
       "      <td>Математика</td>\n",
       "    </tr>\n",
       "    <tr>\n",
       "      <th>687</th>\n",
       "      <td>688</td>\n",
       "      <td>Плотность вероятности. Числовые характеристики...</td>\n",
       "      <td>560</td>\n",
       "      <td>Математика</td>\n",
       "    </tr>\n",
       "  </tbody>\n",
       "</table>\n",
       "<p>688 rows × 4 columns</p>\n",
       "</div>"
      ],
      "text/plain": [
       "      id                                               name  parent  \\\n",
       "0      1                                         Математика       0   \n",
       "1      2                        Арифметика и начала Алгебры       1   \n",
       "2      3                                         Арифметика       2   \n",
       "3      4                                  Натуральные числа       3   \n",
       "4      5             Cложение и вычитание натуральных чисел       4   \n",
       "..   ...                                                ...     ...   \n",
       "683  684                                   теорема Пуассона     560   \n",
       "684  685   Первоначальные понятия математической статистики     560   \n",
       "685  686  Оценка вероятности по относительной частоте. Д...     685   \n",
       "686  687                     Оценка параметров в статистике     685   \n",
       "687  688  Плотность вероятности. Числовые характеристики...     560   \n",
       "\n",
       "        subject  \n",
       "0    Математика  \n",
       "1    Математика  \n",
       "2    Математика  \n",
       "3    Математика  \n",
       "4    Математика  \n",
       "..          ...  \n",
       "683  Математика  \n",
       "684  Математика  \n",
       "685  Математика  \n",
       "686  Математика  \n",
       "687  Математика  \n",
       "\n",
       "[688 rows x 4 columns]"
      ]
     },
     "execution_count": 9,
     "metadata": {},
     "output_type": "execute_result"
    }
   ],
   "source": [
    "# применяем рекурсивнную функцию\n",
    "label_rows(df_topics)"
   ]
  },
  {
   "cell_type": "code",
   "execution_count": 10,
   "id": "721af0b8",
   "metadata": {},
   "outputs": [
    {
     "data": {
      "image/png": "[encoded data removed]",
      "text/plain": [
       "<Figure size 500x500 with 1 Axes>"
      ]
     },
     "metadata": {},
     "output_type": "display_data"
    }
   ],
   "source": [
    "# граффик баланса классов\n",
    "topics_counts = df_topics['subject'].value_counts()\n",
    "labels=topics_counts.index\n",
    "sns.set(font_scale = 1)\n",
    "plt.figure(figsize=(5,5))\n",
    "\n",
    "plt.pie(\n",
    "    x=topics_counts, \n",
    "    labels=topics_counts.index,\n",
    "    autopct='%1.2f%%',\n",
    "    colors=sns.color_palette('Set2'),\n",
    "    startangle=90,\n",
    "    explode=[0, 0.12]\n",
    ")\n",
    "plt.title('Баланс класcов')\n",
    "plt.show()"
   ]
  },
  {
   "cell_type": "markdown",
   "id": "8f9b2829",
   "metadata": {},
   "source": [
    "__Вывод:__ Задач по математики а два раза больше, зем задач по физике."
   ]
  },
  {
   "cell_type": "markdown",
   "id": "bbaa533d",
   "metadata": {},
   "source": [
    "### Подготовим тренировочнй датасет"
   ]
  },
  {
   "cell_type": "markdown",
   "id": "22ce9bfe",
   "metadata": {},
   "source": [
    "#### Соединим датафреймы и добавим таргет."
   ]
  },
  {
   "cell_type": "code",
   "execution_count": 11,
   "id": "04ce98de",
   "metadata": {},
   "outputs": [
    {
     "data": {
      "text/html": [
       "<div>\n",
       "<style scoped>\n",
       "    .dataframe tbody tr th:only-of-type {\n",
       "        vertical-align: middle;\n",
       "    }\n",
       "\n",
       "    .dataframe tbody tr th {\n",
       "        vertical-align: top;\n",
       "    }\n",
       "\n",
       "    .dataframe thead th {\n",
       "        text-align: right;\n",
       "    }\n",
       "</style>\n",
       "<table border=\"1\" class=\"dataframe\">\n",
       "  <thead>\n",
       "    <tr style=\"text-align: right;\">\n",
       "      <th></th>\n",
       "      <th>id</th>\n",
       "      <th>task</th>\n",
       "      <th>answer</th>\n",
       "      <th>topics_id</th>\n",
       "      <th>text_of_solution</th>\n",
       "    </tr>\n",
       "  </thead>\n",
       "  <tbody>\n",
       "    <tr>\n",
       "      <th>9603</th>\n",
       "      <td>46801</td>\n",
       "      <td>Решите уравнение: \\(\\sqrt{2x-4}-\\sqrt{x-1}=1\\).</td>\n",
       "      <td>10</td>\n",
       "      <td>70</td>\n",
       "      <td>NaN</td>\n",
       "    </tr>\n",
       "    <tr>\n",
       "      <th>11814</th>\n",
       "      <td>9104</td>\n",
       "      <td>Расстояние между городами A и B равно 720 км. ...</td>\n",
       "      <td>В 360</td>\n",
       "      <td>11</td>\n",
       "      <td>NaN</td>\n",
       "    </tr>\n",
       "    <tr>\n",
       "      <th>9840</th>\n",
       "      <td>47672</td>\n",
       "      <td>В параллелепипеде \\(A…D_{1}\\) укажите векторы,...</td>\n",
       "      <td>NaN</td>\n",
       "      <td>499</td>\n",
       "      <td>NaN</td>\n",
       "    </tr>\n",
       "    <tr>\n",
       "      <th>20702</th>\n",
       "      <td>48889</td>\n",
       "      <td>Какие координаты имеет точка, симметричная точ...</td>\n",
       "      <td>NaN</td>\n",
       "      <td>498</td>\n",
       "      <td>NaN</td>\n",
       "    </tr>\n",
       "    <tr>\n",
       "      <th>10041</th>\n",
       "      <td>48402</td>\n",
       "      <td>Положительные числа  \\(x, y, z\\) таковы, что: ...</td>\n",
       "      <td>NaN</td>\n",
       "      <td>489</td>\n",
       "      <td>NaN</td>\n",
       "    </tr>\n",
       "    <tr>\n",
       "      <th>9504</th>\n",
       "      <td>46409</td>\n",
       "      <td>При делении натурального числа п на 6 получили...</td>\n",
       "      <td>2</td>\n",
       "      <td>1</td>\n",
       "      <td>NaN</td>\n",
       "    </tr>\n",
       "    <tr>\n",
       "      <th>33302</th>\n",
       "      <td>13753</td>\n",
       "      <td>Найдите \\(\\lim_{n \\to \\propto} n^{\\frac{3}{2}}...</td>\n",
       "      <td>-\\frac{1}{4}</td>\n",
       "      <td>60</td>\n",
       "      <td>\\(\\lim_{n \\to \\propto} n^{\\frac{3}{2}}\\left ( ...</td>\n",
       "    </tr>\n",
       "    <tr>\n",
       "      <th>5354</th>\n",
       "      <td>30386</td>\n",
       "      <td>Полый шар радиуса \\(R\\) вращается с постоянно...</td>\n",
       "      <td>NaN</td>\n",
       "      <td>410</td>\n",
       "      <td>\\(\\mu \\geq \\left ( gcos\\varphi -\\omega ^{2}Rsi...</td>\n",
       "    </tr>\n",
       "    <tr>\n",
       "      <th>33318</th>\n",
       "      <td>13795</td>\n",
       "      <td>Найдите \\(\\lim_{n \\to \\propto} x_{n}\\), воспол...</td>\n",
       "      <td>0</td>\n",
       "      <td>59</td>\n",
       "      <td>\\( \\lim_{n \\to \\propto}\\frac{n*3^{n}+1}{n!+1}=...</td>\n",
       "    </tr>\n",
       "    <tr>\n",
       "      <th>9891</th>\n",
       "      <td>47850</td>\n",
       "      <td>Остается ли справедливой теорема о трех перпен...</td>\n",
       "      <td>NaN</td>\n",
       "      <td>569</td>\n",
       "      <td>Да</td>\n",
       "    </tr>\n",
       "  </tbody>\n",
       "</table>\n",
       "</div>"
      ],
      "text/plain": [
       "          id                                               task        answer  \\\n",
       "9603   46801    Решите уравнение: \\(\\sqrt{2x-4}-\\sqrt{x-1}=1\\).            10   \n",
       "11814   9104  Расстояние между городами A и B равно 720 км. ...         В 360   \n",
       "9840   47672  В параллелепипеде \\(A…D_{1}\\) укажите векторы,...           NaN   \n",
       "20702  48889  Какие координаты имеет точка, симметричная точ...           NaN   \n",
       "10041  48402  Положительные числа  \\(x, y, z\\) таковы, что: ...           NaN   \n",
       "9504   46409  При делении натурального числа п на 6 получили...             2   \n",
       "33302  13753  Найдите \\(\\lim_{n \\to \\propto} n^{\\frac{3}{2}}...  -\\frac{1}{4}   \n",
       "5354   30386   Полый шар радиуса \\(R\\) вращается с постоянно...           NaN   \n",
       "33318  13795  Найдите \\(\\lim_{n \\to \\propto} x_{n}\\), воспол...             0   \n",
       "9891   47850  Остается ли справедливой теорема о трех перпен...           NaN   \n",
       "\n",
       "       topics_id                                   text_of_solution  \n",
       "9603          70                                                NaN  \n",
       "11814         11                                                NaN  \n",
       "9840         499                                                NaN  \n",
       "20702        498                                                NaN  \n",
       "10041        489                                                NaN  \n",
       "9504           1                                                NaN  \n",
       "33302         60  \\(\\lim_{n \\to \\propto} n^{\\frac{3}{2}}\\left ( ...  \n",
       "5354         410  \\(\\mu \\geq \\left ( gcos\\varphi -\\omega ^{2}Rsi...  \n",
       "33318         59  \\( \\lim_{n \\to \\propto}\\frac{n*3^{n}+1}{n!+1}=...  \n",
       "9891         569                                                 Да  "
      ]
     },
     "metadata": {},
     "output_type": "display_data"
    },
    {
     "name": "stdout",
     "output_type": "stream",
     "text": [
      "<class 'pandas.core.frame.DataFrame'>\n",
      "RangeIndex: 42648 entries, 0 to 42647\n",
      "Data columns (total 5 columns):\n",
      " #   Column            Non-Null Count  Dtype \n",
      "---  ------            --------------  ----- \n",
      " 0   id                42648 non-null  int64 \n",
      " 1   task              42648 non-null  object\n",
      " 2   answer            24048 non-null  object\n",
      " 3   topics_id         42648 non-null  int64 \n",
      " 4   text_of_solution  22678 non-null  object\n",
      "dtypes: int64(2), object(3)\n",
      "memory usage: 1.6+ MB\n"
     ]
    },
    {
     "data": {
      "text/plain": [
       "None"
      ]
     },
     "metadata": {},
     "output_type": "display_data"
    },
    {
     "name": "stdout",
     "output_type": "stream",
     "text": [
      "0\n",
      "Количество записпей:  42648 Количество столбцов:  5\n"
     ]
    }
   ],
   "source": [
    "df_info(df_task)"
   ]
  },
  {
   "cell_type": "code",
   "execution_count": 12,
   "id": "32e5ac87",
   "metadata": {},
   "outputs": [],
   "source": [
    "# соединим два датафрейма\n",
    "\n",
    "df_train = df_topics.merge(df_task, left_on='id', right_on='topics_id')\n",
    "\n",
    "# уберем лишник колонки\n",
    "\n",
    "df_train.drop(['id_x', 'name', 'parent', 'id_y', 'answer', 'topics_id', 'text_of_solution'],\n",
    "              axis=1,\n",
    "              inplace=True)"
   ]
  },
  {
   "cell_type": "code",
   "execution_count": 13,
   "id": "60c5c64a",
   "metadata": {},
   "outputs": [],
   "source": [
    "def make_target(row):\n",
    "    \n",
    "    '''\n",
    "    Функция для определения таргета. На вход получает сам датафрейм. \n",
    "    На выходе, столбец с таргетом. \n",
    "    Математика - таргет 1. Физика - таргет 0. \n",
    "    '''\n",
    "    \n",
    "    try:\n",
    "        if row.subject == 'Математика':\n",
    "            return 1\n",
    "        else:\n",
    "            return 0\n",
    "    except:\n",
    "        pass"
   ]
  },
  {
   "cell_type": "code",
   "execution_count": 14,
   "id": "21af14ef",
   "metadata": {},
   "outputs": [],
   "source": [
    "# применим функцию по добавлению таргета\n",
    "df_train['target'] = df_train.apply(make_target, axis='columns')"
   ]
  },
  {
   "cell_type": "markdown",
   "id": "081fd46f",
   "metadata": {},
   "source": [
    "#### Проверим дубликаты"
   ]
  },
  {
   "cell_type": "code",
   "execution_count": 15,
   "id": "639c24e3",
   "metadata": {},
   "outputs": [],
   "source": [
    "# количество дубликатов в данных\n",
    "df_train.duplicated().sum()\n",
    "\n",
    "# удалим дубликаты\n",
    "df_train.drop_duplicates(inplace=True)"
   ]
  },
  {
   "cell_type": "markdown",
   "id": "18d778eb",
   "metadata": {},
   "source": [
    "#### Очистим текст"
   ]
  },
  {
   "cell_type": "code",
   "execution_count": 16,
   "id": "6af02450",
   "metadata": {},
   "outputs": [],
   "source": [
    "# Выполню очистку текста и лемматизирую его. \n",
    "disabled_pipes = ['parser', 'ner']\n",
    "nlp = spacy.load('ru_core_news_sm', disable=disabled_pipes)\n",
    "#nlp = spacy.load('ru_core_news_sm')\n",
    "\n",
    "\n",
    "def clean_text(sentence): \n",
    "    \n",
    "    '''\n",
    "    Функция очистки текста.\n",
    "    На вход получает не очищенных текст.\n",
    "    На выходе получаем очищенный текст\n",
    "    '''\n",
    "    \n",
    "    sentence = re.sub('[^А-Яа-яёЁA-Za-z]', ' ', sentence).lower()\n",
    "    sentence = re.sub('\\s+', ' ', sentence).strip()\n",
    "    sentence = nltk.word_tokenize(sentence, language='russian')\n",
    "    return sentence\n",
    "\n",
    "def lemmtext(text): \n",
    "    \n",
    "    '''\n",
    "    Функция лемметезации текста\n",
    "    На вход получает очищенный текст.\n",
    "    На выходе лемметизированныцй текст\n",
    "    '''\n",
    "    \n",
    "    doc = nlp(text)\n",
    "\n",
    "    return ' '.join([token.lemma_ for token in doc])"
   ]
  },
  {
   "cell_type": "code",
   "execution_count": 17,
   "id": "35cfea59",
   "metadata": {},
   "outputs": [
    {
     "data": {
      "application/vnd.jupyter.widget-view+json": {
       "model_id": "fc1f51f08cf14687b886d74f13a457a5",
       "version_major": 2,
       "version_minor": 0
      },
      "text/plain": [
       "  0%|          | 0/39887 [00:00<?, ?it/s]"
      ]
     },
     "metadata": {},
     "output_type": "display_data"
    }
   ],
   "source": [
    "tqdm.pandas()\n",
    "df_train['clean_text'] = df_train['task'].progress_apply(clean_text) # очистка текста для train"
   ]
  },
  {
   "cell_type": "code",
   "execution_count": 18,
   "id": "3a2b816d",
   "metadata": {},
   "outputs": [
    {
     "data": {
      "application/vnd.jupyter.widget-view+json": {
       "model_id": "d2cd643fc8114b64b3a776de5b3953f4",
       "version_major": 2,
       "version_minor": 0
      },
      "text/plain": [
       "  0%|          | 0/39887 [00:00<?, ?it/s]"
      ]
     },
     "metadata": {},
     "output_type": "display_data"
    }
   ],
   "source": [
    "tqdm.pandas()\n",
    "df_train['lemm_text'] = df_train['clean_text'].progress_apply(lemmtext) # лемм. текста для train"
   ]
  },
  {
   "cell_type": "code",
   "execution_count": 19,
   "id": "7e542b9a",
   "metadata": {},
   "outputs": [
    {
     "data": {
      "text/html": [
       "<div>\n",
       "<style scoped>\n",
       "    .dataframe tbody tr th:only-of-type {\n",
       "        vertical-align: middle;\n",
       "    }\n",
       "\n",
       "    .dataframe tbody tr th {\n",
       "        vertical-align: top;\n",
       "    }\n",
       "\n",
       "    .dataframe thead th {\n",
       "        text-align: right;\n",
       "    }\n",
       "</style>\n",
       "<table border=\"1\" class=\"dataframe\">\n",
       "  <thead>\n",
       "    <tr style=\"text-align: right;\">\n",
       "      <th></th>\n",
       "      <th>subject</th>\n",
       "      <th>task</th>\n",
       "      <th>target</th>\n",
       "      <th>clean_text</th>\n",
       "      <th>lemm_text</th>\n",
       "    </tr>\n",
       "  </thead>\n",
       "  <tbody>\n",
       "    <tr>\n",
       "      <th>0</th>\n",
       "      <td>Математика</td>\n",
       "      <td>Равносильны ли уравнения: \\(cosx=0\\) и \\(sin^2...</td>\n",
       "      <td>1</td>\n",
       "      <td>равносильны ли уравнения cosx и sin x</td>\n",
       "      <td>равносильный ли уравнение cosx и sin x</td>\n",
       "    </tr>\n",
       "    <tr>\n",
       "      <th>1</th>\n",
       "      <td>Математика</td>\n",
       "      <td>Равносильны ли уравнения: \\(\\frac{log_x(x+1)}{...</td>\n",
       "      <td>1</td>\n",
       "      <td>равносильны ли уравнения frac log x x log x и ...</td>\n",
       "      <td>равносильный ли уравнение frac log x x log x и...</td>\n",
       "    </tr>\n",
       "    <tr>\n",
       "      <th>2</th>\n",
       "      <td>Математика</td>\n",
       "      <td>Равносильны ли уравнения: \\(\\frac{x+3}{x+3}=1\\...</td>\n",
       "      <td>1</td>\n",
       "      <td>равносильны ли уравнения frac x x и frac x x</td>\n",
       "      <td>равносильный ли уравнение frac x x и frac x x</td>\n",
       "    </tr>\n",
       "    <tr>\n",
       "      <th>3</th>\n",
       "      <td>Математика</td>\n",
       "      <td>Равносильны ли уравнения: \\(log_{x^2}x^2=1 \\) ...</td>\n",
       "      <td>1</td>\n",
       "      <td>равносильны ли уравнения log x x и log xx</td>\n",
       "      <td>равносильный ли уравнение log x x и log xx</td>\n",
       "    </tr>\n",
       "    <tr>\n",
       "      <th>4</th>\n",
       "      <td>Математика</td>\n",
       "      <td>Какое из двух уравнений является следствием др...</td>\n",
       "      <td>1</td>\n",
       "      <td>какое из двух уравнений является следствием др...</td>\n",
       "      <td>какой из два уравнение являться следствие друг...</td>\n",
       "    </tr>\n",
       "    <tr>\n",
       "      <th>...</th>\n",
       "      <td>...</td>\n",
       "      <td>...</td>\n",
       "      <td>...</td>\n",
       "      <td>...</td>\n",
       "      <td>...</td>\n",
       "    </tr>\n",
       "    <tr>\n",
       "      <th>42643</th>\n",
       "      <td>Математика</td>\n",
       "      <td>Найдите минимальный объем выборки, при котором...</td>\n",
       "      <td>1</td>\n",
       "      <td>найдите минимальный объем выборки при котором ...</td>\n",
       "      <td>найти минимальный объём выборка при котором с ...</td>\n",
       "    </tr>\n",
       "    <tr>\n",
       "      <th>42644</th>\n",
       "      <td>Математика</td>\n",
       "      <td>Найдите минимальный объем выборки, при котором...</td>\n",
       "      <td>1</td>\n",
       "      <td>найдите минимальный объем выборки при котором ...</td>\n",
       "      <td>найти минимальный объём выборка при котором с ...</td>\n",
       "    </tr>\n",
       "    <tr>\n",
       "      <th>42645</th>\n",
       "      <td>Математика</td>\n",
       "      <td>Лабораторная работа № 3. Задание: Проведите из...</td>\n",
       "      <td>1</td>\n",
       "      <td>лабораторная работа задание проведите измерени...</td>\n",
       "      <td>лабораторный работа задание проведите измерени...</td>\n",
       "    </tr>\n",
       "    <tr>\n",
       "      <th>42646</th>\n",
       "      <td>Математика</td>\n",
       "      <td>Из большой партии изготовленных деталей по выб...</td>\n",
       "      <td>1</td>\n",
       "      <td>из большой партии изготовленных деталей по выб...</td>\n",
       "      <td>из большой партия изготовленных деталь по выбо...</td>\n",
       "    </tr>\n",
       "    <tr>\n",
       "      <th>42647</th>\n",
       "      <td>Математика</td>\n",
       "      <td>Лабораторная работа № 4. Задание: на основании...</td>\n",
       "      <td>1</td>\n",
       "      <td>лабораторная работа задание на основании резул...</td>\n",
       "      <td>лабораторный работа задание на основание резул...</td>\n",
       "    </tr>\n",
       "  </tbody>\n",
       "</table>\n",
       "<p>39887 rows × 5 columns</p>\n",
       "</div>"
      ],
      "text/plain": [
       "          subject                                               task  target  \\\n",
       "0      Математика  Равносильны ли уравнения: \\(cosx=0\\) и \\(sin^2...       1   \n",
       "1      Математика  Равносильны ли уравнения: \\(\\frac{log_x(x+1)}{...       1   \n",
       "2      Математика  Равносильны ли уравнения: \\(\\frac{x+3}{x+3}=1\\...       1   \n",
       "3      Математика  Равносильны ли уравнения: \\(log_{x^2}x^2=1 \\) ...       1   \n",
       "4      Математика  Какое из двух уравнений является следствием др...       1   \n",
       "...           ...                                                ...     ...   \n",
       "42643  Математика  Найдите минимальный объем выборки, при котором...       1   \n",
       "42644  Математика  Найдите минимальный объем выборки, при котором...       1   \n",
       "42645  Математика  Лабораторная работа № 3. Задание: Проведите из...       1   \n",
       "42646  Математика  Из большой партии изготовленных деталей по выб...       1   \n",
       "42647  Математика  Лабораторная работа № 4. Задание: на основании...       1   \n",
       "\n",
       "                                              clean_text  \\\n",
       "0                  равносильны ли уравнения cosx и sin x   \n",
       "1      равносильны ли уравнения frac log x x log x и ...   \n",
       "2           равносильны ли уравнения frac x x и frac x x   \n",
       "3              равносильны ли уравнения log x x и log xx   \n",
       "4      какое из двух уравнений является следствием др...   \n",
       "...                                                  ...   \n",
       "42643  найдите минимальный объем выборки при котором ...   \n",
       "42644  найдите минимальный объем выборки при котором ...   \n",
       "42645  лабораторная работа задание проведите измерени...   \n",
       "42646  из большой партии изготовленных деталей по выб...   \n",
       "42647  лабораторная работа задание на основании резул...   \n",
       "\n",
       "                                               lemm_text  \n",
       "0                 равносильный ли уравнение cosx и sin x  \n",
       "1      равносильный ли уравнение frac log x x log x и...  \n",
       "2          равносильный ли уравнение frac x x и frac x x  \n",
       "3             равносильный ли уравнение log x x и log xx  \n",
       "4      какой из два уравнение являться следствие друг...  \n",
       "...                                                  ...  \n",
       "42643  найти минимальный объём выборка при котором с ...  \n",
       "42644  найти минимальный объём выборка при котором с ...  \n",
       "42645  лабораторный работа задание проведите измерени...  \n",
       "42646  из большой партия изготовленных деталь по выбо...  \n",
       "42647  лабораторный работа задание на основание резул...  \n",
       "\n",
       "[39887 rows x 5 columns]"
      ]
     },
     "metadata": {},
     "output_type": "display_data"
    }
   ],
   "source": [
    "display(df_train)"
   ]
  },
  {
   "cell_type": "markdown",
   "id": "8a3256dc",
   "metadata": {},
   "source": [
    "#### Разделим выборку на тренировочную и валидационную"
   ]
  },
  {
   "cell_type": "code",
   "execution_count": 20,
   "id": "60aae339",
   "metadata": {},
   "outputs": [],
   "source": [
    "X_train, X_val, y_train, y_val = train_test_split(df_train['lemm_text'], \n",
    "                                                df_train['target'], \n",
    "                                                test_size=0.25, \n",
    "                                                random_state=SEED,\n",
    "                                                stratify=df_train['target'])"
   ]
  },
  {
   "cell_type": "code",
   "execution_count": 21,
   "id": "1a5146e6",
   "metadata": {},
   "outputs": [
    {
     "name": "stdout",
     "output_type": "stream",
     "text": [
      "(29915,)\n",
      "(29915,)\n",
      "(9972,)\n",
      "(9972,)\n"
     ]
    }
   ],
   "source": [
    "# проверим размерность полученых переменых\n",
    "\n",
    "print(X_train.shape)\n",
    "print(y_train.shape)\n",
    "print(X_val.shape)\n",
    "print(y_val.shape)"
   ]
  },
  {
   "cell_type": "markdown",
   "id": "34621110",
   "metadata": {},
   "source": [
    "__Вывод:__ Подготовили выборку для обучения модели.\n",
    " - добавили таргет к текстам задач и удалили лишние признаков\n",
    " - очистили текс задач от пробелов, убрали лишние символы. Слова лемматизацировали.\n",
    " - разделили выборку на тренировочную и валидационную"
   ]
  },
  {
   "cell_type": "markdown",
   "id": "8908c034",
   "metadata": {},
   "source": [
    "## TFIDF"
   ]
  },
  {
   "cell_type": "markdown",
   "id": "be1e4f09",
   "metadata": {},
   "source": [
    "### Токинизируем текст"
   ]
  },
  {
   "cell_type": "code",
   "execution_count": 22,
   "id": "bd5b1c96",
   "metadata": {},
   "outputs": [],
   "source": [
    "# задаем стоп слова\n",
    "stop_words = stopwords.words('russian') # выбираем английские слова\n",
    "tf_idf = TfidfVectorizer(stop_words=stop_words, dtype=np.float32) # создадим класс для созднания векторов tfidf"
   ]
  },
  {
   "cell_type": "code",
   "execution_count": 23,
   "id": "efd44aaa",
   "metadata": {},
   "outputs": [
    {
     "name": "stdout",
     "output_type": "stream",
     "text": [
      "CPU times: user 1.14 s, sys: 36.7 ms, total: 1.18 s\n",
      "Wall time: 1.5 s\n"
     ]
    }
   ],
   "source": [
    "%%time\n",
    "# приобразуем текст в векторное значение на тренировочной выборке\n",
    "train_tf_idf = tf_idf.fit_transform(X_train)"
   ]
  },
  {
   "cell_type": "code",
   "execution_count": 24,
   "id": "a50b1d53",
   "metadata": {},
   "outputs": [
    {
     "name": "stdout",
     "output_type": "stream",
     "text": [
      "CPU times: user 321 ms, sys: 5.89 ms, total: 327 ms\n",
      "Wall time: 326 ms\n"
     ]
    }
   ],
   "source": [
    "%%time\n",
    "# приобразуем текст в векторное значение на тренировочной выборке\n",
    "val_tf_idf = tf_idf.transform(X_val)"
   ]
  },
  {
   "cell_type": "markdown",
   "id": "3678dcdf",
   "metadata": {},
   "source": [
    "### Обучим модель LogisticRegression"
   ]
  },
  {
   "cell_type": "code",
   "execution_count": 25,
   "id": "e3359a18",
   "metadata": {},
   "outputs": [],
   "source": [
    "dense_train = train_tf_idf.todense()\n",
    "dense_train = pd.DataFrame(dense_train)"
   ]
  },
  {
   "cell_type": "code",
   "execution_count": 26,
   "id": "bfd7ee14",
   "metadata": {},
   "outputs": [],
   "source": [
    "dense_val = val_tf_idf.todense()\n",
    "dense_val = pd.DataFrame(dense_val)"
   ]
  },
  {
   "cell_type": "code",
   "execution_count": 27,
   "id": "5b48d5a8",
   "metadata": {},
   "outputs": [
    {
     "name": "stdout",
     "output_type": "stream",
     "text": [
      "CPU times: user 10 µs, sys: 2 µs, total: 12 µs\n",
      "Wall time: 16 µs\n"
     ]
    }
   ],
   "source": [
    "%%time\n",
    "def objective(trial):    \n",
    "    # Список гиперпараметров для перебора\n",
    "    param = {\n",
    "        'C': trial.suggest_float('C', 1, 15),\n",
    "    }\n",
    "                                \n",
    "     # Определяю модель машинного обучения, которой передаются гиперпараметры\n",
    "    estimator = LogisticRegression(**param, \n",
    "                                   n_jobs=-1,\n",
    "                                   class_weight='balanced',\n",
    "                                   random_state=SEED,\n",
    "                                   solver='lbfgs',\n",
    "                                   max_iter=50)\n",
    "\n",
    "    # Обучим модель        \n",
    "    estimator.fit(dense_train, y_train)\n",
    "    \n",
    "    # Вычисляем accuracy\n",
    "    \n",
    "    return cross_val_score(estimator, dense_val, y_val, cv=3, scoring= 'accuracy').mean()"
   ]
  },
  {
   "cell_type": "code",
   "execution_count": 28,
   "id": "55b78bd9",
   "metadata": {},
   "outputs": [
    {
     "name": "stdout",
     "output_type": "stream",
     "text": [
      "CPU times: user 4 µs, sys: 1e+03 ns, total: 5 µs\n",
      "Wall time: 7.87 µs\n"
     ]
    }
   ],
   "source": [
    "%%time\n",
    "# Подбираем гиперпараметров\n",
    "#sampler = TPESampler(consider_prior=True, multivariate=True, group=True)\n",
    "#optuna_logreg = optuna.create_study(study_name='LogReg', direction='maximize', sampler=sampler)\n",
    "# Запускаем процесс подбора гиперпараметров\n",
    "#optuna_logreg.optimize(objective, n_trials=5, n_jobs=-1, show_progress_bar=True)"
   ]
  },
  {
   "cell_type": "code",
   "execution_count": 29,
   "id": "e6ce5704",
   "metadata": {},
   "outputs": [],
   "source": [
    "#accuracy = round(optuna_logreg.best_value, 2)\n",
    "#print('LogisticRegression accuracy: ', accuracy)\n",
    "#print()\n",
    "#print('Best_params: ', optuna_logreg.best_params)"
   ]
  },
  {
   "cell_type": "markdown",
   "id": "810f0734",
   "metadata": {},
   "source": [
    "Подбор гиперпараметров занимает много времени, поэтому записала подобранные параметры сразу."
   ]
  },
  {
   "cell_type": "code",
   "execution_count": 30,
   "id": "f14c9d70",
   "metadata": {},
   "outputs": [
    {
     "name": "stderr",
     "output_type": "stream",
     "text": [
      "/Users/tanya/anaconda3/envs/practicum/lib/python3.9/site-packages/sklearn/linear_model/_logistic.py:460: ConvergenceWarning: lbfgs failed to converge (status=1):\n",
      "STOP: TOTAL NO. of ITERATIONS REACHED LIMIT.\n",
      "\n",
      "Increase the number of iterations (max_iter) or scale the data as shown in:\n",
      "    https://scikit-learn.org/stable/modules/preprocessing.html\n",
      "Please also refer to the documentation for alternative solver options:\n",
      "    https://scikit-learn.org/stable/modules/linear_model.html#logistic-regression\n",
      "  n_iter_i = _check_optimize_result(\n"
     ]
    },
    {
     "data": {
      "text/html": [
       "<style>#sk-container-id-1 {color: black;}#sk-container-id-1 pre{padding: 0;}#sk-container-id-1 div.sk-toggleable {background-color: white;}#sk-container-id-1 label.sk-toggleable__label {cursor: pointer;display: block;width: 100%;margin-bottom: 0;padding: 0.3em;box-sizing: border-box;text-align: center;}#sk-container-id-1 label.sk-toggleable__label-arrow:before {content: \"▸\";float: left;margin-right: 0.25em;color: #696969;}#sk-container-id-1 label.sk-toggleable__label-arrow:hover:before {color: black;}#sk-container-id-1 div.sk-estimator:hover label.sk-toggleable__label-arrow:before {color: black;}#sk-container-id-1 div.sk-toggleable__content {max-height: 0;max-width: 0;overflow: hidden;text-align: left;background-color: #f0f8ff;}#sk-container-id-1 div.sk-toggleable__content pre {margin: 0.2em;color: black;border-radius: 0.25em;background-color: #f0f8ff;}#sk-container-id-1 input.sk-toggleable__control:checked~div.sk-toggleable__content {max-height: 200px;max-width: 100%;overflow: auto;}#sk-container-id-1 input.sk-toggleable__control:checked~label.sk-toggleable__label-arrow:before {content: \"▾\";}#sk-container-id-1 div.sk-estimator input.sk-toggleable__control:checked~label.sk-toggleable__label {background-color: #d4ebff;}#sk-container-id-1 div.sk-label input.sk-toggleable__control:checked~label.sk-toggleable__label {background-color: #d4ebff;}#sk-container-id-1 input.sk-hidden--visually {border: 0;clip: rect(1px 1px 1px 1px);clip: rect(1px, 1px, 1px, 1px);height: 1px;margin: -1px;overflow: hidden;padding: 0;position: absolute;width: 1px;}#sk-container-id-1 div.sk-estimator {font-family: monospace;background-color: #f0f8ff;border: 1px dotted black;border-radius: 0.25em;box-sizing: border-box;margin-bottom: 0.5em;}#sk-container-id-1 div.sk-estimator:hover {background-color: #d4ebff;}#sk-container-id-1 div.sk-parallel-item::after {content: \"\";width: 100%;border-bottom: 1px solid gray;flex-grow: 1;}#sk-container-id-1 div.sk-label:hover label.sk-toggleable__label {background-color: #d4ebff;}#sk-container-id-1 div.sk-serial::before {content: \"\";position: absolute;border-left: 1px solid gray;box-sizing: border-box;top: 0;bottom: 0;left: 50%;z-index: 0;}#sk-container-id-1 div.sk-serial {display: flex;flex-direction: column;align-items: center;background-color: white;padding-right: 0.2em;padding-left: 0.2em;position: relative;}#sk-container-id-1 div.sk-item {position: relative;z-index: 1;}#sk-container-id-1 div.sk-parallel {display: flex;align-items: stretch;justify-content: center;background-color: white;position: relative;}#sk-container-id-1 div.sk-item::before, #sk-container-id-1 div.sk-parallel-item::before {content: \"\";position: absolute;border-left: 1px solid gray;box-sizing: border-box;top: 0;bottom: 0;left: 50%;z-index: -1;}#sk-container-id-1 div.sk-parallel-item {display: flex;flex-direction: column;z-index: 1;position: relative;background-color: white;}#sk-container-id-1 div.sk-parallel-item:first-child::after {align-self: flex-end;width: 50%;}#sk-container-id-1 div.sk-parallel-item:last-child::after {align-self: flex-start;width: 50%;}#sk-container-id-1 div.sk-parallel-item:only-child::after {width: 0;}#sk-container-id-1 div.sk-dashed-wrapped {border: 1px dashed gray;margin: 0 0.4em 0.5em 0.4em;box-sizing: border-box;padding-bottom: 0.4em;background-color: white;}#sk-container-id-1 div.sk-label label {font-family: monospace;font-weight: bold;display: inline-block;line-height: 1.2em;}#sk-container-id-1 div.sk-label-container {text-align: center;}#sk-container-id-1 div.sk-container {/* jupyter's `normalize.less` sets `[hidden] { display: none; }` but bootstrap.min.css set `[hidden] { display: none !important; }` so we also need the `!important` here to be able to override the default hidden behavior on the sphinx rendered scikit-learn.org. See: https://github.com/scikit-learn/scikit-learn/issues/21755 */display: inline-block !important;position: relative;}#sk-container-id-1 div.sk-text-repr-fallback {display: none;}</style><div id=\"sk-container-id-1\" class=\"sk-top-container\"><div class=\"sk-text-repr-fallback\"><pre>LogisticRegression(C=5, max_iter=50, n_jobs=-1, random_state=42)</pre><b>In a Jupyter environment, please rerun this cell to show the HTML representation or trust the notebook. <br />On GitHub, the HTML representation is unable to render, please try loading this page with nbviewer.org.</b></div><div class=\"sk-container\" hidden><div class=\"sk-item\"><div class=\"sk-estimator sk-toggleable\"><input class=\"sk-toggleable__control sk-hidden--visually\" id=\"sk-estimator-id-1\" type=\"checkbox\" checked><label for=\"sk-estimator-id-1\" class=\"sk-toggleable__label sk-toggleable__label-arrow\">LogisticRegression</label><div class=\"sk-toggleable__content\"><pre>LogisticRegression(C=5, max_iter=50, n_jobs=-1, random_state=42)</pre></div></div></div></div></div>"
      ],
      "text/plain": [
       "LogisticRegression(C=5, max_iter=50, n_jobs=-1, random_state=42)"
      ]
     },
     "execution_count": 30,
     "metadata": {},
     "output_type": "execute_result"
    }
   ],
   "source": [
    "%%time\n",
    "# инициируем модель LogisticRegression\n",
    "model_lr = LogisticRegression(C=5, \\\n",
    "                                    solver='lbfgs', \n",
    "                                    max_iter=50,\n",
    "                                    n_jobs=-1,\n",
    "                                    random_state=SEED)\n",
    "\n",
    "model_lr.fit(train_tf_idf, y_train) # обучим модель"
   ]
  },
  {
   "cell_type": "code",
   "execution_count": 31,
   "id": "1e375e9c",
   "metadata": {},
   "outputs": [
    {
     "name": "stdout",
     "output_type": "stream",
     "text": [
      "              precision    recall  f1-score   support\n",
      "\n",
      "           0       0.99      0.99      0.99      3736\n",
      "           1       0.99      0.99      0.99      6236\n",
      "\n",
      "    accuracy                           0.99      9972\n",
      "   macro avg       0.99      0.99      0.99      9972\n",
      "weighted avg       0.99      0.99      0.99      9972\n",
      "\n"
     ]
    }
   ],
   "source": [
    "predict_lr = model_lr.predict(val_tf_idf) # предсказания на валидационной выборке\n",
    "print(classification_report(y_val, predict_lr)) # посчитаем метрику"
   ]
  },
  {
   "cell_type": "markdown",
   "id": "a1eb38cd",
   "metadata": {},
   "source": [
    "### Обучим модель RandomForestClassifier"
   ]
  },
  {
   "cell_type": "code",
   "execution_count": 32,
   "id": "a9aa1df3",
   "metadata": {},
   "outputs": [
    {
     "name": "stdout",
     "output_type": "stream",
     "text": [
      "CPU times: user 345 µs, sys: 232 µs, total: 577 µs\n",
      "Wall time: 533 µs\n"
     ]
    }
   ],
   "source": [
    "%%time\n",
    "def objective(trial):\n",
    "    # Список гиперпараметров для перебора\n",
    "    param = {\n",
    "        'n_estimators': trial.suggest_int('n_estimators', 10, 1000),\n",
    "        'criterion': trial.suggest_categorical('criterion', ['gini', 'entropy']),\n",
    "        'max_depth': trial.suggest_int('max_depth', 2, 15),\n",
    "        'max_features': trial.suggest_categorical('max_features', ['sqrt', 'log2', None]),\n",
    "        'min_samples_split': trial.suggest_int('min_samples_split', 2, 15),\n",
    "        'min_samples_leaf': trial.suggest_int('min_samples_leaf', 1, 10),\n",
    "    }\n",
    "    \n",
    "    # Определяю модель машинного обучения, которой передаются гиперпараметры\n",
    "    estimator = RandomForestClassifier(random_state=SEED, n_jobs=-1, **param)\n",
    "    \n",
    "    # Добавим пайплайн\n",
    "  \n",
    "    estimator.fit(dense_train, y_train)\n",
    "    \n",
    "    # Вычисляем accuracy_score\n",
    "    \n",
    "    return cross_val_score(estimator, dense_val, y_val, cv=3, scoring= 'accuracy').mean()"
   ]
  },
  {
   "cell_type": "code",
   "execution_count": 33,
   "id": "14af3da8",
   "metadata": {},
   "outputs": [
    {
     "name": "stdout",
     "output_type": "stream",
     "text": [
      "CPU times: user 5 µs, sys: 1e+03 ns, total: 6 µs\n",
      "Wall time: 12.2 µs\n"
     ]
    }
   ],
   "source": [
    "%%time\n",
    "# Подбираем гиперпараметров\n",
    "#sampler = TPESampler(consider_prior=True, group=True, multivariate=True) \n",
    "#optuna_rf = optuna.create_study(study_name='RF', direction=\"maximize\", sampler=sampler)"
   ]
  },
  {
   "cell_type": "code",
   "execution_count": 34,
   "id": "3e936e66",
   "metadata": {},
   "outputs": [
    {
     "name": "stdout",
     "output_type": "stream",
     "text": [
      "CPU times: user 6 µs, sys: 2 µs, total: 8 µs\n",
      "Wall time: 14.1 µs\n"
     ]
    }
   ],
   "source": [
    "%%time\n",
    "# Запускаем процесс подбора гиперпараметров\n",
    "#optuna_rf.optimize(objective, n_trials=5, n_jobs=-1, show_progress_bar=True)"
   ]
  },
  {
   "cell_type": "markdown",
   "id": "2e0edb20",
   "metadata": {},
   "source": [
    "Trial 0 finished with value: 0.8875852386682711 and parameters: {'n_estimators': 154, 'criterion': 'gini', 'max_depth': 5, 'max_features': None, 'min_samples_split': 4, 'min_samples_leaf': 8}. Best is trial 0 with value: 0.8875852386682711."
   ]
  },
  {
   "cell_type": "code",
   "execution_count": 35,
   "id": "669ae0f0",
   "metadata": {},
   "outputs": [],
   "source": [
    "#accuracy = round(optuna_rf.best_value, 2)\n",
    "#print('RandomForestClassifier accuracy: ', accuracy)\n",
    "#print()\n",
    "#print('Best_params: ', optuna_rf.best_params)"
   ]
  },
  {
   "cell_type": "code",
   "execution_count": 36,
   "id": "4835b702",
   "metadata": {},
   "outputs": [
    {
     "name": "stdout",
     "output_type": "stream",
     "text": [
      "CPU times: user 1min 19s, sys: 592 ms, total: 1min 20s\n",
      "Wall time: 23.2 s\n"
     ]
    },
    {
     "data": {
      "text/html": [
       "<style>#sk-container-id-2 {color: black;}#sk-container-id-2 pre{padding: 0;}#sk-container-id-2 div.sk-toggleable {background-color: white;}#sk-container-id-2 label.sk-toggleable__label {cursor: pointer;display: block;width: 100%;margin-bottom: 0;padding: 0.3em;box-sizing: border-box;text-align: center;}#sk-container-id-2 label.sk-toggleable__label-arrow:before {content: \"▸\";float: left;margin-right: 0.25em;color: #696969;}#sk-container-id-2 label.sk-toggleable__label-arrow:hover:before {color: black;}#sk-container-id-2 div.sk-estimator:hover label.sk-toggleable__label-arrow:before {color: black;}#sk-container-id-2 div.sk-toggleable__content {max-height: 0;max-width: 0;overflow: hidden;text-align: left;background-color: #f0f8ff;}#sk-container-id-2 div.sk-toggleable__content pre {margin: 0.2em;color: black;border-radius: 0.25em;background-color: #f0f8ff;}#sk-container-id-2 input.sk-toggleable__control:checked~div.sk-toggleable__content {max-height: 200px;max-width: 100%;overflow: auto;}#sk-container-id-2 input.sk-toggleable__control:checked~label.sk-toggleable__label-arrow:before {content: \"▾\";}#sk-container-id-2 div.sk-estimator input.sk-toggleable__control:checked~label.sk-toggleable__label {background-color: #d4ebff;}#sk-container-id-2 div.sk-label input.sk-toggleable__control:checked~label.sk-toggleable__label {background-color: #d4ebff;}#sk-container-id-2 input.sk-hidden--visually {border: 0;clip: rect(1px 1px 1px 1px);clip: rect(1px, 1px, 1px, 1px);height: 1px;margin: -1px;overflow: hidden;padding: 0;position: absolute;width: 1px;}#sk-container-id-2 div.sk-estimator {font-family: monospace;background-color: #f0f8ff;border: 1px dotted black;border-radius: 0.25em;box-sizing: border-box;margin-bottom: 0.5em;}#sk-container-id-2 div.sk-estimator:hover {background-color: #d4ebff;}#sk-container-id-2 div.sk-parallel-item::after {content: \"\";width: 100%;border-bottom: 1px solid gray;flex-grow: 1;}#sk-container-id-2 div.sk-label:hover label.sk-toggleable__label {background-color: #d4ebff;}#sk-container-id-2 div.sk-serial::before {content: \"\";position: absolute;border-left: 1px solid gray;box-sizing: border-box;top: 0;bottom: 0;left: 50%;z-index: 0;}#sk-container-id-2 div.sk-serial {display: flex;flex-direction: column;align-items: center;background-color: white;padding-right: 0.2em;padding-left: 0.2em;position: relative;}#sk-container-id-2 div.sk-item {position: relative;z-index: 1;}#sk-container-id-2 div.sk-parallel {display: flex;align-items: stretch;justify-content: center;background-color: white;position: relative;}#sk-container-id-2 div.sk-item::before, #sk-container-id-2 div.sk-parallel-item::before {content: \"\";position: absolute;border-left: 1px solid gray;box-sizing: border-box;top: 0;bottom: 0;left: 50%;z-index: -1;}#sk-container-id-2 div.sk-parallel-item {display: flex;flex-direction: column;z-index: 1;position: relative;background-color: white;}#sk-container-id-2 div.sk-parallel-item:first-child::after {align-self: flex-end;width: 50%;}#sk-container-id-2 div.sk-parallel-item:last-child::after {align-self: flex-start;width: 50%;}#sk-container-id-2 div.sk-parallel-item:only-child::after {width: 0;}#sk-container-id-2 div.sk-dashed-wrapped {border: 1px dashed gray;margin: 0 0.4em 0.5em 0.4em;box-sizing: border-box;padding-bottom: 0.4em;background-color: white;}#sk-container-id-2 div.sk-label label {font-family: monospace;font-weight: bold;display: inline-block;line-height: 1.2em;}#sk-container-id-2 div.sk-label-container {text-align: center;}#sk-container-id-2 div.sk-container {/* jupyter's `normalize.less` sets `[hidden] { display: none; }` but bootstrap.min.css set `[hidden] { display: none !important; }` so we also need the `!important` here to be able to override the default hidden behavior on the sphinx rendered scikit-learn.org. See: https://github.com/scikit-learn/scikit-learn/issues/21755 */display: inline-block !important;position: relative;}#sk-container-id-2 div.sk-text-repr-fallback {display: none;}</style><div id=\"sk-container-id-2\" class=\"sk-top-container\"><div class=\"sk-text-repr-fallback\"><pre>RandomForestClassifier(max_depth=5, max_features=None, min_samples_leaf=8,\n",
       "                       min_samples_split=4, n_estimators=154, n_jobs=-1,\n",
       "                       random_state=42)</pre><b>In a Jupyter environment, please rerun this cell to show the HTML representation or trust the notebook. <br />On GitHub, the HTML representation is unable to render, please try loading this page with nbviewer.org.</b></div><div class=\"sk-container\" hidden><div class=\"sk-item\"><div class=\"sk-estimator sk-toggleable\"><input class=\"sk-toggleable__control sk-hidden--visually\" id=\"sk-estimator-id-2\" type=\"checkbox\" checked><label for=\"sk-estimator-id-2\" class=\"sk-toggleable__label sk-toggleable__label-arrow\">RandomForestClassifier</label><div class=\"sk-toggleable__content\"><pre>RandomForestClassifier(max_depth=5, max_features=None, min_samples_leaf=8,\n",
       "                       min_samples_split=4, n_estimators=154, n_jobs=-1,\n",
       "                       random_state=42)</pre></div></div></div></div></div>"
      ],
      "text/plain": [
       "RandomForestClassifier(max_depth=5, max_features=None, min_samples_leaf=8,\n",
       "                       min_samples_split=4, n_estimators=154, n_jobs=-1,\n",
       "                       random_state=42)"
      ]
     },
     "execution_count": 36,
     "metadata": {},
     "output_type": "execute_result"
    }
   ],
   "source": [
    "%%time\n",
    "# инициируем модель LogisticRegression\n",
    "model_rf = RandomForestClassifier(random_state=SEED, \n",
    "                                  n_jobs=-1, \n",
    "                                  n_estimators = 154,\n",
    "                                  criterion = 'gini', \n",
    "                                  max_depth = 5, \n",
    "                                  max_features = None,\n",
    "                                  min_samples_split = 4, \n",
    "                                  min_samples_leaf = 8)\n",
    "\n",
    "model_rf.fit(train_tf_idf, y_train) # обучим модель"
   ]
  },
  {
   "cell_type": "code",
   "execution_count": 37,
   "id": "6a4e230c",
   "metadata": {},
   "outputs": [
    {
     "name": "stdout",
     "output_type": "stream",
     "text": [
      "              precision    recall  f1-score   support\n",
      "\n",
      "           0       0.97      0.73      0.84      3736\n",
      "           1       0.86      0.99      0.92      6236\n",
      "\n",
      "    accuracy                           0.89      9972\n",
      "   macro avg       0.92      0.86      0.88      9972\n",
      "weighted avg       0.90      0.89      0.89      9972\n",
      "\n"
     ]
    }
   ],
   "source": [
    "predict_rf = model_rf.predict(val_tf_idf) # предсказания на валидационной выборке\n",
    "print(classification_report(y_val, predict_rf)) # посчитаем метрику"
   ]
  },
  {
   "cell_type": "markdown",
   "id": "d5a63322",
   "metadata": {},
   "source": [
    "### CatBoostClassifier"
   ]
  },
  {
   "cell_type": "code",
   "execution_count": 38,
   "id": "262a6a99",
   "metadata": {},
   "outputs": [],
   "source": [
    "def objective(trial):    \n",
    "    # Список гиперпараметров для перебора\n",
    "    param = {\n",
    "        'depth': trial.suggest_int('depth', 1, 12),\n",
    "        'boosting_type': trial.suggest_categorical('boosting_type', ['Ordered', 'Plain']),\n",
    "        'bootstrap_type': trial.suggest_categorical('bootstrap_type', ['Bayesian', 'Bernoulli', 'MVS']),\n",
    "        'learning_rate': trial.suggest_float('learning_rate', 0.01, 0.2),\n",
    "        'l2_leaf_reg': trial.suggest_int('l2_leaf_reg', 1, 7),\n",
    "        'iterations': trial.suggest_int('iterations', 100, 500),\n",
    "        'border_count': trial.suggest_int('border_count', 5, 20),\n",
    "        'thread_count': trial.suggest_int('thread_count', 3, 4),\n",
    "        'early_stopping_rounds': trial.suggest_int('early_stopping_rounds', 9, 10),\n",
    "        'random_strength': trial.suggest_float('random_strength', 0.01, 1),\n",
    "        'max_ctr_complexity': trial.suggest_int('max_ctr_complexity', 1, 3)\n",
    "    }\n",
    "                                \n",
    "    # Определяю модель машинного обучения, которой передаются гиперпараметры\n",
    "    estimator = CatBoostClassifier(**param, verbose=False, loss_function='Logloss')\n",
    "\n",
    "    # Добавим пайплайн\n",
    "  \n",
    "    estimator.fit(dense_train, y_train)\n",
    "    \n",
    "    # Вычисляем accuracy_score\n",
    "    \n",
    "    return cross_val_score(estimator, dense_val, y_val, cv=3, scoring= 'accuracy').mean()"
   ]
  },
  {
   "cell_type": "code",
   "execution_count": 39,
   "id": "90024563",
   "metadata": {},
   "outputs": [
    {
     "name": "stdout",
     "output_type": "stream",
     "text": [
      "CPU times: user 5 µs, sys: 2 µs, total: 7 µs\n",
      "Wall time: 12.2 µs\n"
     ]
    }
   ],
   "source": [
    "%%time\n",
    "# Подбираем гиперпараметров\n",
    "#sampler = TPESampler(consider_prior=True, multivariate=True, group=True)\n",
    "#optuna_cbc = optuna.create_study(study_name='CBC', direction=\"maximize\", sampler=sampler)\n",
    "# Запускаем процесс подбора гиперпараметров\n",
    "#optuna_cbc.optimize(objective, n_trials=5, n_jobs=-1, show_progress_bar=True)"
   ]
  },
  {
   "cell_type": "code",
   "execution_count": 40,
   "id": "023425b2",
   "metadata": {},
   "outputs": [],
   "source": [
    "#accuracy = round(optuna_cbc.best_value, 2)\n",
    "#print('CatBoostClassifier accuracy: ', accuracy)\n",
    "#print()\n",
    "#print('Best_params: ', optuna_cbc.best_params)"
   ]
  },
  {
   "cell_type": "code",
   "execution_count": 41,
   "id": "3ef6545c",
   "metadata": {},
   "outputs": [
    {
     "name": "stdout",
     "output_type": "stream",
     "text": [
      "CPU times: user 35.4 s, sys: 598 ms, total: 36 s\n",
      "Wall time: 16.8 s\n"
     ]
    },
    {
     "data": {
      "text/plain": [
       "<catboost.core.CatBoostClassifier at 0x139b1beb0>"
      ]
     },
     "execution_count": 41,
     "metadata": {},
     "output_type": "execute_result"
    }
   ],
   "source": [
    "%%time\n",
    "model_cbc = CatBoostClassifier(random_state=SEED, \n",
    "                               verbose=False, \n",
    "                               loss_function='Logloss',\n",
    "                               depth=2, \n",
    "                               boosting_type='Plain', \n",
    "                               bootstrap_type='MVS', \n",
    "                               learning_rate=0.19252920921465574, \n",
    "                               l2_leaf_reg=1, \n",
    "                               iterations=427, \n",
    "                               border_count=20, \n",
    "                               thread_count=3, \n",
    "                               early_stopping_rounds=10, \n",
    "                               random_strength=0.7681898542822829, \n",
    "                               max_ctr_complexity=2)\n",
    "                              \n",
    "model_cbc.fit(train_tf_idf, y_train) # обучим модель"
   ]
  },
  {
   "cell_type": "code",
   "execution_count": 42,
   "id": "73235d47",
   "metadata": {},
   "outputs": [
    {
     "name": "stdout",
     "output_type": "stream",
     "text": [
      "              precision    recall  f1-score   support\n",
      "\n",
      "           0       0.98      0.95      0.97      3736\n",
      "           1       0.97      0.99      0.98      6236\n",
      "\n",
      "    accuracy                           0.98      9972\n",
      "   macro avg       0.98      0.97      0.97      9972\n",
      "weighted avg       0.98      0.98      0.98      9972\n",
      "\n"
     ]
    }
   ],
   "source": [
    "predict_cbc = model_cbc.predict(val_tf_idf) # предсказания на валидационной выборке\n",
    "print(classification_report(y_val, predict_cbc)) # посчитаем метрику"
   ]
  },
  {
   "cell_type": "markdown",
   "id": "569f070f",
   "metadata": {},
   "source": [
    "##  Bert"
   ]
  },
  {
   "cell_type": "markdown",
   "id": "aa126fe7",
   "metadata": {},
   "source": [
    "### Извлечем эмбеддинги"
   ]
  },
  {
   "cell_type": "code",
   "execution_count": 43,
   "id": "23478308",
   "metadata": {},
   "outputs": [
    {
     "name": "stdout",
     "output_type": "stream",
     "text": [
      "CPU times: user 1.76 s, sys: 2.63 s, total: 4.4 s\n",
      "Wall time: 12.2 s\n"
     ]
    }
   ],
   "source": [
    "%%time\n",
    "# инициируем токинезатор, как обьект класса BertTokenizer и передадим словарь для обучения\n",
    "tokenizer = AutoTokenizer.from_pretrained(model_name)\n",
    "model =  AutoModel.from_pretrained(model_name)"
   ]
  },
  {
   "cell_type": "code",
   "execution_count": 44,
   "id": "59aab5d1",
   "metadata": {},
   "outputs": [],
   "source": [
    "def create_emb_text(data):\n",
    "    \n",
    "    '''\n",
    "    Функция извлечем эмбеддинги для текста. \n",
    "    На вход получает лемматизированный текст.\n",
    "    На выходе векторное представление текста.\n",
    "    '''\n",
    "    \n",
    "    if isinstance(data, str):\n",
    "        encoded_input = tokenizer(\n",
    "            data, padding=True, truncation=True,\n",
    "            max_length=128, return_tensors='pt'\n",
    "        )\n",
    "\n",
    "        with torch.no_grad():\n",
    "            model_output = model(**encoded_input)\n",
    "\n",
    "        token_embeddings = model_output[0]\n",
    "        attention_mask = encoded_input['attention_mask']\n",
    "        input_mask_expanded = attention_mask.unsqueeze(-1).expand(token_embeddings.size()).float()\n",
    "        sum_embeddings = torch.sum(token_embeddings * input_mask_expanded, 1)\n",
    "        sum_mask = torch.clamp(input_mask_expanded.sum(1), min=1e-9)\n",
    "\n",
    "        return (sum_embeddings / sum_mask).numpy()\n",
    "\n",
    "    else:\n",
    "        tokenized = data.apply(\n",
    "            lambda x: tokenizer.encode(x,\n",
    "                                       add_special_tokens=True,\n",
    "                                       truncation=True,\n",
    "                                       max_length=128,\n",
    "                                       )\n",
    "        )\n",
    "\n",
    "        max_len = max([len(x) for x in tokenized])\n",
    "        padded = np.array([i + [0] * (max_len - len(i)) for i in tokenized.values])\n",
    "        attention_mask = np.where(padded != 0, 1, 0)\n",
    "\n",
    "        batch_size = 100\n",
    "        embeddings = []\n",
    "\n",
    "        for i in tqdm(range(padded.shape[0] // batch_size + 1)):\n",
    "            batch = torch.LongTensor(padded[batch_size * i : batch_size * (i + 1)])\n",
    "            attention_mask_batch = torch.LongTensor(\n",
    "                attention_mask[batch_size * i : batch_size * (i + 1)]\n",
    "            )\n",
    "\n",
    "            with torch.no_grad():\n",
    "                batch_embeddings = model(batch, attention_mask=attention_mask_batch)\n",
    "            embeddings.append(batch_embeddings[0][:,0,:].numpy())\n",
    "\n",
    "        return embeddings"
   ]
  },
  {
   "cell_type": "code",
   "execution_count": 45,
   "id": "3b0c4067",
   "metadata": {},
   "outputs": [],
   "source": [
    "# так как процесс извлечения эмбеддингов занимает много времени, записала эмбединги в отдельный файл\n",
    "\n",
    "try:\n",
    "    bert_embeddings = pd.read_csv(bert_embeddings)\n",
    "except: \n",
    "    emb = create_emb_text(df_train['lemm_text']) #запишем вектор признака в переменную\n",
    "    emb_bert = np.concatenate(emb) \n",
    "    bert_embeddings = pd.DataFrame(emb_bert)"
   ]
  },
  {
   "cell_type": "code",
   "execution_count": 46,
   "id": "d8a2409d",
   "metadata": {},
   "outputs": [],
   "source": [
    "df_train.reset_index(inplace=True)"
   ]
  },
  {
   "cell_type": "markdown",
   "id": "cf99bacf",
   "metadata": {},
   "source": [
    "### Разделим выборку на тренировочную и валидационную"
   ]
  },
  {
   "cell_type": "code",
   "execution_count": 47,
   "id": "f7d92cd5",
   "metadata": {},
   "outputs": [],
   "source": [
    "X_train_bert, X_val_bert, y_train_bert, y_val_bert = train_test_split(bert_embeddings,\n",
    "                                                                      df_train['target'],                      \n",
    "                                                                      test_size=0.25, \n",
    "                                                                      random_state=SEED,\n",
    "                                                                      stratify=df_train['target'])"
   ]
  },
  {
   "cell_type": "code",
   "execution_count": 48,
   "id": "5055ebcf",
   "metadata": {},
   "outputs": [],
   "source": [
    "X_train_bert.drop(['Unnamed: 0'], axis=1, inplace=True)\n",
    "X_val_bert.drop(['Unnamed: 0'], axis=1, inplace=True)"
   ]
  },
  {
   "cell_type": "code",
   "execution_count": 49,
   "id": "732f7e2b",
   "metadata": {},
   "outputs": [
    {
     "name": "stdout",
     "output_type": "stream",
     "text": [
      "(29915, 768)\n",
      "(29915,)\n",
      "(9972, 768)\n",
      "(9972, 768)\n"
     ]
    }
   ],
   "source": [
    "# проверим размерность\n",
    "\n",
    "print(X_train_bert.shape)\n",
    "print(y_train_bert.shape)\n",
    "print(X_val_bert.shape)\n",
    "print(X_val_bert.shape)"
   ]
  },
  {
   "cell_type": "markdown",
   "id": "52d3ee25",
   "metadata": {},
   "source": [
    "### Обучим модель LogisticRegression"
   ]
  },
  {
   "cell_type": "code",
   "execution_count": 50,
   "id": "e805781e",
   "metadata": {},
   "outputs": [
    {
     "name": "stderr",
     "output_type": "stream",
     "text": [
      "/Users/tanya/anaconda3/envs/practicum/lib/python3.9/site-packages/sklearn/linear_model/_logistic.py:460: ConvergenceWarning: lbfgs failed to converge (status=1):\n",
      "STOP: TOTAL NO. of ITERATIONS REACHED LIMIT.\n",
      "\n",
      "Increase the number of iterations (max_iter) or scale the data as shown in:\n",
      "    https://scikit-learn.org/stable/modules/preprocessing.html\n",
      "Please also refer to the documentation for alternative solver options:\n",
      "    https://scikit-learn.org/stable/modules/linear_model.html#logistic-regression\n",
      "  n_iter_i = _check_optimize_result(\n"
     ]
    },
    {
     "data": {
      "text/html": [
       "<style>#sk-container-id-3 {color: black;}#sk-container-id-3 pre{padding: 0;}#sk-container-id-3 div.sk-toggleable {background-color: white;}#sk-container-id-3 label.sk-toggleable__label {cursor: pointer;display: block;width: 100%;margin-bottom: 0;padding: 0.3em;box-sizing: border-box;text-align: center;}#sk-container-id-3 label.sk-toggleable__label-arrow:before {content: \"▸\";float: left;margin-right: 0.25em;color: #696969;}#sk-container-id-3 label.sk-toggleable__label-arrow:hover:before {color: black;}#sk-container-id-3 div.sk-estimator:hover label.sk-toggleable__label-arrow:before {color: black;}#sk-container-id-3 div.sk-toggleable__content {max-height: 0;max-width: 0;overflow: hidden;text-align: left;background-color: #f0f8ff;}#sk-container-id-3 div.sk-toggleable__content pre {margin: 0.2em;color: black;border-radius: 0.25em;background-color: #f0f8ff;}#sk-container-id-3 input.sk-toggleable__control:checked~div.sk-toggleable__content {max-height: 200px;max-width: 100%;overflow: auto;}#sk-container-id-3 input.sk-toggleable__control:checked~label.sk-toggleable__label-arrow:before {content: \"▾\";}#sk-container-id-3 div.sk-estimator input.sk-toggleable__control:checked~label.sk-toggleable__label {background-color: #d4ebff;}#sk-container-id-3 div.sk-label input.sk-toggleable__control:checked~label.sk-toggleable__label {background-color: #d4ebff;}#sk-container-id-3 input.sk-hidden--visually {border: 0;clip: rect(1px 1px 1px 1px);clip: rect(1px, 1px, 1px, 1px);height: 1px;margin: -1px;overflow: hidden;padding: 0;position: absolute;width: 1px;}#sk-container-id-3 div.sk-estimator {font-family: monospace;background-color: #f0f8ff;border: 1px dotted black;border-radius: 0.25em;box-sizing: border-box;margin-bottom: 0.5em;}#sk-container-id-3 div.sk-estimator:hover {background-color: #d4ebff;}#sk-container-id-3 div.sk-parallel-item::after {content: \"\";width: 100%;border-bottom: 1px solid gray;flex-grow: 1;}#sk-container-id-3 div.sk-label:hover label.sk-toggleable__label {background-color: #d4ebff;}#sk-container-id-3 div.sk-serial::before {content: \"\";position: absolute;border-left: 1px solid gray;box-sizing: border-box;top: 0;bottom: 0;left: 50%;z-index: 0;}#sk-container-id-3 div.sk-serial {display: flex;flex-direction: column;align-items: center;background-color: white;padding-right: 0.2em;padding-left: 0.2em;position: relative;}#sk-container-id-3 div.sk-item {position: relative;z-index: 1;}#sk-container-id-3 div.sk-parallel {display: flex;align-items: stretch;justify-content: center;background-color: white;position: relative;}#sk-container-id-3 div.sk-item::before, #sk-container-id-3 div.sk-parallel-item::before {content: \"\";position: absolute;border-left: 1px solid gray;box-sizing: border-box;top: 0;bottom: 0;left: 50%;z-index: -1;}#sk-container-id-3 div.sk-parallel-item {display: flex;flex-direction: column;z-index: 1;position: relative;background-color: white;}#sk-container-id-3 div.sk-parallel-item:first-child::after {align-self: flex-end;width: 50%;}#sk-container-id-3 div.sk-parallel-item:last-child::after {align-self: flex-start;width: 50%;}#sk-container-id-3 div.sk-parallel-item:only-child::after {width: 0;}#sk-container-id-3 div.sk-dashed-wrapped {border: 1px dashed gray;margin: 0 0.4em 0.5em 0.4em;box-sizing: border-box;padding-bottom: 0.4em;background-color: white;}#sk-container-id-3 div.sk-label label {font-family: monospace;font-weight: bold;display: inline-block;line-height: 1.2em;}#sk-container-id-3 div.sk-label-container {text-align: center;}#sk-container-id-3 div.sk-container {/* jupyter's `normalize.less` sets `[hidden] { display: none; }` but bootstrap.min.css set `[hidden] { display: none !important; }` so we also need the `!important` here to be able to override the default hidden behavior on the sphinx rendered scikit-learn.org. See: https://github.com/scikit-learn/scikit-learn/issues/21755 */display: inline-block !important;position: relative;}#sk-container-id-3 div.sk-text-repr-fallback {display: none;}</style><div id=\"sk-container-id-3\" class=\"sk-top-container\"><div class=\"sk-text-repr-fallback\"><pre>LogisticRegression(C=5, max_iter=1000, n_jobs=-1, random_state=42)</pre><b>In a Jupyter environment, please rerun this cell to show the HTML representation or trust the notebook. <br />On GitHub, the HTML representation is unable to render, please try loading this page with nbviewer.org.</b></div><div class=\"sk-container\" hidden><div class=\"sk-item\"><div class=\"sk-estimator sk-toggleable\"><input class=\"sk-toggleable__control sk-hidden--visually\" id=\"sk-estimator-id-3\" type=\"checkbox\" checked><label for=\"sk-estimator-id-3\" class=\"sk-toggleable__label sk-toggleable__label-arrow\">LogisticRegression</label><div class=\"sk-toggleable__content\"><pre>LogisticRegression(C=5, max_iter=1000, n_jobs=-1, random_state=42)</pre></div></div></div></div></div>"
      ],
      "text/plain": [
       "LogisticRegression(C=5, max_iter=1000, n_jobs=-1, random_state=42)"
      ]
     },
     "execution_count": 50,
     "metadata": {},
     "output_type": "execute_result"
    }
   ],
   "source": [
    "%%time\n",
    "# инициируем модеь\n",
    "model_lr = LogisticRegression(C=5, \\\n",
    "                                    solver='lbfgs', \n",
    "                                    max_iter=1000,\n",
    "                                    n_jobs=-1,\n",
    "                                    random_state=SEED)\n",
    "\n",
    "model_lr.fit(X_train_bert, y_train_bert) # обучим модель"
   ]
  },
  {
   "cell_type": "code",
   "execution_count": 51,
   "id": "e5fe202b",
   "metadata": {},
   "outputs": [
    {
     "name": "stdout",
     "output_type": "stream",
     "text": [
      "              precision    recall  f1-score   support\n",
      "\n",
      "           0       0.98      0.98      0.98      3736\n",
      "           1       0.99      0.99      0.99      6236\n",
      "\n",
      "    accuracy                           0.98      9972\n",
      "   macro avg       0.98      0.98      0.98      9972\n",
      "weighted avg       0.98      0.98      0.98      9972\n",
      "\n"
     ]
    }
   ],
   "source": [
    "predict_lr_bert = model_lr.predict(X_val_bert) # предсказания на валидационной выборке\n",
    "print(classification_report(y_val_bert, predict_lr_bert)) # посчитаем метрику"
   ]
  },
  {
   "cell_type": "markdown",
   "id": "b364a893",
   "metadata": {},
   "source": [
    "### Обучим модель RandomForestClassifier"
   ]
  },
  {
   "cell_type": "code",
   "execution_count": 52,
   "id": "15293733",
   "metadata": {},
   "outputs": [
    {
     "name": "stdout",
     "output_type": "stream",
     "text": [
      "CPU times: user 1h 4min 23s, sys: 14.3 s, total: 1h 4min 37s\n",
      "Wall time: 20min 1s\n"
     ]
    },
    {
     "data": {
      "text/html": [
       "<style>#sk-container-id-4 {color: black;}#sk-container-id-4 pre{padding: 0;}#sk-container-id-4 div.sk-toggleable {background-color: white;}#sk-container-id-4 label.sk-toggleable__label {cursor: pointer;display: block;width: 100%;margin-bottom: 0;padding: 0.3em;box-sizing: border-box;text-align: center;}#sk-container-id-4 label.sk-toggleable__label-arrow:before {content: \"▸\";float: left;margin-right: 0.25em;color: #696969;}#sk-container-id-4 label.sk-toggleable__label-arrow:hover:before {color: black;}#sk-container-id-4 div.sk-estimator:hover label.sk-toggleable__label-arrow:before {color: black;}#sk-container-id-4 div.sk-toggleable__content {max-height: 0;max-width: 0;overflow: hidden;text-align: left;background-color: #f0f8ff;}#sk-container-id-4 div.sk-toggleable__content pre {margin: 0.2em;color: black;border-radius: 0.25em;background-color: #f0f8ff;}#sk-container-id-4 input.sk-toggleable__control:checked~div.sk-toggleable__content {max-height: 200px;max-width: 100%;overflow: auto;}#sk-container-id-4 input.sk-toggleable__control:checked~label.sk-toggleable__label-arrow:before {content: \"▾\";}#sk-container-id-4 div.sk-estimator input.sk-toggleable__control:checked~label.sk-toggleable__label {background-color: #d4ebff;}#sk-container-id-4 div.sk-label input.sk-toggleable__control:checked~label.sk-toggleable__label {background-color: #d4ebff;}#sk-container-id-4 input.sk-hidden--visually {border: 0;clip: rect(1px 1px 1px 1px);clip: rect(1px, 1px, 1px, 1px);height: 1px;margin: -1px;overflow: hidden;padding: 0;position: absolute;width: 1px;}#sk-container-id-4 div.sk-estimator {font-family: monospace;background-color: #f0f8ff;border: 1px dotted black;border-radius: 0.25em;box-sizing: border-box;margin-bottom: 0.5em;}#sk-container-id-4 div.sk-estimator:hover {background-color: #d4ebff;}#sk-container-id-4 div.sk-parallel-item::after {content: \"\";width: 100%;border-bottom: 1px solid gray;flex-grow: 1;}#sk-container-id-4 div.sk-label:hover label.sk-toggleable__label {background-color: #d4ebff;}#sk-container-id-4 div.sk-serial::before {content: \"\";position: absolute;border-left: 1px solid gray;box-sizing: border-box;top: 0;bottom: 0;left: 50%;z-index: 0;}#sk-container-id-4 div.sk-serial {display: flex;flex-direction: column;align-items: center;background-color: white;padding-right: 0.2em;padding-left: 0.2em;position: relative;}#sk-container-id-4 div.sk-item {position: relative;z-index: 1;}#sk-container-id-4 div.sk-parallel {display: flex;align-items: stretch;justify-content: center;background-color: white;position: relative;}#sk-container-id-4 div.sk-item::before, #sk-container-id-4 div.sk-parallel-item::before {content: \"\";position: absolute;border-left: 1px solid gray;box-sizing: border-box;top: 0;bottom: 0;left: 50%;z-index: -1;}#sk-container-id-4 div.sk-parallel-item {display: flex;flex-direction: column;z-index: 1;position: relative;background-color: white;}#sk-container-id-4 div.sk-parallel-item:first-child::after {align-self: flex-end;width: 50%;}#sk-container-id-4 div.sk-parallel-item:last-child::after {align-self: flex-start;width: 50%;}#sk-container-id-4 div.sk-parallel-item:only-child::after {width: 0;}#sk-container-id-4 div.sk-dashed-wrapped {border: 1px dashed gray;margin: 0 0.4em 0.5em 0.4em;box-sizing: border-box;padding-bottom: 0.4em;background-color: white;}#sk-container-id-4 div.sk-label label {font-family: monospace;font-weight: bold;display: inline-block;line-height: 1.2em;}#sk-container-id-4 div.sk-label-container {text-align: center;}#sk-container-id-4 div.sk-container {/* jupyter's `normalize.less` sets `[hidden] { display: none; }` but bootstrap.min.css set `[hidden] { display: none !important; }` so we also need the `!important` here to be able to override the default hidden behavior on the sphinx rendered scikit-learn.org. See: https://github.com/scikit-learn/scikit-learn/issues/21755 */display: inline-block !important;position: relative;}#sk-container-id-4 div.sk-text-repr-fallback {display: none;}</style><div id=\"sk-container-id-4\" class=\"sk-top-container\"><div class=\"sk-text-repr-fallback\"><pre>RandomForestClassifier(max_depth=5, max_features=None, min_samples_leaf=8,\n",
       "                       min_samples_split=4, n_estimators=154, n_jobs=-1,\n",
       "                       random_state=42)</pre><b>In a Jupyter environment, please rerun this cell to show the HTML representation or trust the notebook. <br />On GitHub, the HTML representation is unable to render, please try loading this page with nbviewer.org.</b></div><div class=\"sk-container\" hidden><div class=\"sk-item\"><div class=\"sk-estimator sk-toggleable\"><input class=\"sk-toggleable__control sk-hidden--visually\" id=\"sk-estimator-id-4\" type=\"checkbox\" checked><label for=\"sk-estimator-id-4\" class=\"sk-toggleable__label sk-toggleable__label-arrow\">RandomForestClassifier</label><div class=\"sk-toggleable__content\"><pre>RandomForestClassifier(max_depth=5, max_features=None, min_samples_leaf=8,\n",
       "                       min_samples_split=4, n_estimators=154, n_jobs=-1,\n",
       "                       random_state=42)</pre></div></div></div></div></div>"
      ],
      "text/plain": [
       "RandomForestClassifier(max_depth=5, max_features=None, min_samples_leaf=8,\n",
       "                       min_samples_split=4, n_estimators=154, n_jobs=-1,\n",
       "                       random_state=42)"
      ]
     },
     "execution_count": 52,
     "metadata": {},
     "output_type": "execute_result"
    }
   ],
   "source": [
    "%%time\n",
    "# инициируем модель LogisticRegression\n",
    "model_rf = RandomForestClassifier(random_state=SEED, \n",
    "                                  n_jobs=-1, \n",
    "                                  n_estimators = 154,\n",
    "                                  criterion = 'gini', \n",
    "                                  max_depth = 5, \n",
    "                                  max_features = None,\n",
    "                                  min_samples_split = 4, \n",
    "                                  min_samples_leaf = 8)\n",
    "\n",
    "model_rf.fit(X_train_bert, y_train_bert) # обучим модель"
   ]
  },
  {
   "cell_type": "code",
   "execution_count": 53,
   "id": "d156e3be",
   "metadata": {},
   "outputs": [
    {
     "name": "stdout",
     "output_type": "stream",
     "text": [
      "              precision    recall  f1-score   support\n",
      "\n",
      "           0       0.89      0.90      0.90      3736\n",
      "           1       0.94      0.93      0.94      6236\n",
      "\n",
      "    accuracy                           0.92      9972\n",
      "   macro avg       0.92      0.92      0.92      9972\n",
      "weighted avg       0.92      0.92      0.92      9972\n",
      "\n"
     ]
    }
   ],
   "source": [
    "predict_rf_bert = model_rf.predict(X_val_bert) # предсказания на валидационной выборке\n",
    "print(classification_report(y_val_bert, predict_rf_bert)) # посчитаем метрику"
   ]
  },
  {
   "cell_type": "markdown",
   "id": "01e6ef88",
   "metadata": {},
   "source": [
    "### Обучим модель CatBoostClassifier"
   ]
  },
  {
   "cell_type": "code",
   "execution_count": 56,
   "id": "8c56dd3f",
   "metadata": {},
   "outputs": [
    {
     "name": "stdout",
     "output_type": "stream",
     "text": [
      "CPU times: user 39.5 s, sys: 239 ms, total: 39.7 s\n",
      "Wall time: 14.5 s\n"
     ]
    },
    {
     "data": {
      "text/plain": [
       "<catboost.core.CatBoostClassifier at 0x1357ff400>"
      ]
     },
     "execution_count": 56,
     "metadata": {},
     "output_type": "execute_result"
    }
   ],
   "source": [
    "%%time\n",
    "model_cbc = CatBoostClassifier(random_state=SEED, \n",
    "                               verbose=False, \n",
    "                               loss_function='Logloss',\n",
    "                               depth=2, \n",
    "                               boosting_type='Plain', \n",
    "                               bootstrap_type='MVS', \n",
    "                               learning_rate=0.19252920921465574, \n",
    "                               l2_leaf_reg=1, \n",
    "                               iterations=427, \n",
    "                               border_count=20, \n",
    "                               thread_count=3, \n",
    "                               early_stopping_rounds=10, \n",
    "                               random_strength=0.7681898542822829, \n",
    "                               max_ctr_complexity=2)\n",
    "\n",
    "model_cbc.fit(X_train_bert, y_train_bert) # обучим модель"
   ]
  },
  {
   "cell_type": "code",
   "execution_count": 57,
   "id": "6764373e",
   "metadata": {},
   "outputs": [
    {
     "name": "stdout",
     "output_type": "stream",
     "text": [
      "              precision    recall  f1-score   support\n",
      "\n",
      "           0       0.98      0.98      0.98      3736\n",
      "           1       0.99      0.99      0.99      6236\n",
      "\n",
      "    accuracy                           0.98      9972\n",
      "   macro avg       0.98      0.98      0.98      9972\n",
      "weighted avg       0.98      0.98      0.98      9972\n",
      "\n"
     ]
    }
   ],
   "source": [
    "predict_cbc_bert = model_cbc.predict(X_val_bert) # предсказания на валидационной выборке\n",
    "print(classification_report(y_val_bert, predict_cbc_bert)) # посчитаем метрику"
   ]
  },
  {
   "cell_type": "markdown",
   "id": "79408435",
   "metadata": {},
   "source": [
    "##  Итог"
   ]
  },
  {
   "cell_type": "markdown",
   "id": "a730fe63",
   "metadata": {},
   "source": [
    "### Соберем все в одну таблицу"
   ]
  },
  {
   "cell_type": "code",
   "execution_count": 58,
   "id": "af7bee17",
   "metadata": {},
   "outputs": [
    {
     "data": {
      "text/html": [
       "<div>\n",
       "<style scoped>\n",
       "    .dataframe tbody tr th:only-of-type {\n",
       "        vertical-align: middle;\n",
       "    }\n",
       "\n",
       "    .dataframe tbody tr th {\n",
       "        vertical-align: top;\n",
       "    }\n",
       "\n",
       "    .dataframe thead th {\n",
       "        text-align: right;\n",
       "    }\n",
       "</style>\n",
       "<table border=\"1\" class=\"dataframe\">\n",
       "  <thead>\n",
       "    <tr style=\"text-align: right;\">\n",
       "      <th></th>\n",
       "      <th>Model</th>\n",
       "      <th>accuracy</th>\n",
       "    </tr>\n",
       "  </thead>\n",
       "  <tbody>\n",
       "    <tr>\n",
       "      <th>0</th>\n",
       "      <td>LogisticRegression + TFIDF</td>\n",
       "      <td>0.99</td>\n",
       "    </tr>\n",
       "    <tr>\n",
       "      <th>1</th>\n",
       "      <td>RandomForestClassifier + TFIDF</td>\n",
       "      <td>0.89</td>\n",
       "    </tr>\n",
       "    <tr>\n",
       "      <th>2</th>\n",
       "      <td>CatBoostClassifier + TFIDF</td>\n",
       "      <td>0.98</td>\n",
       "    </tr>\n",
       "    <tr>\n",
       "      <th>3</th>\n",
       "      <td>LogisticRegression + BERT</td>\n",
       "      <td>0.98</td>\n",
       "    </tr>\n",
       "    <tr>\n",
       "      <th>4</th>\n",
       "      <td>RandomForestClassifier + BERT</td>\n",
       "      <td>0.92</td>\n",
       "    </tr>\n",
       "    <tr>\n",
       "      <th>5</th>\n",
       "      <td>CatBoostClassifier + BERT</td>\n",
       "      <td>0.98</td>\n",
       "    </tr>\n",
       "  </tbody>\n",
       "</table>\n",
       "</div>"
      ],
      "text/plain": [
       "                            Model  accuracy\n",
       "0      LogisticRegression + TFIDF      0.99\n",
       "1  RandomForestClassifier + TFIDF      0.89\n",
       "2      CatBoostClassifier + TFIDF      0.98\n",
       "3       LogisticRegression + BERT      0.98\n",
       "4   RandomForestClassifier + BERT      0.92\n",
       "5       CatBoostClassifier + BERT      0.98"
      ]
     },
     "metadata": {},
     "output_type": "display_data"
    }
   ],
   "source": [
    "# соберем результаты в таблицу\n",
    "model_name = ['LogisticRegression + TFIDF',\\\n",
    "              'RandomForestClassifier + TFIDF', \n",
    "              'CatBoostClassifier + TFIDF',\n",
    "              'LogisticRegression + BERT',\n",
    "              'RandomForestClassifier + BERT', \n",
    "              'CatBoostClassifier + BERT']\n",
    "\n",
    "accuracy = [round(accuracy_score(y_val, predict_lr), 2), \n",
    "            round(accuracy_score(y_val, predict_rf), 2), \n",
    "            round(accuracy_score(y_val, predict_cbc), 2), \n",
    "            round(accuracy_score(y_val_bert, predict_lr_bert), 2), \n",
    "            round(accuracy_score(y_val_bert, predict_rf_bert), 2), \n",
    "            round(accuracy_score(y_val_bert, predict_cbc_bert), 2)]\n",
    "\n",
    "result = pd.DataFrame({'Model': model_name,\n",
    "                        'accuracy': accuracy})\n",
    "display(result)"
   ]
  },
  {
   "cell_type": "markdown",
   "id": "90f47021",
   "metadata": {},
   "source": [
    "__Вывод:__ \n",
    "\n",
    "Нами была протестированная модель LogisticRegression, RandomForestClassifier, CatBoostClassifier на данных с векторизацией текста двумя способами TfidfVectorizer и  BertTokenizer. С помощью optuna подобрали параметры для обучения.\n",
    "\n",
    "Лучше всего тебя показала модель LogisticRegression с векторизацией текста TfidfVectorizer. Удалось добиться метрики accuracy=0.99. Рекомендую ее использовать в дальнейшем для классификации задач. Так же время затраченное на работу этой модели оказалось самым минимальным."
   ]
  },
  {
   "cell_type": "markdown",
   "id": "051af67c",
   "metadata": {},
   "source": [
    "### Физика"
   ]
  },
  {
   "cell_type": "code",
   "execution_count": null,
   "id": "7982fd70",
   "metadata": {},
   "outputs": [],
   "source": []
  }
 ],
 "metadata": {
  "kernelspec": {
   "display_name": "Python 3 (ipykernel)",
   "language": "python",
   "name": "python3"
  },
  "language_info": {
   "codemirror_mode": {
    "name": "ipython",
    "version": 3
   },
   "file_extension": ".py",
   "mimetype": "text/x-python",
   "name": "python",
   "nbconvert_exporter": "python",
   "pygments_lexer": "ipython3",
   "version": "3.9.16"
  },
  "toc": {
   "base_numbering": 1,
   "nav_menu": {},
   "number_sections": true,
   "sideBar": true,
   "skip_h1_title": true,
   "title_cell": "Table of Contents",
   "title_sidebar": "Contents",
   "toc_cell": true,
   "toc_position": {},
   "toc_section_display": true,
   "toc_window_display": false
  }
 },
 "nbformat": 4,
 "nbformat_minor": 5
}
